{
 "cells": [
  {
   "cell_type": "markdown",
   "metadata": {},
   "source": [
    "The vanishing gradient problem: cumulative back-propagated error signals either shrink rapidly, or grow out of bounds. They decay exponentially in the number of layers, or they explode. The result is that the final trained network converges to a poor local minimum."
   ]
  },
  {
   "cell_type": "markdown",
   "metadata": {},
   "source": [
    "Activation (non-linear) functions that do not saturate:"
   ]
  },
  {
   "cell_type": "markdown",
   "metadata": {},
   "source": [
    "   Rectifier Linear Unit, ReLU: $y=max(0,x)$, $y \\in [0,\\infty]$, learning rate $\\alpha \\rightarrow 0$"
   ]
  },
  {
   "cell_type": "markdown",
   "metadata": {},
   "source": [
    "Leaky ReLU: $y=max(s·x,x)$ , typically $s=0.01$"
   ]
  },
  {
   "cell_type": "markdown",
   "metadata": {},
   "source": [
    "Exponential Linear Unit, ELU: $y=s(e^{x}-1$), usually $s=1$. if $s=1$, then $y \\in [-1,\\infty]$ "
   ]
  },
  {
   "cell_type": "markdown",
   "metadata": {},
   "source": [
    "# Reading data"
   ]
  },
  {
   "cell_type": "markdown",
   "metadata": {},
   "source": [
    "Same function as previous examples:"
   ]
  },
  {
   "cell_type": "code",
   "execution_count": 1,
   "metadata": {},
   "outputs": [],
   "source": [
    "from __future__ import print_function\n",
    "import numpy as np\n",
    "import tensorflow as tf\n",
    "from six.moves import cPickle as pickle\n",
    "from sklearn.preprocessing import OneHotEncoder\n",
    "from time import time"
   ]
  },
  {
   "cell_type": "code",
   "execution_count": 2,
   "metadata": {},
   "outputs": [],
   "source": [
    "import pandas as pd\n",
    "import matplotlib as mpl\n",
    "import matplotlib.pyplot as plt\n",
    "%matplotlib inline"
   ]
  },
  {
   "cell_type": "code",
   "execution_count": 3,
   "metadata": {},
   "outputs": [],
   "source": [
    "file_name = \"notMNIST.pickle\"\n",
    "def make_datasets (file, n_training_samples=0, n_dev_samples=0, \n",
    "                   n_testing_samples=0, one_hot=False):\n",
    "    with open (file,'rb') as f:\n",
    "        dataset = pickle.load(f)\n",
    "        f.close\n",
    "\n",
    "    train_dataset = dataset['train_dataset']\n",
    "    train_labels = dataset['train_labels']\n",
    "    dev_dataset = dataset['valid_dataset']\n",
    "    dev_labels = dataset['valid_labels']\n",
    "    test_dataset = dataset['test_dataset']\n",
    "    test_labels = dataset['test_labels']\n",
    "\n",
    "    #Prepare training, dev (validation) and final testing data. \n",
    "    #It has to be reshaped since (n_samples, n_fatures) are expected\n",
    "\n",
    "    all_training_samples, width, height = train_dataset.shape\n",
    "    train_attributes = np.reshape(train_dataset, (all_training_samples, \n",
    "                                                  width * height))\n",
    "    if (n_training_samples != 0):\n",
    "        train_attributes = train_attributes[0:n_training_samples]\n",
    "        train_labels = train_labels[0:n_training_samples]\n",
    "\n",
    "    all_dev_samples, width, height = dev_dataset.shape\n",
    "    dev_attributes = np.reshape(dev_dataset,\n",
    "                                       (all_dev_samples, width * height))\n",
    "    if (n_dev_samples != 0):\n",
    "        dev_attributes = dev_attributes[0:n_dev_samples]\n",
    "        dev_labels = dev_labels[0:n_dev_samples]\n",
    "\n",
    "    all_testing_samples, width, height = test_dataset.shape\n",
    "    test_attributes = np.reshape(test_dataset, (all_testing_samples, width * height))\n",
    "    if (n_testing_samples != 0):\n",
    "        test_attributes = test_attributes[0:n_testing_samples]\n",
    "        test_labels = test_labels[0:n_testing_samples]\n",
    "\n",
    "    # If one-hot encoding is requested, then funtion OneHotEcoding \n",
    "    # from SciKit-Learn is called    \n",
    "    if one_hot:\n",
    "        enc = OneHotEncoder(sparse=False)\n",
    "        # Labels are one-dimensional vectors, \n",
    "        # and are reshaped to matrices of one column\n",
    "        train_labels = enc.fit_transform(train_labels.reshape(len(train_labels),1))\n",
    "        dev_labels = enc.fit_transform(dev_labels.reshape(len(dev_labels), 1))\n",
    "        test_labels = enc.fit_transform(test_labels.reshape(len(test_labels), 1))\n",
    "\n",
    "    return (train_attributes, train_labels, dev_attributes, \n",
    "            dev_labels, test_attributes, test_labels)"
   ]
  },
  {
   "cell_type": "code",
   "execution_count": 4,
   "metadata": {},
   "outputs": [],
   "source": [
    "#EDITED TO REFLECT THE ASSIGNMENT SPECS\n",
    "NUM_TRAINING_SAMPLES = 10000\n",
    "NUM_DEV_SAMPLES = 1000\n",
    "NUM_TESTING_SAMPLES = 1000"
   ]
  },
  {
   "cell_type": "code",
   "execution_count": 5,
   "metadata": {},
   "outputs": [],
   "source": [
    "x_train, y_train, x_dev, y_dev, x_test, y_test = make_datasets(file_name, \n",
    "                                 n_training_samples=NUM_TRAINING_SAMPLES,\n",
    "                                 n_dev_samples=NUM_DEV_SAMPLES, \n",
    "                                 n_testing_samples=NUM_TESTING_SAMPLES,\n",
    "                                 one_hot=True)"
   ]
  },
  {
   "cell_type": "markdown",
   "metadata": {},
   "source": [
    "# Building the 28x28-300-200-100-10 deep neural network"
   ]
  },
  {
   "cell_type": "markdown",
   "metadata": {},
   "source": [
    "Hyper-paramenters configuration:"
   ]
  },
  {
   "cell_type": "code",
   "execution_count": 14,
   "metadata": {},
   "outputs": [],
   "source": [
    "n_epochs = 10000\n",
    "epochs_to_display = 200\n",
    "batch_size = 200\n",
    "learning_rate = 0.01\n",
    "\n",
    "TOT_EPOCS=10000\n",
    "\n",
    "n_inputs = len(x_train[0])\n",
    "n_hidden1 = 300\n",
    "n_hidden2 = 200\n",
    "n_hidden3 = 100\n",
    "n_outputs = len(y_train[0])"
   ]
  },
  {
   "cell_type": "markdown",
   "metadata": {},
   "source": [
    "First, the input __X__ and target __t__ matrices are defined as placeholders:"
   ]
  },
  {
   "cell_type": "code",
   "execution_count": 7,
   "metadata": {},
   "outputs": [],
   "source": [
    "with tf.name_scope(\"io\"):\n",
    "    X = tf.placeholder(dtype=tf.float32, shape=(None,n_inputs), name=\"X\")\n",
    "    t = tf.placeholder(dtype=tf.float32, shape=(None,n_outputs), name=\"t\")"
   ]
  },
  {
   "cell_type": "markdown",
   "metadata": {},
   "source": [
    "Then, the neural network topology is defined: A full-connected 28x28-300-200-100-10 deep neural network. Note that ReLU is the activation function for the hidden layers, and linear logits with softmax for the output. net_out represents the logits of the output layer."
   ]
  },
  {
   "cell_type": "code",
   "execution_count": 8,
   "metadata": {},
   "outputs": [],
   "source": [
    "with tf.name_scope(\"dnn\"):\n",
    "    hidden1 = tf.layers.dense(X, n_hidden1, activation=tf.nn.relu, name=\"hidden1\")\n",
    "    hidden2 = tf.layers.dense(hidden1, n_hidden2, activation=tf.nn.relu, name=\"hidden2\")\n",
    "    hidden3 = tf.layers.dense(hidden2, n_hidden3, activation=tf.nn.relu, name=\"hidden3\")\n",
    "    net_out = tf.layers.dense(hidden3, n_outputs, name=\"net_out\")\n",
    "    y = tf.nn.softmax(logits=net_out, name=\"y\")\n",
    "    rounded_y = tf.round(y)"
   ]
  },
  {
   "cell_type": "markdown",
   "metadata": {},
   "source": [
    "# Loss and cost functions with cross entropy and log-loss"
   ]
  },
  {
   "cell_type": "code",
   "execution_count": 9,
   "metadata": {},
   "outputs": [
    {
     "name": "stdout",
     "output_type": "stream",
     "text": [
      "WARNING:tensorflow:From <ipython-input-9-b4b229523c05>:2: softmax_cross_entropy_with_logits (from tensorflow.python.ops.nn_ops) is deprecated and will be removed in a future version.\n",
      "Instructions for updating:\n",
      "\n",
      "Future major versions of TensorFlow will allow gradients to flow\n",
      "into the labels input on backprop by default.\n",
      "\n",
      "See tf.nn.softmax_cross_entropy_with_logits_v2.\n",
      "\n"
     ]
    }
   ],
   "source": [
    "with tf.name_scope(\"loss\"):\n",
    "    cross_entropy = tf.nn.softmax_cross_entropy_with_logits(labels=t, logits=net_out)\n",
    "    mean_log_loss = tf.reduce_mean(cross_entropy, name=\"mean_loss\")"
   ]
  },
  {
   "cell_type": "markdown",
   "metadata": {},
   "source": [
    "# Defining the learning algorithm: gradient descent with back-prop"
   ]
  },
  {
   "cell_type": "code",
   "execution_count": 10,
   "metadata": {},
   "outputs": [],
   "source": [
    "train_step = tf.train.GradientDescentOptimizer(learning_rate).minimize(mean_log_loss)"
   ]
  },
  {
   "cell_type": "markdown",
   "metadata": {},
   "source": [
    "# Evaluating the model"
   ]
  },
  {
   "cell_type": "code",
   "execution_count": 11,
   "metadata": {},
   "outputs": [],
   "source": [
    "correct_predictions = tf.equal(tf.argmax(y, 1), tf.argmax(t, 1))\n",
    "accuracy = tf.reduce_mean(tf.cast(correct_predictions,tf.float32))"
   ]
  },
  {
   "cell_type": "markdown",
   "metadata": {},
   "source": [
    "# Modifications"
   ]
  },
  {
   "cell_type": "markdown",
   "metadata": {},
   "source": [
    "## Optimization Algorithms\n",
    "\n",
    "First question we should ask ourself, is the bias low-enough?\n",
    "Right now the difference between train error and human error (supposed to be 0 in this example) is roughly 3%. We have no measure to define if this is low or high given that we have no definitive threshold.\n",
    "\n",
    "What we can do is trying to change optimization method in order to lower the number of epocs needed for the full training. We think that doing this now will give us more chances to try different strategies for variance reduction.\n",
    "\n",
    "We will accept another optimization method only if it will keep or improve the actual bias. In case of ties, we will pick the one with best variabilty and/or the most simple one."
   ]
  },
  {
   "cell_type": "code",
   "execution_count": 39,
   "metadata": {},
   "outputs": [
    {
     "data": {
      "text/plain": [
       "<matplotlib.axes._subplots.AxesSubplot at 0x7f7fe550c320>"
      ]
     },
     "execution_count": 39,
     "metadata": {},
     "output_type": "execute_result"
    },
    {
     "data": {
      "image/png": "[encoded data removed]",
      "text/plain": [
       "<matplotlib.figure.Figure at 0x7f7fe5619b38>"
      ]
     },
     "metadata": {},
     "output_type": "display_data"
    }
   ],
   "source": [
    "baseline_results.plot()"
   ]
  },
  {
   "cell_type": "markdown",
   "metadata": {},
   "source": [
    "it is quite clear that the slope of the train accuracy if far from \"nice\". Also we already witnessthe dev accuracy to increase, thus signaling overfitting. Notes the spikes, very strange..."
   ]
  },
  {
   "cell_type": "markdown",
   "metadata": {},
   "source": [
    "### Exponential Decay"
   ]
  },
  {
   "cell_type": "code",
   "execution_count": 17,
   "metadata": {},
   "outputs": [],
   "source": [
    "initial_learning_rate = 0.1\n",
    "decay_steps = 10000\n",
    "decay_rate = 0.96\n",
    "global_step = tf.Variable(0, trainable=False, name=\"global_step\")\n",
    "learning_rate = tf.train.exponential_decay(initial_learning_rate,\n",
    "global_step, decay_steps,\n",
    "decay_rate)\n",
    "optimizer = tf.train.MomentumOptimizer(learning_rate, momentum=0.9)\n",
    "train_step = optimizer.minimize(mean_log_loss, global_step=global_step)\n"
   ]
  },
  {
   "cell_type": "code",
   "execution_count": 18,
   "metadata": {},
   "outputs": [
    {
     "name": "stdout",
     "output_type": "stream",
     "text": [
      "200 Train accuracy:  0.7092 Development accuracy:  0.7\n",
      "400 Train accuracy:  0.8973 Development accuracy:  0.836\n",
      "600 Train accuracy:  0.9369 Development accuracy:  0.832\n",
      "800 Train accuracy:  0.9575 Development accuracy:  0.832\n",
      "1000 Train accuracy:  0.9747 Development accuracy:  0.839\n",
      "1200 Train accuracy:  0.9878 Development accuracy:  0.838\n",
      "1400 Train accuracy:  0.9792 Development accuracy:  0.836\n",
      "1600 Train accuracy:  0.9842 Development accuracy:  0.832\n",
      "1800 Train accuracy:  0.9893 Development accuracy:  0.845\n",
      "2000 Train accuracy:  0.9899 Development accuracy:  0.832\n",
      "2200 Train accuracy:  0.9928 Development accuracy:  0.845\n",
      "2400 Train accuracy:  0.9947 Development accuracy:  0.843\n",
      "2600 Train accuracy:  0.9945 Development accuracy:  0.836\n",
      "2800 Train accuracy:  0.9904 Development accuracy:  0.834\n",
      "3000 Train accuracy:  0.9921 Development accuracy:  0.836\n",
      "3200 Train accuracy:  0.9911 Development accuracy:  0.828\n",
      "3400 Train accuracy:  0.9947 Development accuracy:  0.84\n",
      "3600 Train accuracy:  0.9954 Development accuracy:  0.838\n",
      "3800 Train accuracy:  0.9954 Development accuracy:  0.835\n",
      "4000 Train accuracy:  0.9955 Development accuracy:  0.834\n",
      "4200 Train accuracy:  0.9955 Development accuracy:  0.841\n",
      "4400 Train accuracy:  0.9951 Development accuracy:  0.841\n",
      "4600 Train accuracy:  0.9954 Development accuracy:  0.837\n",
      "4800 Train accuracy:  0.9954 Development accuracy:  0.841\n",
      "5000 Train accuracy:  0.9957 Development accuracy:  0.84\n",
      "5200 Train accuracy:  0.9956 Development accuracy:  0.84\n",
      "5400 Train accuracy:  0.9955 Development accuracy:  0.843\n",
      "5600 Train accuracy:  0.9956 Development accuracy:  0.844\n",
      "5800 Train accuracy:  0.9953 Development accuracy:  0.842\n",
      "6000 Train accuracy:  0.9959 Development accuracy:  0.842\n",
      "6200 Train accuracy:  0.9957 Development accuracy:  0.842\n",
      "6400 Train accuracy:  0.9956 Development accuracy:  0.842\n",
      "6600 Train accuracy:  0.9958 Development accuracy:  0.841\n",
      "6800 Train accuracy:  0.9958 Development accuracy:  0.841\n",
      "7000 Train accuracy:  0.9957 Development accuracy:  0.844\n",
      "7200 Train accuracy:  0.9953 Development accuracy:  0.84\n",
      "7400 Train accuracy:  0.9954 Development accuracy:  0.842\n",
      "7600 Train accuracy:  0.9959 Development accuracy:  0.842\n",
      "7800 Train accuracy:  0.9959 Development accuracy:  0.845\n",
      "8000 Train accuracy:  0.9959 Development accuracy:  0.845\n",
      "8200 Train accuracy:  0.9956 Development accuracy:  0.845\n",
      "8400 Train accuracy:  0.9958 Development accuracy:  0.843\n",
      "8600 Train accuracy:  0.9954 Development accuracy:  0.84\n",
      "8800 Train accuracy:  0.9959 Development accuracy:  0.844\n",
      "9000 Train accuracy:  0.9957 Development accuracy:  0.844\n",
      "9200 Train accuracy:  0.9958 Development accuracy:  0.842\n",
      "9400 Train accuracy:  0.9959 Development accuracy:  0.843\n",
      "9600 Train accuracy:  0.9959 Development accuracy:  0.843\n",
      "9800 Train accuracy:  0.9958 Development accuracy:  0.842\n",
      "10000 Train accuracy:  0.9956 Development accuracy:  0.843\n",
      "Target values:\n",
      " [[0. 0. 0. 0. 0. 0. 0. 0. 0. 1.]\n",
      " [0. 0. 0. 0. 0. 0. 0. 0. 1. 0.]\n",
      " [0. 0. 0. 0. 0. 0. 0. 0. 1. 0.]\n",
      " [0. 0. 0. 1. 0. 0. 0. 0. 0. 0.]\n",
      " [1. 0. 0. 0. 0. 0. 0. 0. 0. 0.]\n",
      " [0. 0. 0. 0. 0. 1. 0. 0. 0. 0.]\n",
      " [0. 1. 0. 0. 0. 0. 0. 0. 0. 0.]\n",
      " [0. 0. 0. 1. 0. 0. 0. 0. 0. 0.]\n",
      " [0. 0. 0. 0. 0. 0. 1. 0. 0. 0.]\n",
      " [1. 0. 0. 0. 0. 0. 0. 0. 0. 0.]] \n",
      "Computed values:\n",
      " [[0. 0. 0. 0. 0. 1. 0. 0. 0. 0.]\n",
      " [0. 0. 0. 0. 0. 0. 0. 0. 1. 0.]\n",
      " [0. 0. 0. 0. 0. 0. 0. 0. 1. 0.]\n",
      " [0. 0. 0. 1. 0. 0. 0. 0. 0. 0.]\n",
      " [1. 0. 0. 0. 0. 0. 0. 0. 0. 0.]\n",
      " [0. 0. 0. 0. 0. 1. 0. 0. 0. 0.]\n",
      " [0. 1. 0. 0. 0. 0. 0. 0. 0. 0.]\n",
      " [0. 0. 0. 1. 0. 0. 0. 0. 0. 0.]\n",
      " [0. 0. 0. 0. 0. 0. 1. 0. 0. 0.]\n",
      " [0. 0. 0. 0. 0. 0. 0. 0. 1. 0.]]\n",
      "First 10 Predictions:  [False  True  True  True  True  True  True  True  True False]\n",
      "Elapsed time:  67.77842974662781 secs.\n"
     ]
    }
   ],
   "source": [
    "exp_decay_results, run_time = run(TOT_EPOCS)"
   ]
  },
  {
   "cell_type": "code",
   "execution_count": 19,
   "metadata": {},
   "outputs": [
    {
     "data": {
      "text/plain": [
       "<matplotlib.axes._subplots.AxesSubplot at 0x7f7fe5931898>"
      ]
     },
     "execution_count": 19,
     "metadata": {},
     "output_type": "execute_result"
    },
    {
     "data": {
      "image/png": "[encoded data removed]",
      "text/plain": [
       "<matplotlib.figure.Figure at 0x7f8010548240>"
      ]
     },
     "metadata": {},
     "output_type": "display_data"
    }
   ],
   "source": [
    "exp_decay_results.plot()"
   ]
  },
  {
   "cell_type": "code",
   "execution_count": 20,
   "metadata": {},
   "outputs": [
    {
     "data": {
      "text/plain": [
       "accuracy_dev      0.8430\n",
       "accuracy_train    0.9956\n",
       "Name: 10000, dtype: float64"
      ]
     },
     "execution_count": 20,
     "metadata": {},
     "output_type": "execute_result"
    }
   ],
   "source": [
    "exp_decay_results.iloc[-1]"
   ]
  },
  {
   "cell_type": "code",
   "execution_count": 26,
   "metadata": {},
   "outputs": [
    {
     "data": {
      "text/plain": [
       "<matplotlib.axes._subplots.AxesSubplot at 0x7f7fe568e320>"
      ]
     },
     "execution_count": 26,
     "metadata": {},
     "output_type": "execute_result"
    },
    {
     "data": {
      "image/png": "[encoded data removed]",
      "text/plain": [
       "<matplotlib.figure.Figure at 0x7f7fe568f5c0>"
      ]
     },
     "metadata": {},
     "output_type": "display_data"
    }
   ],
   "source": [
    "baseline_results.join(exp_decay_results, lsuffix='_baseline', rsuffix='_exponential').plot()"
   ]
  },
  {
   "cell_type": "markdown",
   "metadata": {},
   "source": [
    "So we reduced sensibly the bias without impacting the variance. From the data we can see that we can reduce the number of epocs to 5k, thus gaining 50% of the time."
   ]
  },
  {
   "cell_type": "markdown",
   "metadata": {},
   "source": [
    "### Momentum "
   ]
  },
  {
   "cell_type": "code",
   "execution_count": 23,
   "metadata": {},
   "outputs": [],
   "source": [
    "optimizer = tf.train.MomentumOptimizer(learning_rate=0.1, momentum=0.9)\n",
    "train_step = optimizer.minimize(mean_log_loss, global_step=global_step)"
   ]
  },
  {
   "cell_type": "code",
   "execution_count": 27,
   "metadata": {},
   "outputs": [
    {
     "name": "stdout",
     "output_type": "stream",
     "text": [
      "200 Train accuracy:  0.7194 Development accuracy:  0.712\n",
      "400 Train accuracy:  0.8936 Development accuracy:  0.842\n",
      "600 Train accuracy:  0.933 Development accuracy:  0.823\n",
      "800 Train accuracy:  0.954 Development accuracy:  0.842\n",
      "1000 Train accuracy:  0.9763 Development accuracy:  0.852\n",
      "1200 Train accuracy:  0.9857 Development accuracy:  0.849\n",
      "1400 Train accuracy:  0.9858 Development accuracy:  0.846\n",
      "1600 Train accuracy:  0.9842 Development accuracy:  0.845\n",
      "1800 Train accuracy:  0.9858 Development accuracy:  0.847\n",
      "2000 Train accuracy:  0.9898 Development accuracy:  0.851\n",
      "2200 Train accuracy:  0.9924 Development accuracy:  0.852\n",
      "2400 Train accuracy:  0.99 Development accuracy:  0.854\n",
      "2600 Train accuracy:  0.9947 Development accuracy:  0.862\n",
      "2800 Train accuracy:  0.9939 Development accuracy:  0.852\n",
      "3000 Train accuracy:  0.9943 Development accuracy:  0.855\n",
      "3200 Train accuracy:  0.995 Development accuracy:  0.856\n",
      "3400 Train accuracy:  0.9921 Development accuracy:  0.847\n",
      "3600 Train accuracy:  0.9891 Development accuracy:  0.844\n",
      "3800 Train accuracy:  0.989 Development accuracy:  0.849\n",
      "4000 Train accuracy:  0.9885 Development accuracy:  0.844\n",
      "4200 Train accuracy:  0.9953 Development accuracy:  0.851\n",
      "4400 Train accuracy:  0.9947 Development accuracy:  0.851\n",
      "4600 Train accuracy:  0.9957 Development accuracy:  0.854\n",
      "4800 Train accuracy:  0.9958 Development accuracy:  0.852\n",
      "5000 Train accuracy:  0.9956 Development accuracy:  0.852\n",
      "5200 Train accuracy:  0.9959 Development accuracy:  0.854\n",
      "5400 Train accuracy:  0.9956 Development accuracy:  0.856\n",
      "5600 Train accuracy:  0.9959 Development accuracy:  0.856\n",
      "5800 Train accuracy:  0.9955 Development accuracy:  0.855\n",
      "6000 Train accuracy:  0.9959 Development accuracy:  0.856\n",
      "6200 Train accuracy:  0.9962 Development accuracy:  0.855\n",
      "6400 Train accuracy:  0.9958 Development accuracy:  0.854\n",
      "6600 Train accuracy:  0.9958 Development accuracy:  0.854\n",
      "6800 Train accuracy:  0.9961 Development accuracy:  0.854\n",
      "7000 Train accuracy:  0.996 Development accuracy:  0.855\n",
      "7200 Train accuracy:  0.9956 Development accuracy:  0.854\n",
      "7400 Train accuracy:  0.9958 Development accuracy:  0.857\n",
      "7600 Train accuracy:  0.9958 Development accuracy:  0.858\n",
      "7800 Train accuracy:  0.9959 Development accuracy:  0.856\n",
      "8000 Train accuracy:  0.996 Development accuracy:  0.854\n",
      "8200 Train accuracy:  0.996 Development accuracy:  0.854\n",
      "8400 Train accuracy:  0.9961 Development accuracy:  0.857\n",
      "8600 Train accuracy:  0.9953 Development accuracy:  0.852\n",
      "8800 Train accuracy:  0.996 Development accuracy:  0.858\n",
      "9000 Train accuracy:  0.996 Development accuracy:  0.858\n",
      "9200 Train accuracy:  0.996 Development accuracy:  0.856\n",
      "9400 Train accuracy:  0.9962 Development accuracy:  0.857\n",
      "9600 Train accuracy:  0.9958 Development accuracy:  0.858\n",
      "9800 Train accuracy:  0.9962 Development accuracy:  0.858\n",
      "10000 Train accuracy:  0.9952 Development accuracy:  0.854\n",
      "Target values:\n",
      " [[0. 0. 0. 0. 0. 0. 0. 0. 0. 1.]\n",
      " [0. 0. 0. 0. 0. 0. 0. 0. 1. 0.]\n",
      " [0. 0. 0. 0. 0. 0. 0. 0. 1. 0.]\n",
      " [0. 0. 0. 1. 0. 0. 0. 0. 0. 0.]\n",
      " [1. 0. 0. 0. 0. 0. 0. 0. 0. 0.]\n",
      " [0. 0. 0. 0. 0. 1. 0. 0. 0. 0.]\n",
      " [0. 1. 0. 0. 0. 0. 0. 0. 0. 0.]\n",
      " [0. 0. 0. 1. 0. 0. 0. 0. 0. 0.]\n",
      " [0. 0. 0. 0. 0. 0. 1. 0. 0. 0.]\n",
      " [1. 0. 0. 0. 0. 0. 0. 0. 0. 0.]] \n",
      "Computed values:\n",
      " [[0. 0. 0. 0. 0. 0. 0. 0. 0. 1.]\n",
      " [0. 0. 0. 0. 1. 0. 0. 0. 0. 0.]\n",
      " [0. 0. 0. 0. 0. 0. 0. 0. 1. 0.]\n",
      " [0. 0. 0. 1. 0. 0. 0. 0. 0. 0.]\n",
      " [1. 0. 0. 0. 0. 0. 0. 0. 0. 0.]\n",
      " [0. 0. 0. 0. 0. 1. 0. 0. 0. 0.]\n",
      " [0. 1. 0. 0. 0. 0. 0. 0. 0. 0.]\n",
      " [0. 0. 0. 1. 0. 0. 0. 0. 0. 0.]\n",
      " [0. 0. 0. 0. 0. 0. 1. 0. 0. 0.]\n",
      " [0. 0. 0. 0. 0. 0. 1. 0. 0. 0.]]\n",
      "First 10 Predictions:  [ True False  True  True  True  True  True  True  True False]\n",
      "Elapsed time:  67.50239634513855 secs.\n"
     ]
    }
   ],
   "source": [
    "momentum_results, momentum_time = run(TOT_EPOCS)"
   ]
  },
  {
   "cell_type": "code",
   "execution_count": 30,
   "metadata": {},
   "outputs": [
    {
     "data": {
      "text/plain": [
       "<matplotlib.axes._subplots.AxesSubplot at 0x7f7fe56167b8>"
      ]
     },
     "execution_count": 30,
     "metadata": {},
     "output_type": "execute_result"
    },
    {
     "data": {
      "image/png": "[encoded data removed]",
      "text/plain": [
       "<matplotlib.figure.Figure at 0x7f7fe568a860>"
      ]
     },
     "metadata": {},
     "output_type": "display_data"
    }
   ],
   "source": [
    "momentum_results.join(exp_decay_results, lsuffix='_momentum', rsuffix='_exponential').plot()"
   ]
  },
  {
   "cell_type": "markdown",
   "metadata": {},
   "source": [
    "So, same execution time, same number of iterations to reach stability, but better variance. Fot this reason momentum appears to be better"
   ]
  },
  {
   "cell_type": "markdown",
   "metadata": {},
   "source": [
    "### Nesterov accellerated gradient"
   ]
  },
  {
   "cell_type": "code",
   "execution_count": 31,
   "metadata": {},
   "outputs": [],
   "source": [
    "optimizer = tf.train.MomentumOptimizer(learning_rate=0.1, momentum=0.9,\n",
    "use_nesterov=True)\n",
    "train_step = optimizer.minimize(mean_log_loss, global_step=global_step)"
   ]
  },
  {
   "cell_type": "code",
   "execution_count": 32,
   "metadata": {},
   "outputs": [
    {
     "name": "stdout",
     "output_type": "stream",
     "text": [
      "200 Train accuracy:  0.72 Development accuracy:  0.711\n",
      "400 Train accuracy:  0.9071 Development accuracy:  0.826\n",
      "600 Train accuracy:  0.9543 Development accuracy:  0.826\n",
      "800 Train accuracy:  0.9627 Development accuracy:  0.82\n",
      "1000 Train accuracy:  0.9777 Development accuracy:  0.824\n",
      "1200 Train accuracy:  0.9871 Development accuracy:  0.839\n",
      "1400 Train accuracy:  0.9909 Development accuracy:  0.827\n",
      "1600 Train accuracy:  0.9905 Development accuracy:  0.839\n",
      "1800 Train accuracy:  0.9925 Development accuracy:  0.851\n",
      "2000 Train accuracy:  0.9894 Development accuracy:  0.84\n",
      "2200 Train accuracy:  0.9925 Development accuracy:  0.843\n",
      "2400 Train accuracy:  0.9931 Development accuracy:  0.835\n",
      "2600 Train accuracy:  0.9936 Development accuracy:  0.837\n",
      "2800 Train accuracy:  0.9953 Development accuracy:  0.856\n",
      "3000 Train accuracy:  0.9948 Development accuracy:  0.85\n",
      "3200 Train accuracy:  0.9955 Development accuracy:  0.847\n",
      "3400 Train accuracy:  0.9957 Development accuracy:  0.848\n",
      "3600 Train accuracy:  0.9957 Development accuracy:  0.849\n",
      "3800 Train accuracy:  0.996 Development accuracy:  0.85\n",
      "4000 Train accuracy:  0.9959 Development accuracy:  0.847\n",
      "4200 Train accuracy:  0.996 Development accuracy:  0.853\n",
      "4400 Train accuracy:  0.9954 Development accuracy:  0.849\n",
      "4600 Train accuracy:  0.9959 Development accuracy:  0.854\n",
      "4800 Train accuracy:  0.9959 Development accuracy:  0.852\n",
      "5000 Train accuracy:  0.996 Development accuracy:  0.854\n",
      "5200 Train accuracy:  0.996 Development accuracy:  0.852\n",
      "5400 Train accuracy:  0.9959 Development accuracy:  0.85\n",
      "5600 Train accuracy:  0.9962 Development accuracy:  0.85\n",
      "5800 Train accuracy:  0.9956 Development accuracy:  0.849\n",
      "6000 Train accuracy:  0.9952 Development accuracy:  0.85\n",
      "6200 Train accuracy:  0.9958 Development accuracy:  0.857\n",
      "6400 Train accuracy:  0.9958 Development accuracy:  0.853\n",
      "6600 Train accuracy:  0.9959 Development accuracy:  0.854\n",
      "6800 Train accuracy:  0.9958 Development accuracy:  0.85\n",
      "7000 Train accuracy:  0.9959 Development accuracy:  0.854\n",
      "7200 Train accuracy:  0.9956 Development accuracy:  0.85\n",
      "7400 Train accuracy:  0.9928 Development accuracy:  0.849\n",
      "7600 Train accuracy:  0.9921 Development accuracy:  0.837\n",
      "7800 Train accuracy:  0.989 Development accuracy:  0.837\n",
      "8000 Train accuracy:  0.9828 Development accuracy:  0.818\n",
      "8200 Train accuracy:  0.9933 Development accuracy:  0.84\n",
      "8400 Train accuracy:  0.995 Development accuracy:  0.842\n",
      "8600 Train accuracy:  0.9949 Development accuracy:  0.842\n",
      "8800 Train accuracy:  0.9955 Development accuracy:  0.848\n",
      "9000 Train accuracy:  0.9959 Development accuracy:  0.85\n",
      "9200 Train accuracy:  0.9956 Development accuracy:  0.849\n",
      "9400 Train accuracy:  0.9957 Development accuracy:  0.853\n",
      "9600 Train accuracy:  0.9958 Development accuracy:  0.853\n",
      "9800 Train accuracy:  0.996 Development accuracy:  0.855\n",
      "10000 Train accuracy:  0.9954 Development accuracy:  0.852\n",
      "Target values:\n",
      " [[0. 0. 0. 0. 0. 0. 0. 0. 0. 1.]\n",
      " [0. 0. 0. 0. 0. 0. 0. 0. 1. 0.]\n",
      " [0. 0. 0. 0. 0. 0. 0. 0. 1. 0.]\n",
      " [0. 0. 0. 1. 0. 0. 0. 0. 0. 0.]\n",
      " [1. 0. 0. 0. 0. 0. 0. 0. 0. 0.]\n",
      " [0. 0. 0. 0. 0. 1. 0. 0. 0. 0.]\n",
      " [0. 1. 0. 0. 0. 0. 0. 0. 0. 0.]\n",
      " [0. 0. 0. 1. 0. 0. 0. 0. 0. 0.]\n",
      " [0. 0. 0. 0. 0. 0. 1. 0. 0. 0.]\n",
      " [1. 0. 0. 0. 0. 0. 0. 0. 0. 0.]] \n",
      "Computed values:\n",
      " [[0. 0. 0. 0. 0. 1. 0. 0. 0. 0.]\n",
      " [0. 0. 0. 0. 1. 0. 0. 0. 0. 0.]\n",
      " [0. 0. 0. 0. 0. 0. 0. 0. 1. 0.]\n",
      " [0. 0. 0. 1. 0. 0. 0. 0. 0. 0.]\n",
      " [1. 0. 0. 0. 0. 0. 0. 0. 0. 0.]\n",
      " [0. 0. 0. 0. 0. 1. 0. 0. 0. 0.]\n",
      " [0. 1. 0. 0. 0. 0. 0. 0. 0. 0.]\n",
      " [0. 0. 0. 1. 0. 0. 0. 0. 0. 0.]\n",
      " [0. 0. 0. 0. 0. 0. 1. 0. 0. 0.]\n",
      " [0. 0. 0. 0. 0. 0. 0. 0. 1. 0.]]\n",
      "First 10 Predictions:  [False False  True  True  True  True  True  True  True False]\n",
      "Elapsed time:  71.20455503463745 secs.\n"
     ]
    }
   ],
   "source": [
    "nesterov_results, nesterov_time = run(TOT_EPOCS)"
   ]
  },
  {
   "cell_type": "code",
   "execution_count": 34,
   "metadata": {},
   "outputs": [
    {
     "data": {
      "text/plain": [
       "<matplotlib.axes._subplots.AxesSubplot at 0x7f7fe550cdd8>"
      ]
     },
     "execution_count": 34,
     "metadata": {},
     "output_type": "execute_result"
    },
    {
     "data": {
      "image/png": "[encoded data removed]",
      "text/plain": [
       "<matplotlib.figure.Figure at 0x7f7fe550c390>"
      ]
     },
     "metadata": {},
     "output_type": "display_data"
    }
   ],
   "source": [
    "nesterov_results.join(momentum_results, lsuffix=\"_nesterov\", rsuffix=\"_momentum\").plot()"
   ]
  },
  {
   "cell_type": "markdown",
   "metadata": {},
   "source": [
    "nestorev does not seem to be a noticeable improvement, we are going to keep momentum, given that it is simpler"
   ]
  },
  {
   "cell_type": "markdown",
   "metadata": {},
   "source": [
    "### Adam"
   ]
  },
  {
   "cell_type": "code",
   "execution_count": 35,
   "metadata": {},
   "outputs": [],
   "source": [
    "optimizer = tf.train.AdamOptimizer(learning_rate= 0.001)\n",
    "train_step = optimizer.minimize(mean_log_loss, global_step=global_step)\n"
   ]
  },
  {
   "cell_type": "code",
   "execution_count": 36,
   "metadata": {},
   "outputs": [
    {
     "name": "stdout",
     "output_type": "stream",
     "text": [
      "200 Train accuracy:  0.713 Development accuracy:  0.718\n",
      "400 Train accuracy:  0.9143 Development accuracy:  0.839\n",
      "600 Train accuracy:  0.9677 Development accuracy:  0.845\n",
      "800 Train accuracy:  0.9746 Development accuracy:  0.841\n",
      "1000 Train accuracy:  0.9891 Development accuracy:  0.844\n",
      "1200 Train accuracy:  0.9915 Development accuracy:  0.833\n",
      "1400 Train accuracy:  0.9892 Development accuracy:  0.837\n",
      "1600 Train accuracy:  0.9929 Development accuracy:  0.843\n",
      "1800 Train accuracy:  0.9895 Development accuracy:  0.836\n",
      "2000 Train accuracy:  0.9934 Development accuracy:  0.832\n",
      "2200 Train accuracy:  0.9937 Development accuracy:  0.839\n",
      "2400 Train accuracy:  0.988 Development accuracy:  0.82\n",
      "2600 Train accuracy:  0.9911 Development accuracy:  0.829\n",
      "2800 Train accuracy:  0.9933 Development accuracy:  0.842\n",
      "3000 Train accuracy:  0.9945 Development accuracy:  0.851\n",
      "3200 Train accuracy:  0.9844 Development accuracy:  0.841\n",
      "3400 Train accuracy:  0.9917 Development accuracy:  0.835\n",
      "3600 Train accuracy:  0.995 Development accuracy:  0.846\n",
      "3800 Train accuracy:  0.9955 Development accuracy:  0.849\n",
      "4000 Train accuracy:  0.9954 Development accuracy:  0.848\n",
      "4200 Train accuracy:  0.9937 Development accuracy:  0.848\n",
      "4400 Train accuracy:  0.9936 Development accuracy:  0.838\n",
      "4600 Train accuracy:  0.9861 Development accuracy:  0.825\n",
      "4800 Train accuracy:  0.9928 Development accuracy:  0.84\n",
      "5000 Train accuracy:  0.9952 Development accuracy:  0.847\n",
      "5200 Train accuracy:  0.9954 Development accuracy:  0.854\n",
      "5400 Train accuracy:  0.9958 Development accuracy:  0.856\n",
      "5600 Train accuracy:  0.9959 Development accuracy:  0.853\n",
      "5800 Train accuracy:  0.9955 Development accuracy:  0.854\n",
      "6000 Train accuracy:  0.9953 Development accuracy:  0.854\n",
      "6200 Train accuracy:  0.9839 Development accuracy:  0.831\n",
      "6400 Train accuracy:  0.9942 Development accuracy:  0.852\n",
      "6600 Train accuracy:  0.9956 Development accuracy:  0.856\n",
      "6800 Train accuracy:  0.9958 Development accuracy:  0.857\n",
      "7000 Train accuracy:  0.9959 Development accuracy:  0.86\n",
      "7200 Train accuracy:  0.995 Development accuracy:  0.858\n",
      "7400 Train accuracy:  0.991 Development accuracy:  0.851\n",
      "7600 Train accuracy:  0.9887 Development accuracy:  0.837\n",
      "7800 Train accuracy:  0.9952 Development accuracy:  0.851\n",
      "8000 Train accuracy:  0.9931 Development accuracy:  0.845\n",
      "8200 Train accuracy:  0.9946 Development accuracy:  0.847\n",
      "8400 Train accuracy:  0.9953 Development accuracy:  0.844\n",
      "8600 Train accuracy:  0.995 Development accuracy:  0.847\n",
      "8800 Train accuracy:  0.9952 Development accuracy:  0.847\n",
      "9000 Train accuracy:  0.9956 Development accuracy:  0.852\n",
      "9200 Train accuracy:  0.9952 Development accuracy:  0.849\n",
      "9400 Train accuracy:  0.9953 Development accuracy:  0.851\n",
      "9600 Train accuracy:  0.9954 Development accuracy:  0.852\n",
      "9800 Train accuracy:  0.9954 Development accuracy:  0.851\n",
      "10000 Train accuracy:  0.9951 Development accuracy:  0.85\n",
      "Target values:\n",
      " [[0. 0. 0. 0. 0. 0. 0. 0. 0. 1.]\n",
      " [0. 0. 0. 0. 0. 0. 0. 0. 1. 0.]\n",
      " [0. 0. 0. 0. 0. 0. 0. 0. 1. 0.]\n",
      " [0. 0. 0. 1. 0. 0. 0. 0. 0. 0.]\n",
      " [1. 0. 0. 0. 0. 0. 0. 0. 0. 0.]\n",
      " [0. 0. 0. 0. 0. 1. 0. 0. 0. 0.]\n",
      " [0. 1. 0. 0. 0. 0. 0. 0. 0. 0.]\n",
      " [0. 0. 0. 1. 0. 0. 0. 0. 0. 0.]\n",
      " [0. 0. 0. 0. 0. 0. 1. 0. 0. 0.]\n",
      " [1. 0. 0. 0. 0. 0. 0. 0. 0. 0.]] \n",
      "Computed values:\n",
      " [[0. 0. 0. 0. 0. 1. 0. 0. 0. 0.]\n",
      " [0. 0. 0. 0. 0. 0. 0. 1. 0. 0.]\n",
      " [0. 0. 0. 0. 0. 0. 0. 0. 1. 0.]\n",
      " [0. 0. 0. 1. 0. 0. 0. 0. 0. 0.]\n",
      " [1. 0. 0. 0. 0. 0. 0. 0. 0. 0.]\n",
      " [0. 0. 0. 0. 0. 1. 0. 0. 0. 0.]\n",
      " [0. 1. 0. 0. 0. 0. 0. 0. 0. 0.]\n",
      " [0. 0. 0. 1. 0. 0. 0. 0. 0. 0.]\n",
      " [0. 0. 0. 0. 0. 0. 1. 0. 0. 0.]\n",
      " [0. 0. 0. 0. 0. 0. 0. 0. 0. 0.]]\n",
      "First 10 Predictions:  [False False  True  True  True  True  True  True  True False]\n",
      "Elapsed time:  71.84303450584412 secs.\n"
     ]
    }
   ],
   "source": [
    "adam_results, adam_time = run(TOT_EPOCS)"
   ]
  },
  {
   "cell_type": "code",
   "execution_count": 37,
   "metadata": {},
   "outputs": [
    {
     "data": {
      "text/plain": [
       "<matplotlib.axes._subplots.AxesSubplot at 0x7f800de37710>"
      ]
     },
     "execution_count": 37,
     "metadata": {},
     "output_type": "execute_result"
    },
    {
     "data": {
      "image/png": "[encoded data removed]",
      "text/plain": [
       "<matplotlib.figure.Figure at 0x7f800c3c37f0>"
      ]
     },
     "metadata": {},
     "output_type": "display_data"
    }
   ],
   "source": [
    "adam_results.join(momentum_results, lsuffix=\"_adam\", rsuffix=\"_momentum\").plot()"
   ]
  },
  {
   "cell_type": "markdown",
   "metadata": {},
   "source": [
    "Adam is faster as prmosed in reaching the maximum train accuracy, but the dev accuracy show some strange patterns.\n",
    "\n",
    "The gain is not worth it. We will stick with momentum"
   ]
  },
  {
   "cell_type": "markdown",
   "metadata": {},
   "source": [
    "## Next step: weight initialization\n",
    "Weight initialization should affect mainly the training time, hence we should try it now, before getting to the variance."
   ]
  },
  {
   "cell_type": "markdown",
   "metadata": {},
   "source": [
    "## Next step: pick an activation function and stick with it"
   ]
  },
  {
   "cell_type": "markdown",
   "metadata": {},
   "source": [
    "## Next step: batch normalization should fasten the learning"
   ]
  },
  {
   "cell_type": "markdown",
   "metadata": {},
   "source": [
    "## Next step: get really going with variance"
   ]
  },
  {
   "cell_type": "markdown",
   "metadata": {},
   "source": [
    "# Executing the model"
   ]
  },
  {
   "cell_type": "code",
   "execution_count": 24,
   "metadata": {},
   "outputs": [],
   "source": [
    "init = tf.global_variables_initializer()"
   ]
  },
  {
   "cell_type": "code",
   "execution_count": 12,
   "metadata": {},
   "outputs": [],
   "source": [
    "def run(n_epochs, initialize = True):\n",
    "    if initialize : \n",
    "        init = tf.global_variables_initializer()\n",
    "    with tf.Session() as sess:\n",
    "        start_time = time()\n",
    "        various_metrics = []\n",
    "        sess.run(init)\n",
    "        for epoch in range (int(n_epochs / epochs_to_display)):\n",
    "            for iteration in range (epochs_to_display):\n",
    "                offset = (iteration * epoch * batch_size) % (y_train.shape[0] - batch_size)\n",
    "                sess.run(train_step, feed_dict={X: x_train[offset:(offset+batch_size),:],\n",
    "                                                t: y_train[offset:(offset+batch_size),:]})\n",
    "            accuracy_train = accuracy.eval(feed_dict={X: x_train, t: y_train})\n",
    "            accuracy_dev = accuracy.eval(feed_dict={X: x_dev, t: y_dev})\n",
    "            print((epoch+1)*epochs_to_display, \"Train accuracy: \", accuracy_train, \n",
    "                  \"Development accuracy: \", accuracy_dev)\n",
    "            various_metrics.append({\"epoch\":(epoch+1)*epochs_to_display, \"accuracy_train\": accuracy_train, \"accuracy_dev\" :accuracy_dev})\n",
    "\n",
    "        accuracy_test = accuracy.eval(feed_dict={X: x_test, t: y_test})\n",
    "        #print (\"Test accuracy: \", accuracy_test)\n",
    "        print (\"Target values:\\n\", y_test[0:10], \"\\nComputed values:\\n\", \n",
    "               rounded_y.eval(feed_dict={X: x_test[0:10]}))\n",
    "        print (\"First 10 Predictions: \", \n",
    "               correct_predictions.eval(feed_dict={X: x_test[0:10], t: y_test[0:10]}))\n",
    "        print (\"Elapsed time: \", time()-start_time, \"secs.\")\n",
    "        return pd.DataFrame(various_metrics).set_index(\"epoch\") , time()-start_time"
   ]
  },
  {
   "cell_type": "code",
   "execution_count": 15,
   "metadata": {},
   "outputs": [
    {
     "name": "stdout",
     "output_type": "stream",
     "text": [
      "200 Train accuracy:  0.6674 Development accuracy:  0.663\n",
      "400 Train accuracy:  0.7977 Development accuracy:  0.799\n",
      "600 Train accuracy:  0.8179 Development accuracy:  0.81\n",
      "800 Train accuracy:  0.8285 Development accuracy:  0.814\n",
      "1000 Train accuracy:  0.8351 Development accuracy:  0.821\n",
      "1200 Train accuracy:  0.8406 Development accuracy:  0.822\n",
      "1400 Train accuracy:  0.847 Development accuracy:  0.826\n",
      "1600 Train accuracy:  0.8489 Development accuracy:  0.827\n",
      "1800 Train accuracy:  0.8563 Development accuracy:  0.827\n",
      "2000 Train accuracy:  0.862 Development accuracy:  0.828\n",
      "2200 Train accuracy:  0.8654 Development accuracy:  0.831\n",
      "2400 Train accuracy:  0.8704 Development accuracy:  0.832\n",
      "2600 Train accuracy:  0.8741 Development accuracy:  0.832\n",
      "2800 Train accuracy:  0.8785 Development accuracy:  0.832\n",
      "3000 Train accuracy:  0.8752 Development accuracy:  0.831\n",
      "3200 Train accuracy:  0.8832 Development accuracy:  0.83\n",
      "3400 Train accuracy:  0.887 Development accuracy:  0.835\n",
      "3600 Train accuracy:  0.8916 Development accuracy:  0.831\n",
      "3800 Train accuracy:  0.8974 Development accuracy:  0.836\n",
      "4000 Train accuracy:  0.9009 Development accuracy:  0.838\n",
      "4200 Train accuracy:  0.9063 Development accuracy:  0.835\n",
      "4400 Train accuracy:  0.9008 Development accuracy:  0.834\n",
      "4600 Train accuracy:  0.91 Development accuracy:  0.834\n",
      "4800 Train accuracy:  0.9139 Development accuracy:  0.839\n",
      "5000 Train accuracy:  0.9176 Development accuracy:  0.837\n",
      "5200 Train accuracy:  0.9209 Development accuracy:  0.837\n",
      "5400 Train accuracy:  0.9255 Development accuracy:  0.836\n",
      "5600 Train accuracy:  0.9291 Development accuracy:  0.838\n",
      "5800 Train accuracy:  0.9222 Development accuracy:  0.829\n",
      "6000 Train accuracy:  0.9326 Development accuracy:  0.84\n",
      "6200 Train accuracy:  0.9373 Development accuracy:  0.835\n",
      "6400 Train accuracy:  0.9414 Development accuracy:  0.837\n",
      "6600 Train accuracy:  0.9452 Development accuracy:  0.836\n",
      "6800 Train accuracy:  0.9474 Development accuracy:  0.835\n",
      "7000 Train accuracy:  0.9508 Development accuracy:  0.835\n",
      "7200 Train accuracy:  0.9455 Development accuracy:  0.833\n",
      "7400 Train accuracy:  0.9547 Development accuracy:  0.833\n",
      "7600 Train accuracy:  0.9594 Development accuracy:  0.833\n",
      "7800 Train accuracy:  0.9623 Development accuracy:  0.832\n",
      "8000 Train accuracy:  0.9669 Development accuracy:  0.831\n",
      "8200 Train accuracy:  0.9684 Development accuracy:  0.829\n",
      "8400 Train accuracy:  0.9722 Development accuracy:  0.831\n",
      "8600 Train accuracy:  0.9638 Development accuracy:  0.83\n",
      "8800 Train accuracy:  0.9728 Development accuracy:  0.829\n",
      "9000 Train accuracy:  0.9755 Development accuracy:  0.828\n",
      "9200 Train accuracy:  0.9774 Development accuracy:  0.827\n",
      "9400 Train accuracy:  0.9784 Development accuracy:  0.83\n",
      "9600 Train accuracy:  0.9801 Development accuracy:  0.826\n",
      "9800 Train accuracy:  0.9822 Development accuracy:  0.83\n",
      "10000 Train accuracy:  0.9696 Development accuracy:  0.823\n",
      "Target values:\n",
      " [[0. 0. 0. 0. 0. 0. 0. 0. 0. 1.]\n",
      " [0. 0. 0. 0. 0. 0. 0. 0. 1. 0.]\n",
      " [0. 0. 0. 0. 0. 0. 0. 0. 1. 0.]\n",
      " [0. 0. 0. 1. 0. 0. 0. 0. 0. 0.]\n",
      " [1. 0. 0. 0. 0. 0. 0. 0. 0. 0.]\n",
      " [0. 0. 0. 0. 0. 1. 0. 0. 0. 0.]\n",
      " [0. 1. 0. 0. 0. 0. 0. 0. 0. 0.]\n",
      " [0. 0. 0. 1. 0. 0. 0. 0. 0. 0.]\n",
      " [0. 0. 0. 0. 0. 0. 1. 0. 0. 0.]\n",
      " [1. 0. 0. 0. 0. 0. 0. 0. 0. 0.]] \n",
      "Computed values:\n",
      " [[0. 0. 0. 0. 0. 0. 0. 0. 0. 1.]\n",
      " [0. 0. 0. 0. 0. 0. 0. 0. 1. 0.]\n",
      " [0. 0. 0. 0. 0. 0. 0. 0. 1. 0.]\n",
      " [0. 0. 0. 1. 0. 0. 0. 0. 0. 0.]\n",
      " [1. 0. 0. 0. 0. 0. 0. 0. 0. 0.]\n",
      " [0. 0. 0. 0. 0. 1. 0. 0. 0. 0.]\n",
      " [0. 1. 0. 0. 0. 0. 0. 0. 0. 0.]\n",
      " [0. 0. 0. 1. 0. 0. 0. 0. 0. 0.]\n",
      " [0. 0. 0. 0. 0. 0. 1. 0. 0. 0.]\n",
      " [0. 0. 0. 0. 0. 0. 0. 0. 0. 0.]]\n",
      "First 10 Predictions:  [ True  True  True  True  True  True  True  True  True False]\n",
      "Elapsed time:  65.71320533752441 secs.\n"
     ]
    }
   ],
   "source": [
    "baseline_results, baseline_time = run(TOT_EPOCS)"
   ]
  },
  {
   "cell_type": "code",
   "execution_count": 16,
   "metadata": {},
   "outputs": [
    {
     "data": {
      "text/html": [
       "<div>\n",
       "<style scoped>\n",
       "    .dataframe tbody tr th:only-of-type {\n",
       "        vertical-align: middle;\n",
       "    }\n",
       "\n",
       "    .dataframe tbody tr th {\n",
       "        vertical-align: top;\n",
       "    }\n",
       "\n",
       "    .dataframe thead th {\n",
       "        text-align: right;\n",
       "    }\n",
       "</style>\n",
       "<table border=\"1\" class=\"dataframe\">\n",
       "  <thead>\n",
       "    <tr style=\"text-align: right;\">\n",
       "      <th></th>\n",
       "      <th>accuracy_dev</th>\n",
       "      <th>accuracy_train</th>\n",
       "    </tr>\n",
       "    <tr>\n",
       "      <th>epoch</th>\n",
       "      <th></th>\n",
       "      <th></th>\n",
       "    </tr>\n",
       "  </thead>\n",
       "  <tbody>\n",
       "    <tr>\n",
       "      <th>200</th>\n",
       "      <td>0.663</td>\n",
       "      <td>0.6674</td>\n",
       "    </tr>\n",
       "    <tr>\n",
       "      <th>400</th>\n",
       "      <td>0.799</td>\n",
       "      <td>0.7977</td>\n",
       "    </tr>\n",
       "    <tr>\n",
       "      <th>600</th>\n",
       "      <td>0.810</td>\n",
       "      <td>0.8179</td>\n",
       "    </tr>\n",
       "    <tr>\n",
       "      <th>800</th>\n",
       "      <td>0.814</td>\n",
       "      <td>0.8285</td>\n",
       "    </tr>\n",
       "    <tr>\n",
       "      <th>1000</th>\n",
       "      <td>0.821</td>\n",
       "      <td>0.8351</td>\n",
       "    </tr>\n",
       "    <tr>\n",
       "      <th>1200</th>\n",
       "      <td>0.822</td>\n",
       "      <td>0.8406</td>\n",
       "    </tr>\n",
       "    <tr>\n",
       "      <th>1400</th>\n",
       "      <td>0.826</td>\n",
       "      <td>0.8470</td>\n",
       "    </tr>\n",
       "    <tr>\n",
       "      <th>1600</th>\n",
       "      <td>0.827</td>\n",
       "      <td>0.8489</td>\n",
       "    </tr>\n",
       "    <tr>\n",
       "      <th>1800</th>\n",
       "      <td>0.827</td>\n",
       "      <td>0.8563</td>\n",
       "    </tr>\n",
       "    <tr>\n",
       "      <th>2000</th>\n",
       "      <td>0.828</td>\n",
       "      <td>0.8620</td>\n",
       "    </tr>\n",
       "    <tr>\n",
       "      <th>2200</th>\n",
       "      <td>0.831</td>\n",
       "      <td>0.8654</td>\n",
       "    </tr>\n",
       "    <tr>\n",
       "      <th>2400</th>\n",
       "      <td>0.832</td>\n",
       "      <td>0.8704</td>\n",
       "    </tr>\n",
       "    <tr>\n",
       "      <th>2600</th>\n",
       "      <td>0.832</td>\n",
       "      <td>0.8741</td>\n",
       "    </tr>\n",
       "    <tr>\n",
       "      <th>2800</th>\n",
       "      <td>0.832</td>\n",
       "      <td>0.8785</td>\n",
       "    </tr>\n",
       "    <tr>\n",
       "      <th>3000</th>\n",
       "      <td>0.831</td>\n",
       "      <td>0.8752</td>\n",
       "    </tr>\n",
       "    <tr>\n",
       "      <th>3200</th>\n",
       "      <td>0.830</td>\n",
       "      <td>0.8832</td>\n",
       "    </tr>\n",
       "    <tr>\n",
       "      <th>3400</th>\n",
       "      <td>0.835</td>\n",
       "      <td>0.8870</td>\n",
       "    </tr>\n",
       "    <tr>\n",
       "      <th>3600</th>\n",
       "      <td>0.831</td>\n",
       "      <td>0.8916</td>\n",
       "    </tr>\n",
       "    <tr>\n",
       "      <th>3800</th>\n",
       "      <td>0.836</td>\n",
       "      <td>0.8974</td>\n",
       "    </tr>\n",
       "    <tr>\n",
       "      <th>4000</th>\n",
       "      <td>0.838</td>\n",
       "      <td>0.9009</td>\n",
       "    </tr>\n",
       "    <tr>\n",
       "      <th>4200</th>\n",
       "      <td>0.835</td>\n",
       "      <td>0.9063</td>\n",
       "    </tr>\n",
       "    <tr>\n",
       "      <th>4400</th>\n",
       "      <td>0.834</td>\n",
       "      <td>0.9008</td>\n",
       "    </tr>\n",
       "    <tr>\n",
       "      <th>4600</th>\n",
       "      <td>0.834</td>\n",
       "      <td>0.9100</td>\n",
       "    </tr>\n",
       "    <tr>\n",
       "      <th>4800</th>\n",
       "      <td>0.839</td>\n",
       "      <td>0.9139</td>\n",
       "    </tr>\n",
       "    <tr>\n",
       "      <th>5000</th>\n",
       "      <td>0.837</td>\n",
       "      <td>0.9176</td>\n",
       "    </tr>\n",
       "    <tr>\n",
       "      <th>5200</th>\n",
       "      <td>0.837</td>\n",
       "      <td>0.9209</td>\n",
       "    </tr>\n",
       "    <tr>\n",
       "      <th>5400</th>\n",
       "      <td>0.836</td>\n",
       "      <td>0.9255</td>\n",
       "    </tr>\n",
       "    <tr>\n",
       "      <th>5600</th>\n",
       "      <td>0.838</td>\n",
       "      <td>0.9291</td>\n",
       "    </tr>\n",
       "    <tr>\n",
       "      <th>5800</th>\n",
       "      <td>0.829</td>\n",
       "      <td>0.9222</td>\n",
       "    </tr>\n",
       "    <tr>\n",
       "      <th>6000</th>\n",
       "      <td>0.840</td>\n",
       "      <td>0.9326</td>\n",
       "    </tr>\n",
       "    <tr>\n",
       "      <th>6200</th>\n",
       "      <td>0.835</td>\n",
       "      <td>0.9373</td>\n",
       "    </tr>\n",
       "    <tr>\n",
       "      <th>6400</th>\n",
       "      <td>0.837</td>\n",
       "      <td>0.9414</td>\n",
       "    </tr>\n",
       "    <tr>\n",
       "      <th>6600</th>\n",
       "      <td>0.836</td>\n",
       "      <td>0.9452</td>\n",
       "    </tr>\n",
       "    <tr>\n",
       "      <th>6800</th>\n",
       "      <td>0.835</td>\n",
       "      <td>0.9474</td>\n",
       "    </tr>\n",
       "    <tr>\n",
       "      <th>7000</th>\n",
       "      <td>0.835</td>\n",
       "      <td>0.9508</td>\n",
       "    </tr>\n",
       "    <tr>\n",
       "      <th>7200</th>\n",
       "      <td>0.833</td>\n",
       "      <td>0.9455</td>\n",
       "    </tr>\n",
       "    <tr>\n",
       "      <th>7400</th>\n",
       "      <td>0.833</td>\n",
       "      <td>0.9547</td>\n",
       "    </tr>\n",
       "    <tr>\n",
       "      <th>7600</th>\n",
       "      <td>0.833</td>\n",
       "      <td>0.9594</td>\n",
       "    </tr>\n",
       "    <tr>\n",
       "      <th>7800</th>\n",
       "      <td>0.832</td>\n",
       "      <td>0.9623</td>\n",
       "    </tr>\n",
       "    <tr>\n",
       "      <th>8000</th>\n",
       "      <td>0.831</td>\n",
       "      <td>0.9669</td>\n",
       "    </tr>\n",
       "    <tr>\n",
       "      <th>8200</th>\n",
       "      <td>0.829</td>\n",
       "      <td>0.9684</td>\n",
       "    </tr>\n",
       "    <tr>\n",
       "      <th>8400</th>\n",
       "      <td>0.831</td>\n",
       "      <td>0.9722</td>\n",
       "    </tr>\n",
       "    <tr>\n",
       "      <th>8600</th>\n",
       "      <td>0.830</td>\n",
       "      <td>0.9638</td>\n",
       "    </tr>\n",
       "    <tr>\n",
       "      <th>8800</th>\n",
       "      <td>0.829</td>\n",
       "      <td>0.9728</td>\n",
       "    </tr>\n",
       "    <tr>\n",
       "      <th>9000</th>\n",
       "      <td>0.828</td>\n",
       "      <td>0.9755</td>\n",
       "    </tr>\n",
       "    <tr>\n",
       "      <th>9200</th>\n",
       "      <td>0.827</td>\n",
       "      <td>0.9774</td>\n",
       "    </tr>\n",
       "    <tr>\n",
       "      <th>9400</th>\n",
       "      <td>0.830</td>\n",
       "      <td>0.9784</td>\n",
       "    </tr>\n",
       "    <tr>\n",
       "      <th>9600</th>\n",
       "      <td>0.826</td>\n",
       "      <td>0.9801</td>\n",
       "    </tr>\n",
       "    <tr>\n",
       "      <th>9800</th>\n",
       "      <td>0.830</td>\n",
       "      <td>0.9822</td>\n",
       "    </tr>\n",
       "    <tr>\n",
       "      <th>10000</th>\n",
       "      <td>0.823</td>\n",
       "      <td>0.9696</td>\n",
       "    </tr>\n",
       "  </tbody>\n",
       "</table>\n",
       "</div>"
      ],
      "text/plain": [
       "       accuracy_dev  accuracy_train\n",
       "epoch                              \n",
       "200           0.663          0.6674\n",
       "400           0.799          0.7977\n",
       "600           0.810          0.8179\n",
       "800           0.814          0.8285\n",
       "1000          0.821          0.8351\n",
       "1200          0.822          0.8406\n",
       "1400          0.826          0.8470\n",
       "1600          0.827          0.8489\n",
       "1800          0.827          0.8563\n",
       "2000          0.828          0.8620\n",
       "2200          0.831          0.8654\n",
       "2400          0.832          0.8704\n",
       "2600          0.832          0.8741\n",
       "2800          0.832          0.8785\n",
       "3000          0.831          0.8752\n",
       "3200          0.830          0.8832\n",
       "3400          0.835          0.8870\n",
       "3600          0.831          0.8916\n",
       "3800          0.836          0.8974\n",
       "4000          0.838          0.9009\n",
       "4200          0.835          0.9063\n",
       "4400          0.834          0.9008\n",
       "4600          0.834          0.9100\n",
       "4800          0.839          0.9139\n",
       "5000          0.837          0.9176\n",
       "5200          0.837          0.9209\n",
       "5400          0.836          0.9255\n",
       "5600          0.838          0.9291\n",
       "5800          0.829          0.9222\n",
       "6000          0.840          0.9326\n",
       "6200          0.835          0.9373\n",
       "6400          0.837          0.9414\n",
       "6600          0.836          0.9452\n",
       "6800          0.835          0.9474\n",
       "7000          0.835          0.9508\n",
       "7200          0.833          0.9455\n",
       "7400          0.833          0.9547\n",
       "7600          0.833          0.9594\n",
       "7800          0.832          0.9623\n",
       "8000          0.831          0.9669\n",
       "8200          0.829          0.9684\n",
       "8400          0.831          0.9722\n",
       "8600          0.830          0.9638\n",
       "8800          0.829          0.9728\n",
       "9000          0.828          0.9755\n",
       "9200          0.827          0.9774\n",
       "9400          0.830          0.9784\n",
       "9600          0.826          0.9801\n",
       "9800          0.830          0.9822\n",
       "10000         0.823          0.9696"
      ]
     },
     "execution_count": 16,
     "metadata": {},
     "output_type": "execute_result"
    }
   ],
   "source": [
    "baseline_results"
   ]
  },
  {
   "cell_type": "markdown",
   "metadata": {},
   "source": [
    "baseline reuslts are 97% for train accuracy and 82% for development accuracy\n",
    "\n",
    "time: 65seconds"
   ]
  },
  {
   "cell_type": "markdown",
   "metadata": {},
   "source": [
    "__Results with respect to one-hidden layer model:__ "
   ]
  },
  {
   "cell_type": "markdown",
   "metadata": {},
   "source": [
    "Train: $85\\% \\rightarrow 97\\%$; Development: $81\\% \\rightarrow 84\\%$; Final test: $87\\% \\rightarrow 90\\%$"
   ]
  },
  {
   "cell_type": "markdown",
   "metadata": {},
   "source": [
    "This deep model involves a total of __600 neurons__ distributed across three hidden layers, __instead of 1,000__ neurons in the just one-hidden layer model."
   ]
  }
 ],
 "metadata": {
  "kernelspec": {
   "display_name": "Python 3",
   "language": "python",
   "name": "python3"
  },
  "language_info": {
   "codemirror_mode": {
    "name": "ipython",
    "version": 3
   },
   "file_extension": ".py",
   "mimetype": "text/x-python",
   "name": "python",
   "nbconvert_exporter": "python",
   "pygments_lexer": "ipython3",
   "version": "3.5.2"
  }
 },
 "nbformat": 4,
 "nbformat_minor": 2
}
