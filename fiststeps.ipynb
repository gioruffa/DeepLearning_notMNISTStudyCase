{
 "cells": [
  {
   "cell_type": "markdown",
   "metadata": {},
   "source": [
    "The vanishing gradient problem: cumulative back-propagated error signals either shrink rapidly, or grow out of bounds. They decay exponentially in the number of layers, or they explode. The result is that the final trained network converges to a poor local minimum."
   ]
  },
  {
   "cell_type": "markdown",
   "metadata": {},
   "source": [
    "Activation (non-linear) functions that do not saturate:"
   ]
  },
  {
   "cell_type": "markdown",
   "metadata": {},
   "source": [
    "   Rectifier Linear Unit, ReLU: $y=max(0,x)$, $y \\in [0,\\infty]$, learning rate $\\alpha \\rightarrow 0$"
   ]
  },
  {
   "cell_type": "markdown",
   "metadata": {},
   "source": [
    "Leaky ReLU: $y=max(s·x,x)$ , typically $s=0.01$"
   ]
  },
  {
   "cell_type": "markdown",
   "metadata": {},
   "source": [
    "Exponential Linear Unit, ELU: $y=s(e^{x}-1$), usually $s=1$. if $s=1$, then $y \\in [-1,\\infty]$ "
   ]
  },
  {
   "cell_type": "markdown",
   "metadata": {},
   "source": [
    "# Reading data"
   ]
  },
  {
   "cell_type": "markdown",
   "metadata": {},
   "source": [
    "Same function as previous examples:"
   ]
  },
  {
   "cell_type": "code",
   "execution_count": 1,
   "metadata": {},
   "outputs": [],
   "source": [
    "from __future__ import print_function\n",
    "import numpy as np\n",
    "import tensorflow as tf\n",
    "from six.moves import cPickle as pickle\n",
    "from sklearn.preprocessing import OneHotEncoder\n",
    "from time import time\n",
    "import datetime"
   ]
  },
  {
   "cell_type": "code",
   "execution_count": 2,
   "metadata": {},
   "outputs": [],
   "source": [
    "import pandas as pd\n",
    "import matplotlib as mpl\n",
    "import matplotlib.pyplot as plt\n",
    "%matplotlib inline"
   ]
  },
  {
   "cell_type": "code",
   "execution_count": 3,
   "metadata": {},
   "outputs": [],
   "source": [
    "file_name = \"notMNIST.pickle\"\n",
    "def make_datasets (file, n_training_samples=0, n_dev_samples=0, \n",
    "                   n_testing_samples=0, one_hot=False):\n",
    "    with open (file,'rb') as f:\n",
    "        dataset = pickle.load(f)\n",
    "        f.close\n",
    "\n",
    "    train_dataset = dataset['train_dataset']\n",
    "    train_labels = dataset['train_labels']\n",
    "    dev_dataset = dataset['valid_dataset']\n",
    "    dev_labels = dataset['valid_labels']\n",
    "    test_dataset = dataset['test_dataset']\n",
    "    test_labels = dataset['test_labels']\n",
    "\n",
    "    #Prepare training, dev (validation) and final testing data. \n",
    "    #It has to be reshaped since (n_samples, n_fatures) are expected\n",
    "\n",
    "    all_training_samples, width, height = train_dataset.shape\n",
    "    train_attributes = np.reshape(train_dataset, (all_training_samples, \n",
    "                                                  width * height))\n",
    "    if (n_training_samples != 0):\n",
    "        train_attributes = train_attributes[0:n_training_samples]\n",
    "        train_labels = train_labels[0:n_training_samples]\n",
    "\n",
    "    all_dev_samples, width, height = dev_dataset.shape\n",
    "    dev_attributes = np.reshape(dev_dataset,\n",
    "                                       (all_dev_samples, width * height))\n",
    "    if (n_dev_samples != 0):\n",
    "        dev_attributes = dev_attributes[0:n_dev_samples]\n",
    "        dev_labels = dev_labels[0:n_dev_samples]\n",
    "\n",
    "    all_testing_samples, width, height = test_dataset.shape\n",
    "    test_attributes = np.reshape(test_dataset, (all_testing_samples, width * height))\n",
    "    if (n_testing_samples != 0):\n",
    "        test_attributes = test_attributes[0:n_testing_samples]\n",
    "        test_labels = test_labels[0:n_testing_samples]\n",
    "\n",
    "    # If one-hot encoding is requested, then funtion OneHotEcoding \n",
    "    # from SciKit-Learn is called    \n",
    "    if one_hot:\n",
    "        enc = OneHotEncoder(sparse=False)\n",
    "        # Labels are one-dimensional vectors, \n",
    "        # and are reshaped to matrices of one column\n",
    "        train_labels = enc.fit_transform(train_labels.reshape(len(train_labels),1))\n",
    "        dev_labels = enc.fit_transform(dev_labels.reshape(len(dev_labels), 1))\n",
    "        test_labels = enc.fit_transform(test_labels.reshape(len(test_labels), 1))\n",
    "\n",
    "    return (train_attributes, train_labels, dev_attributes, \n",
    "            dev_labels, test_attributes, test_labels)"
   ]
  },
  {
   "cell_type": "code",
   "execution_count": 4,
   "metadata": {},
   "outputs": [],
   "source": [
    "#EDITED TO REFLECT THE ASSIGNMENT SPECS\n",
    "NUM_TRAINING_SAMPLES = 10000\n",
    "NUM_DEV_SAMPLES = 1000\n",
    "NUM_TESTING_SAMPLES = 1000 #In the locker"
   ]
  },
  {
   "cell_type": "code",
   "execution_count": 5,
   "metadata": {},
   "outputs": [],
   "source": [
    "x_train, y_train, x_dev, y_dev, x_test, y_test = make_datasets(file_name, \n",
    "                                 n_training_samples=NUM_TRAINING_SAMPLES,\n",
    "                                 n_dev_samples=NUM_DEV_SAMPLES, \n",
    "                                 n_testing_samples=NUM_TESTING_SAMPLES,\n",
    "                                 one_hot=True)"
   ]
  },
  {
   "cell_type": "markdown",
   "metadata": {},
   "source": [
    "# Building the 28x28-300-200-100-10 deep neural network"
   ]
  },
  {
   "cell_type": "markdown",
   "metadata": {},
   "source": [
    "Hyper-paramenters configuration:"
   ]
  },
  {
   "cell_type": "code",
   "execution_count": 6,
   "metadata": {},
   "outputs": [],
   "source": [
    "n_epochs = 10000\n",
    "epochs_to_display = 200\n",
    "batch_size = 200 #400\n",
    "learning_rate = 0.01\n",
    "\n",
    "TOT_EPOCS=10000\n",
    "\n",
    "n_inputs = len(x_train[0])\n",
    "n_hidden1 = 300\n",
    "n_hidden2 = 200\n",
    "n_hidden3 = 100\n",
    "n_outputs = len(y_train[0])"
   ]
  },
  {
   "cell_type": "markdown",
   "metadata": {},
   "source": [
    "First, the input __X__ and target __t__ matrices are defined as placeholders:"
   ]
  },
  {
   "cell_type": "code",
   "execution_count": 7,
   "metadata": {},
   "outputs": [],
   "source": [
    "with tf.name_scope(\"io\"):\n",
    "    X = tf.placeholder(dtype=tf.float32, shape=(None,n_inputs), name=\"X\")\n",
    "    t = tf.placeholder(dtype=tf.float32, shape=(None,n_outputs), name=\"t\")"
   ]
  },
  {
   "cell_type": "markdown",
   "metadata": {},
   "source": [
    "Then, the neural network topology is defined: A full-connected 28x28-300-200-100-10 deep neural network. Note that ReLU is the activation function for the hidden layers, and linear logits with softmax for the output. net_out represents the logits of the output layer."
   ]
  },
  {
   "cell_type": "code",
   "execution_count": 8,
   "metadata": {},
   "outputs": [],
   "source": [
    "with tf.name_scope(\"dnn\"):\n",
    "    hidden1 = tf.layers.dense(X, n_hidden1, activation=tf.nn.relu, name=\"hidden1\")\n",
    "    hidden2 = tf.layers.dense(hidden1, n_hidden2, activation=tf.nn.relu, name=\"hidden2\")\n",
    "    hidden3 = tf.layers.dense(hidden2, n_hidden3, activation=tf.nn.relu, name=\"hidden3\")\n",
    "    net_out = tf.layers.dense(hidden3, n_outputs, name=\"net_out\")\n",
    "    y = tf.nn.softmax(logits=net_out, name=\"y\")\n",
    "    rounded_y = tf.round(y)"
   ]
  },
  {
   "cell_type": "markdown",
   "metadata": {},
   "source": [
    "# Loss and cost functions with cross entropy and log-loss"
   ]
  },
  {
   "cell_type": "code",
   "execution_count": 10,
   "metadata": {},
   "outputs": [
    {
     "name": "stdout",
     "output_type": "stream",
     "text": [
      "WARNING:tensorflow:From <ipython-input-10-b4b229523c05>:2: softmax_cross_entropy_with_logits (from tensorflow.python.ops.nn_ops) is deprecated and will be removed in a future version.\n",
      "Instructions for updating:\n",
      "\n",
      "Future major versions of TensorFlow will allow gradients to flow\n",
      "into the labels input on backprop by default.\n",
      "\n",
      "See tf.nn.softmax_cross_entropy_with_logits_v2.\n",
      "\n"
     ]
    }
   ],
   "source": [
    "with tf.name_scope(\"loss\"):\n",
    "    cross_entropy = tf.nn.softmax_cross_entropy_with_logits(labels=t, logits=net_out)\n",
    "    mean_log_loss = tf.reduce_mean(cross_entropy, name=\"mean_loss\")"
   ]
  },
  {
   "cell_type": "markdown",
   "metadata": {},
   "source": [
    "# Evaluating the model"
   ]
  },
  {
   "cell_type": "code",
   "execution_count": 10,
   "metadata": {},
   "outputs": [],
   "source": [
    "correct_predictions = tf.equal(tf.argmax(y, 1), tf.argmax(t, 1))\n",
    "accuracy = tf.reduce_mean(tf.cast(correct_predictions,tf.float32))"
   ]
  },
  {
   "cell_type": "markdown",
   "metadata": {},
   "source": [
    "# Defining the learning algorithm: gradient descent with back-prop"
   ]
  },
  {
   "cell_type": "code",
   "execution_count": 10,
   "metadata": {},
   "outputs": [],
   "source": [
    "train_step = tf.train.GradientDescentOptimizer(learning_rate).minimize(mean_log_loss)"
   ]
  },
  {
   "cell_type": "markdown",
   "metadata": {},
   "source": [
    "# Modifications"
   ]
  },
  {
   "cell_type": "markdown",
   "metadata": {},
   "source": [
    "## Optimization Algorithms\n",
    "\n",
    "First question we should ask ourself, is the bias low-enough?\n",
    "Right now the difference between train error and human error (supposed to be 0 in this example) is roughly 3%. We have no measure to define if this is low or high given that we have no definitive threshold.\n",
    "\n",
    "What we can do is trying to change optimization method in order to lower the number of epocs needed for the full training. We think that doing this now will give us more chances to try different strategies for variance reduction.\n",
    "\n",
    "We will accept another optimization method only if it will keep or improve the actual bias. In case of ties, we will pick the one with best variabilty and/or the most simple one."
   ]
  },
  {
   "cell_type": "code",
   "execution_count": 39,
   "metadata": {},
   "outputs": [
    {
     "data": {
      "text/plain": [
       "<matplotlib.axes._subplots.AxesSubplot at 0x7f7fe550c320>"
      ]
     },
     "execution_count": 39,
     "metadata": {},
     "output_type": "execute_result"
    },
    {
     "data": {
      "image/png": "[encoded data removed]",
      "text/plain": [
       "<matplotlib.figure.Figure at 0x7f7fe5619b38>"
      ]
     },
     "metadata": {},
     "output_type": "display_data"
    }
   ],
   "source": [
    "baseline_results.plot()"
   ]
  },
  {
   "cell_type": "markdown",
   "metadata": {},
   "source": [
    "it is quite clear that the slope of the train accuracy if far from \"nice\". Also we already witnessthe dev accuracy to increase, thus signaling overfitting. Notes the spikes, very strange..."
   ]
  },
  {
   "cell_type": "markdown",
   "metadata": {},
   "source": [
    "### Exponential Decay"
   ]
  },
  {
   "cell_type": "code",
   "execution_count": 17,
   "metadata": {},
   "outputs": [],
   "source": [
    "initial_learning_rate = 0.1\n",
    "decay_steps = 10000\n",
    "decay_rate = 0.96\n",
    "global_step = tf.Variable(0, trainable=False, name=\"global_step\")\n",
    "learning_rate = tf.train.exponential_decay(initial_learning_rate,\n",
    "global_step, decay_steps,\n",
    "decay_rate)\n",
    "optimizer = tf.train.MomentumOptimizer(learning_rate, momentum=0.9)\n",
    "train_step = optimizer.minimize(mean_log_loss, global_step=global_step)\n"
   ]
  },
  {
   "cell_type": "code",
   "execution_count": 18,
   "metadata": {
    "collapsed": true
   },
   "outputs": [
    {
     "name": "stdout",
     "output_type": "stream",
     "text": [
      "200 Train accuracy:  0.7092 Development accuracy:  0.7\n",
      "400 Train accuracy:  0.8973 Development accuracy:  0.836\n",
      "600 Train accuracy:  0.9369 Development accuracy:  0.832\n",
      "800 Train accuracy:  0.9575 Development accuracy:  0.832\n",
      "1000 Train accuracy:  0.9747 Development accuracy:  0.839\n",
      "1200 Train accuracy:  0.9878 Development accuracy:  0.838\n",
      "1400 Train accuracy:  0.9792 Development accuracy:  0.836\n",
      "1600 Train accuracy:  0.9842 Development accuracy:  0.832\n",
      "1800 Train accuracy:  0.9893 Development accuracy:  0.845\n",
      "2000 Train accuracy:  0.9899 Development accuracy:  0.832\n",
      "2200 Train accuracy:  0.9928 Development accuracy:  0.845\n",
      "2400 Train accuracy:  0.9947 Development accuracy:  0.843\n",
      "2600 Train accuracy:  0.9945 Development accuracy:  0.836\n",
      "2800 Train accuracy:  0.9904 Development accuracy:  0.834\n",
      "3000 Train accuracy:  0.9921 Development accuracy:  0.836\n",
      "3200 Train accuracy:  0.9911 Development accuracy:  0.828\n",
      "3400 Train accuracy:  0.9947 Development accuracy:  0.84\n",
      "3600 Train accuracy:  0.9954 Development accuracy:  0.838\n",
      "3800 Train accuracy:  0.9954 Development accuracy:  0.835\n",
      "4000 Train accuracy:  0.9955 Development accuracy:  0.834\n",
      "4200 Train accuracy:  0.9955 Development accuracy:  0.841\n",
      "4400 Train accuracy:  0.9951 Development accuracy:  0.841\n",
      "4600 Train accuracy:  0.9954 Development accuracy:  0.837\n",
      "4800 Train accuracy:  0.9954 Development accuracy:  0.841\n",
      "5000 Train accuracy:  0.9957 Development accuracy:  0.84\n",
      "5200 Train accuracy:  0.9956 Development accuracy:  0.84\n",
      "5400 Train accuracy:  0.9955 Development accuracy:  0.843\n",
      "5600 Train accuracy:  0.9956 Development accuracy:  0.844\n",
      "5800 Train accuracy:  0.9953 Development accuracy:  0.842\n",
      "6000 Train accuracy:  0.9959 Development accuracy:  0.842\n",
      "6200 Train accuracy:  0.9957 Development accuracy:  0.842\n",
      "6400 Train accuracy:  0.9956 Development accuracy:  0.842\n",
      "6600 Train accuracy:  0.9958 Development accuracy:  0.841\n",
      "6800 Train accuracy:  0.9958 Development accuracy:  0.841\n",
      "7000 Train accuracy:  0.9957 Development accuracy:  0.844\n",
      "7200 Train accuracy:  0.9953 Development accuracy:  0.84\n",
      "7400 Train accuracy:  0.9954 Development accuracy:  0.842\n",
      "7600 Train accuracy:  0.9959 Development accuracy:  0.842\n",
      "7800 Train accuracy:  0.9959 Development accuracy:  0.845\n",
      "8000 Train accuracy:  0.9959 Development accuracy:  0.845\n",
      "8200 Train accuracy:  0.9956 Development accuracy:  0.845\n",
      "8400 Train accuracy:  0.9958 Development accuracy:  0.843\n",
      "8600 Train accuracy:  0.9954 Development accuracy:  0.84\n",
      "8800 Train accuracy:  0.9959 Development accuracy:  0.844\n",
      "9000 Train accuracy:  0.9957 Development accuracy:  0.844\n",
      "9200 Train accuracy:  0.9958 Development accuracy:  0.842\n",
      "9400 Train accuracy:  0.9959 Development accuracy:  0.843\n",
      "9600 Train accuracy:  0.9959 Development accuracy:  0.843\n",
      "9800 Train accuracy:  0.9958 Development accuracy:  0.842\n",
      "10000 Train accuracy:  0.9956 Development accuracy:  0.843\n",
      "Target values:\n",
      " [[0. 0. 0. 0. 0. 0. 0. 0. 0. 1.]\n",
      " [0. 0. 0. 0. 0. 0. 0. 0. 1. 0.]\n",
      " [0. 0. 0. 0. 0. 0. 0. 0. 1. 0.]\n",
      " [0. 0. 0. 1. 0. 0. 0. 0. 0. 0.]\n",
      " [1. 0. 0. 0. 0. 0. 0. 0. 0. 0.]\n",
      " [0. 0. 0. 0. 0. 1. 0. 0. 0. 0.]\n",
      " [0. 1. 0. 0. 0. 0. 0. 0. 0. 0.]\n",
      " [0. 0. 0. 1. 0. 0. 0. 0. 0. 0.]\n",
      " [0. 0. 0. 0. 0. 0. 1. 0. 0. 0.]\n",
      " [1. 0. 0. 0. 0. 0. 0. 0. 0. 0.]] \n",
      "Computed values:\n",
      " [[0. 0. 0. 0. 0. 1. 0. 0. 0. 0.]\n",
      " [0. 0. 0. 0. 0. 0. 0. 0. 1. 0.]\n",
      " [0. 0. 0. 0. 0. 0. 0. 0. 1. 0.]\n",
      " [0. 0. 0. 1. 0. 0. 0. 0. 0. 0.]\n",
      " [1. 0. 0. 0. 0. 0. 0. 0. 0. 0.]\n",
      " [0. 0. 0. 0. 0. 1. 0. 0. 0. 0.]\n",
      " [0. 1. 0. 0. 0. 0. 0. 0. 0. 0.]\n",
      " [0. 0. 0. 1. 0. 0. 0. 0. 0. 0.]\n",
      " [0. 0. 0. 0. 0. 0. 1. 0. 0. 0.]\n",
      " [0. 0. 0. 0. 0. 0. 0. 0. 1. 0.]]\n",
      "First 10 Predictions:  [False  True  True  True  True  True  True  True  True False]\n",
      "Elapsed time:  67.77842974662781 secs.\n"
     ]
    }
   ],
   "source": [
    "exp_decay_results, run_time = run(TOT_EPOCS)"
   ]
  },
  {
   "cell_type": "code",
   "execution_count": 41,
   "metadata": {},
   "outputs": [
    {
     "data": {
      "text/plain": [
       "<matplotlib.axes._subplots.AxesSubplot at 0x7f7fe536fa20>"
      ]
     },
     "execution_count": 41,
     "metadata": {},
     "output_type": "execute_result"
    },
    {
     "data": {
      "image/png": "[encoded data removed]",
      "text/plain": [
       "<matplotlib.figure.Figure at 0x7f7fe535f3c8>"
      ]
     },
     "metadata": {},
     "output_type": "display_data"
    }
   ],
   "source": [
    "exp_decay_results.plot()"
   ]
  },
  {
   "cell_type": "code",
   "execution_count": 20,
   "metadata": {},
   "outputs": [
    {
     "data": {
      "text/plain": [
       "accuracy_dev      0.8430\n",
       "accuracy_train    0.9956\n",
       "Name: 10000, dtype: float64"
      ]
     },
     "execution_count": 20,
     "metadata": {},
     "output_type": "execute_result"
    }
   ],
   "source": [
    "exp_decay_results.iloc[-1]"
   ]
  },
  {
   "cell_type": "code",
   "execution_count": 44,
   "metadata": {},
   "outputs": [
    {
     "data": {
      "text/plain": [
       "<matplotlib.axes._subplots.AxesSubplot at 0x7f7fe52dcba8>"
      ]
     },
     "execution_count": 44,
     "metadata": {},
     "output_type": "execute_result"
    },
    {
     "data": {
      "image/png": "[encoded data removed]",
      "text/plain": [
       "<matplotlib.figure.Figure at 0x7f7fe52d7e10>"
      ]
     },
     "metadata": {},
     "output_type": "display_data"
    }
   ],
   "source": [
    "baseline_results.join(exp_decay_results, lsuffix='_baseline', rsuffix='_exponential').plot()"
   ]
  },
  {
   "cell_type": "markdown",
   "metadata": {},
   "source": [
    "So we reduced sensibly the bias without impacting the variance. From the data we can see that we can reduce the number of epocs to 5k, thus gaining 50% of the time."
   ]
  },
  {
   "cell_type": "markdown",
   "metadata": {},
   "source": [
    "### Momentum "
   ]
  },
  {
   "cell_type": "code",
   "execution_count": 23,
   "metadata": {},
   "outputs": [],
   "source": [
    "optimizer = tf.train.MomentumOptimizer(learning_rate=0.1, momentum=0.9)\n",
    "train_step = optimizer.minimize(mean_log_loss, global_step=global_step)"
   ]
  },
  {
   "cell_type": "code",
   "execution_count": 27,
   "metadata": {
    "collapsed": true
   },
   "outputs": [
    {
     "name": "stdout",
     "output_type": "stream",
     "text": [
      "200 Train accuracy:  0.7194 Development accuracy:  0.712\n",
      "400 Train accuracy:  0.8936 Development accuracy:  0.842\n",
      "600 Train accuracy:  0.933 Development accuracy:  0.823\n",
      "800 Train accuracy:  0.954 Development accuracy:  0.842\n",
      "1000 Train accuracy:  0.9763 Development accuracy:  0.852\n",
      "1200 Train accuracy:  0.9857 Development accuracy:  0.849\n",
      "1400 Train accuracy:  0.9858 Development accuracy:  0.846\n",
      "1600 Train accuracy:  0.9842 Development accuracy:  0.845\n",
      "1800 Train accuracy:  0.9858 Development accuracy:  0.847\n",
      "2000 Train accuracy:  0.9898 Development accuracy:  0.851\n",
      "2200 Train accuracy:  0.9924 Development accuracy:  0.852\n",
      "2400 Train accuracy:  0.99 Development accuracy:  0.854\n",
      "2600 Train accuracy:  0.9947 Development accuracy:  0.862\n",
      "2800 Train accuracy:  0.9939 Development accuracy:  0.852\n",
      "3000 Train accuracy:  0.9943 Development accuracy:  0.855\n",
      "3200 Train accuracy:  0.995 Development accuracy:  0.856\n",
      "3400 Train accuracy:  0.9921 Development accuracy:  0.847\n",
      "3600 Train accuracy:  0.9891 Development accuracy:  0.844\n",
      "3800 Train accuracy:  0.989 Development accuracy:  0.849\n",
      "4000 Train accuracy:  0.9885 Development accuracy:  0.844\n",
      "4200 Train accuracy:  0.9953 Development accuracy:  0.851\n",
      "4400 Train accuracy:  0.9947 Development accuracy:  0.851\n",
      "4600 Train accuracy:  0.9957 Development accuracy:  0.854\n",
      "4800 Train accuracy:  0.9958 Development accuracy:  0.852\n",
      "5000 Train accuracy:  0.9956 Development accuracy:  0.852\n",
      "5200 Train accuracy:  0.9959 Development accuracy:  0.854\n",
      "5400 Train accuracy:  0.9956 Development accuracy:  0.856\n",
      "5600 Train accuracy:  0.9959 Development accuracy:  0.856\n",
      "5800 Train accuracy:  0.9955 Development accuracy:  0.855\n",
      "6000 Train accuracy:  0.9959 Development accuracy:  0.856\n",
      "6200 Train accuracy:  0.9962 Development accuracy:  0.855\n",
      "6400 Train accuracy:  0.9958 Development accuracy:  0.854\n",
      "6600 Train accuracy:  0.9958 Development accuracy:  0.854\n",
      "6800 Train accuracy:  0.9961 Development accuracy:  0.854\n",
      "7000 Train accuracy:  0.996 Development accuracy:  0.855\n",
      "7200 Train accuracy:  0.9956 Development accuracy:  0.854\n",
      "7400 Train accuracy:  0.9958 Development accuracy:  0.857\n",
      "7600 Train accuracy:  0.9958 Development accuracy:  0.858\n",
      "7800 Train accuracy:  0.9959 Development accuracy:  0.856\n",
      "8000 Train accuracy:  0.996 Development accuracy:  0.854\n",
      "8200 Train accuracy:  0.996 Development accuracy:  0.854\n",
      "8400 Train accuracy:  0.9961 Development accuracy:  0.857\n",
      "8600 Train accuracy:  0.9953 Development accuracy:  0.852\n",
      "8800 Train accuracy:  0.996 Development accuracy:  0.858\n",
      "9000 Train accuracy:  0.996 Development accuracy:  0.858\n",
      "9200 Train accuracy:  0.996 Development accuracy:  0.856\n",
      "9400 Train accuracy:  0.9962 Development accuracy:  0.857\n",
      "9600 Train accuracy:  0.9958 Development accuracy:  0.858\n",
      "9800 Train accuracy:  0.9962 Development accuracy:  0.858\n",
      "10000 Train accuracy:  0.9952 Development accuracy:  0.854\n",
      "Target values:\n",
      " [[0. 0. 0. 0. 0. 0. 0. 0. 0. 1.]\n",
      " [0. 0. 0. 0. 0. 0. 0. 0. 1. 0.]\n",
      " [0. 0. 0. 0. 0. 0. 0. 0. 1. 0.]\n",
      " [0. 0. 0. 1. 0. 0. 0. 0. 0. 0.]\n",
      " [1. 0. 0. 0. 0. 0. 0. 0. 0. 0.]\n",
      " [0. 0. 0. 0. 0. 1. 0. 0. 0. 0.]\n",
      " [0. 1. 0. 0. 0. 0. 0. 0. 0. 0.]\n",
      " [0. 0. 0. 1. 0. 0. 0. 0. 0. 0.]\n",
      " [0. 0. 0. 0. 0. 0. 1. 0. 0. 0.]\n",
      " [1. 0. 0. 0. 0. 0. 0. 0. 0. 0.]] \n",
      "Computed values:\n",
      " [[0. 0. 0. 0. 0. 0. 0. 0. 0. 1.]\n",
      " [0. 0. 0. 0. 1. 0. 0. 0. 0. 0.]\n",
      " [0. 0. 0. 0. 0. 0. 0. 0. 1. 0.]\n",
      " [0. 0. 0. 1. 0. 0. 0. 0. 0. 0.]\n",
      " [1. 0. 0. 0. 0. 0. 0. 0. 0. 0.]\n",
      " [0. 0. 0. 0. 0. 1. 0. 0. 0. 0.]\n",
      " [0. 1. 0. 0. 0. 0. 0. 0. 0. 0.]\n",
      " [0. 0. 0. 1. 0. 0. 0. 0. 0. 0.]\n",
      " [0. 0. 0. 0. 0. 0. 1. 0. 0. 0.]\n",
      " [0. 0. 0. 0. 0. 0. 1. 0. 0. 0.]]\n",
      "First 10 Predictions:  [ True False  True  True  True  True  True  True  True False]\n",
      "Elapsed time:  67.50239634513855 secs.\n"
     ]
    }
   ],
   "source": [
    "momentum_results, momentum_time = run(TOT_EPOCS)"
   ]
  },
  {
   "cell_type": "code",
   "execution_count": 30,
   "metadata": {},
   "outputs": [
    {
     "data": {
      "text/plain": [
       "<matplotlib.axes._subplots.AxesSubplot at 0x7f7fe56167b8>"
      ]
     },
     "execution_count": 30,
     "metadata": {},
     "output_type": "execute_result"
    },
    {
     "data": {
      "image/png": "[encoded data removed]",
      "text/plain": [
       "<matplotlib.figure.Figure at 0x7f7fe568a860>"
      ]
     },
     "metadata": {},
     "output_type": "display_data"
    }
   ],
   "source": [
    "momentum_results.join(exp_decay_results, lsuffix='_momentum', rsuffix='_exponential').plot()"
   ]
  },
  {
   "cell_type": "markdown",
   "metadata": {},
   "source": [
    "So, same execution time, same number of iterations to reach stability, but better variance. Fot this reason momentum appears to be better"
   ]
  },
  {
   "cell_type": "markdown",
   "metadata": {},
   "source": [
    "### Nesterov accellerated gradient"
   ]
  },
  {
   "cell_type": "code",
   "execution_count": 31,
   "metadata": {},
   "outputs": [],
   "source": [
    "optimizer = tf.train.MomentumOptimizer(learning_rate=0.1, momentum=0.9,\n",
    "use_nesterov=True)\n",
    "train_step = optimizer.minimize(mean_log_loss, global_step=global_step)"
   ]
  },
  {
   "cell_type": "code",
   "execution_count": 32,
   "metadata": {
    "collapsed": true
   },
   "outputs": [
    {
     "name": "stdout",
     "output_type": "stream",
     "text": [
      "200 Train accuracy:  0.72 Development accuracy:  0.711\n",
      "400 Train accuracy:  0.9071 Development accuracy:  0.826\n",
      "600 Train accuracy:  0.9543 Development accuracy:  0.826\n",
      "800 Train accuracy:  0.9627 Development accuracy:  0.82\n",
      "1000 Train accuracy:  0.9777 Development accuracy:  0.824\n",
      "1200 Train accuracy:  0.9871 Development accuracy:  0.839\n",
      "1400 Train accuracy:  0.9909 Development accuracy:  0.827\n",
      "1600 Train accuracy:  0.9905 Development accuracy:  0.839\n",
      "1800 Train accuracy:  0.9925 Development accuracy:  0.851\n",
      "2000 Train accuracy:  0.9894 Development accuracy:  0.84\n",
      "2200 Train accuracy:  0.9925 Development accuracy:  0.843\n",
      "2400 Train accuracy:  0.9931 Development accuracy:  0.835\n",
      "2600 Train accuracy:  0.9936 Development accuracy:  0.837\n",
      "2800 Train accuracy:  0.9953 Development accuracy:  0.856\n",
      "3000 Train accuracy:  0.9948 Development accuracy:  0.85\n",
      "3200 Train accuracy:  0.9955 Development accuracy:  0.847\n",
      "3400 Train accuracy:  0.9957 Development accuracy:  0.848\n",
      "3600 Train accuracy:  0.9957 Development accuracy:  0.849\n",
      "3800 Train accuracy:  0.996 Development accuracy:  0.85\n",
      "4000 Train accuracy:  0.9959 Development accuracy:  0.847\n",
      "4200 Train accuracy:  0.996 Development accuracy:  0.853\n",
      "4400 Train accuracy:  0.9954 Development accuracy:  0.849\n",
      "4600 Train accuracy:  0.9959 Development accuracy:  0.854\n",
      "4800 Train accuracy:  0.9959 Development accuracy:  0.852\n",
      "5000 Train accuracy:  0.996 Development accuracy:  0.854\n",
      "5200 Train accuracy:  0.996 Development accuracy:  0.852\n",
      "5400 Train accuracy:  0.9959 Development accuracy:  0.85\n",
      "5600 Train accuracy:  0.9962 Development accuracy:  0.85\n",
      "5800 Train accuracy:  0.9956 Development accuracy:  0.849\n",
      "6000 Train accuracy:  0.9952 Development accuracy:  0.85\n",
      "6200 Train accuracy:  0.9958 Development accuracy:  0.857\n",
      "6400 Train accuracy:  0.9958 Development accuracy:  0.853\n",
      "6600 Train accuracy:  0.9959 Development accuracy:  0.854\n",
      "6800 Train accuracy:  0.9958 Development accuracy:  0.85\n",
      "7000 Train accuracy:  0.9959 Development accuracy:  0.854\n",
      "7200 Train accuracy:  0.9956 Development accuracy:  0.85\n",
      "7400 Train accuracy:  0.9928 Development accuracy:  0.849\n",
      "7600 Train accuracy:  0.9921 Development accuracy:  0.837\n",
      "7800 Train accuracy:  0.989 Development accuracy:  0.837\n",
      "8000 Train accuracy:  0.9828 Development accuracy:  0.818\n",
      "8200 Train accuracy:  0.9933 Development accuracy:  0.84\n",
      "8400 Train accuracy:  0.995 Development accuracy:  0.842\n",
      "8600 Train accuracy:  0.9949 Development accuracy:  0.842\n",
      "8800 Train accuracy:  0.9955 Development accuracy:  0.848\n",
      "9000 Train accuracy:  0.9959 Development accuracy:  0.85\n",
      "9200 Train accuracy:  0.9956 Development accuracy:  0.849\n",
      "9400 Train accuracy:  0.9957 Development accuracy:  0.853\n",
      "9600 Train accuracy:  0.9958 Development accuracy:  0.853\n",
      "9800 Train accuracy:  0.996 Development accuracy:  0.855\n",
      "10000 Train accuracy:  0.9954 Development accuracy:  0.852\n",
      "Target values:\n",
      " [[0. 0. 0. 0. 0. 0. 0. 0. 0. 1.]\n",
      " [0. 0. 0. 0. 0. 0. 0. 0. 1. 0.]\n",
      " [0. 0. 0. 0. 0. 0. 0. 0. 1. 0.]\n",
      " [0. 0. 0. 1. 0. 0. 0. 0. 0. 0.]\n",
      " [1. 0. 0. 0. 0. 0. 0. 0. 0. 0.]\n",
      " [0. 0. 0. 0. 0. 1. 0. 0. 0. 0.]\n",
      " [0. 1. 0. 0. 0. 0. 0. 0. 0. 0.]\n",
      " [0. 0. 0. 1. 0. 0. 0. 0. 0. 0.]\n",
      " [0. 0. 0. 0. 0. 0. 1. 0. 0. 0.]\n",
      " [1. 0. 0. 0. 0. 0. 0. 0. 0. 0.]] \n",
      "Computed values:\n",
      " [[0. 0. 0. 0. 0. 1. 0. 0. 0. 0.]\n",
      " [0. 0. 0. 0. 1. 0. 0. 0. 0. 0.]\n",
      " [0. 0. 0. 0. 0. 0. 0. 0. 1. 0.]\n",
      " [0. 0. 0. 1. 0. 0. 0. 0. 0. 0.]\n",
      " [1. 0. 0. 0. 0. 0. 0. 0. 0. 0.]\n",
      " [0. 0. 0. 0. 0. 1. 0. 0. 0. 0.]\n",
      " [0. 1. 0. 0. 0. 0. 0. 0. 0. 0.]\n",
      " [0. 0. 0. 1. 0. 0. 0. 0. 0. 0.]\n",
      " [0. 0. 0. 0. 0. 0. 1. 0. 0. 0.]\n",
      " [0. 0. 0. 0. 0. 0. 0. 0. 1. 0.]]\n",
      "First 10 Predictions:  [False False  True  True  True  True  True  True  True False]\n",
      "Elapsed time:  71.20455503463745 secs.\n"
     ]
    }
   ],
   "source": [
    "nesterov_results, nesterov_time = run(TOT_EPOCS)"
   ]
  },
  {
   "cell_type": "code",
   "execution_count": 34,
   "metadata": {},
   "outputs": [
    {
     "data": {
      "text/plain": [
       "<matplotlib.axes._subplots.AxesSubplot at 0x7f7fe550cdd8>"
      ]
     },
     "execution_count": 34,
     "metadata": {},
     "output_type": "execute_result"
    },
    {
     "data": {
      "image/png": "[encoded data removed]",
      "text/plain": [
       "<matplotlib.figure.Figure at 0x7f7fe550c390>"
      ]
     },
     "metadata": {},
     "output_type": "display_data"
    }
   ],
   "source": [
    "nesterov_results.join(momentum_results, lsuffix=\"_nesterov\", rsuffix=\"_momentum\").plot()"
   ]
  },
  {
   "cell_type": "markdown",
   "metadata": {},
   "source": [
    "nestorev does not seem to be a noticeable improvement, we are going to keep momentum, given that it is simpler"
   ]
  },
  {
   "cell_type": "markdown",
   "metadata": {},
   "source": [
    "### Adam"
   ]
  },
  {
   "cell_type": "code",
   "execution_count": 35,
   "metadata": {},
   "outputs": [],
   "source": [
    "optimizer = tf.train.AdamOptimizer(learning_rate= 0.001)\n",
    "train_step = optimizer.minimize(mean_log_loss, global_step=global_step)\n"
   ]
  },
  {
   "cell_type": "code",
   "execution_count": 36,
   "metadata": {
    "collapsed": true
   },
   "outputs": [
    {
     "name": "stdout",
     "output_type": "stream",
     "text": [
      "200 Train accuracy:  0.713 Development accuracy:  0.718\n",
      "400 Train accuracy:  0.9143 Development accuracy:  0.839\n",
      "600 Train accuracy:  0.9677 Development accuracy:  0.845\n",
      "800 Train accuracy:  0.9746 Development accuracy:  0.841\n",
      "1000 Train accuracy:  0.9891 Development accuracy:  0.844\n",
      "1200 Train accuracy:  0.9915 Development accuracy:  0.833\n",
      "1400 Train accuracy:  0.9892 Development accuracy:  0.837\n",
      "1600 Train accuracy:  0.9929 Development accuracy:  0.843\n",
      "1800 Train accuracy:  0.9895 Development accuracy:  0.836\n",
      "2000 Train accuracy:  0.9934 Development accuracy:  0.832\n",
      "2200 Train accuracy:  0.9937 Development accuracy:  0.839\n",
      "2400 Train accuracy:  0.988 Development accuracy:  0.82\n",
      "2600 Train accuracy:  0.9911 Development accuracy:  0.829\n",
      "2800 Train accuracy:  0.9933 Development accuracy:  0.842\n",
      "3000 Train accuracy:  0.9945 Development accuracy:  0.851\n",
      "3200 Train accuracy:  0.9844 Development accuracy:  0.841\n",
      "3400 Train accuracy:  0.9917 Development accuracy:  0.835\n",
      "3600 Train accuracy:  0.995 Development accuracy:  0.846\n",
      "3800 Train accuracy:  0.9955 Development accuracy:  0.849\n",
      "4000 Train accuracy:  0.9954 Development accuracy:  0.848\n",
      "4200 Train accuracy:  0.9937 Development accuracy:  0.848\n",
      "4400 Train accuracy:  0.9936 Development accuracy:  0.838\n",
      "4600 Train accuracy:  0.9861 Development accuracy:  0.825\n",
      "4800 Train accuracy:  0.9928 Development accuracy:  0.84\n",
      "5000 Train accuracy:  0.9952 Development accuracy:  0.847\n",
      "5200 Train accuracy:  0.9954 Development accuracy:  0.854\n",
      "5400 Train accuracy:  0.9958 Development accuracy:  0.856\n",
      "5600 Train accuracy:  0.9959 Development accuracy:  0.853\n",
      "5800 Train accuracy:  0.9955 Development accuracy:  0.854\n",
      "6000 Train accuracy:  0.9953 Development accuracy:  0.854\n",
      "6200 Train accuracy:  0.9839 Development accuracy:  0.831\n",
      "6400 Train accuracy:  0.9942 Development accuracy:  0.852\n",
      "6600 Train accuracy:  0.9956 Development accuracy:  0.856\n",
      "6800 Train accuracy:  0.9958 Development accuracy:  0.857\n",
      "7000 Train accuracy:  0.9959 Development accuracy:  0.86\n",
      "7200 Train accuracy:  0.995 Development accuracy:  0.858\n",
      "7400 Train accuracy:  0.991 Development accuracy:  0.851\n",
      "7600 Train accuracy:  0.9887 Development accuracy:  0.837\n",
      "7800 Train accuracy:  0.9952 Development accuracy:  0.851\n",
      "8000 Train accuracy:  0.9931 Development accuracy:  0.845\n",
      "8200 Train accuracy:  0.9946 Development accuracy:  0.847\n",
      "8400 Train accuracy:  0.9953 Development accuracy:  0.844\n",
      "8600 Train accuracy:  0.995 Development accuracy:  0.847\n",
      "8800 Train accuracy:  0.9952 Development accuracy:  0.847\n",
      "9000 Train accuracy:  0.9956 Development accuracy:  0.852\n",
      "9200 Train accuracy:  0.9952 Development accuracy:  0.849\n",
      "9400 Train accuracy:  0.9953 Development accuracy:  0.851\n",
      "9600 Train accuracy:  0.9954 Development accuracy:  0.852\n",
      "9800 Train accuracy:  0.9954 Development accuracy:  0.851\n",
      "10000 Train accuracy:  0.9951 Development accuracy:  0.85\n",
      "Target values:\n",
      " [[0. 0. 0. 0. 0. 0. 0. 0. 0. 1.]\n",
      " [0. 0. 0. 0. 0. 0. 0. 0. 1. 0.]\n",
      " [0. 0. 0. 0. 0. 0. 0. 0. 1. 0.]\n",
      " [0. 0. 0. 1. 0. 0. 0. 0. 0. 0.]\n",
      " [1. 0. 0. 0. 0. 0. 0. 0. 0. 0.]\n",
      " [0. 0. 0. 0. 0. 1. 0. 0. 0. 0.]\n",
      " [0. 1. 0. 0. 0. 0. 0. 0. 0. 0.]\n",
      " [0. 0. 0. 1. 0. 0. 0. 0. 0. 0.]\n",
      " [0. 0. 0. 0. 0. 0. 1. 0. 0. 0.]\n",
      " [1. 0. 0. 0. 0. 0. 0. 0. 0. 0.]] \n",
      "Computed values:\n",
      " [[0. 0. 0. 0. 0. 1. 0. 0. 0. 0.]\n",
      " [0. 0. 0. 0. 0. 0. 0. 1. 0. 0.]\n",
      " [0. 0. 0. 0. 0. 0. 0. 0. 1. 0.]\n",
      " [0. 0. 0. 1. 0. 0. 0. 0. 0. 0.]\n",
      " [1. 0. 0. 0. 0. 0. 0. 0. 0. 0.]\n",
      " [0. 0. 0. 0. 0. 1. 0. 0. 0. 0.]\n",
      " [0. 1. 0. 0. 0. 0. 0. 0. 0. 0.]\n",
      " [0. 0. 0. 1. 0. 0. 0. 0. 0. 0.]\n",
      " [0. 0. 0. 0. 0. 0. 1. 0. 0. 0.]\n",
      " [0. 0. 0. 0. 0. 0. 0. 0. 0. 0.]]\n",
      "First 10 Predictions:  [False False  True  True  True  True  True  True  True False]\n",
      "Elapsed time:  71.84303450584412 secs.\n"
     ]
    }
   ],
   "source": [
    "adam_results, adam_time = run(TOT_EPOCS)"
   ]
  },
  {
   "cell_type": "code",
   "execution_count": 37,
   "metadata": {},
   "outputs": [
    {
     "data": {
      "text/plain": [
       "<matplotlib.axes._subplots.AxesSubplot at 0x7f800de37710>"
      ]
     },
     "execution_count": 37,
     "metadata": {},
     "output_type": "execute_result"
    },
    {
     "data": {
      "image/png": "[encoded data removed]",
      "text/plain": [
       "<matplotlib.figure.Figure at 0x7f800c3c37f0>"
      ]
     },
     "metadata": {},
     "output_type": "display_data"
    }
   ],
   "source": [
    "adam_results.join(momentum_results, lsuffix=\"_adam\", rsuffix=\"_momentum\").plot()"
   ]
  },
  {
   "cell_type": "markdown",
   "metadata": {},
   "source": [
    "Adam is faster as prmosed in reaching the maximum train accuracy, but the dev and train accuracy have periodic spikes.\n",
    "\n",
    "The gain is not worth it. We will stick with momentum"
   ]
  },
  {
   "cell_type": "markdown",
   "metadata": {},
   "source": [
    "# Next Step: change learning rate"
   ]
  },
  {
   "cell_type": "code",
   "execution_count": 47,
   "metadata": {},
   "outputs": [
    {
     "name": "stdout",
     "output_type": "stream",
     "text": [
      "200 Train accuracy:  0.7221 Development accuracy:  0.717\n",
      "400 Train accuracy:  0.8638 Development accuracy:  0.82\n",
      "600 Train accuracy:  0.8993 Development accuracy:  0.828\n",
      "800 Train accuracy:  0.9252 Development accuracy:  0.838\n",
      "1000 Train accuracy:  0.9574 Development accuracy:  0.836\n",
      "1200 Train accuracy:  0.9743 Development accuracy:  0.834\n",
      "1400 Train accuracy:  0.9849 Development accuracy:  0.829\n",
      "1600 Train accuracy:  0.9744 Development accuracy:  0.829\n",
      "1800 Train accuracy:  0.9919 Development accuracy:  0.835\n",
      "2000 Train accuracy:  0.9932 Development accuracy:  0.835\n",
      "2200 Train accuracy:  0.9936 Development accuracy:  0.83\n",
      "2400 Train accuracy:  0.9945 Development accuracy:  0.838\n",
      "2600 Train accuracy:  0.9947 Development accuracy:  0.834\n",
      "2800 Train accuracy:  0.9947 Development accuracy:  0.836\n",
      "3000 Train accuracy:  0.9941 Development accuracy:  0.828\n",
      "3200 Train accuracy:  0.9936 Development accuracy:  0.827\n",
      "3400 Train accuracy:  0.9949 Development accuracy:  0.836\n",
      "3600 Train accuracy:  0.9948 Development accuracy:  0.831\n",
      "3800 Train accuracy:  0.9946 Development accuracy:  0.826\n",
      "4000 Train accuracy:  0.9948 Development accuracy:  0.826\n",
      "4200 Train accuracy:  0.9951 Development accuracy:  0.829\n",
      "4400 Train accuracy:  0.9947 Development accuracy:  0.833\n",
      "4600 Train accuracy:  0.9951 Development accuracy:  0.834\n",
      "4800 Train accuracy:  0.9951 Development accuracy:  0.832\n",
      "5000 Train accuracy:  0.9949 Development accuracy:  0.834\n",
      "Target values:\n",
      " [[0. 0. 0. 0. 0. 0. 0. 0. 0. 1.]\n",
      " [0. 0. 0. 0. 0. 0. 0. 0. 1. 0.]\n",
      " [0. 0. 0. 0. 0. 0. 0. 0. 1. 0.]\n",
      " [0. 0. 0. 1. 0. 0. 0. 0. 0. 0.]\n",
      " [1. 0. 0. 0. 0. 0. 0. 0. 0. 0.]\n",
      " [0. 0. 0. 0. 0. 1. 0. 0. 0. 0.]\n",
      " [0. 1. 0. 0. 0. 0. 0. 0. 0. 0.]\n",
      " [0. 0. 0. 1. 0. 0. 0. 0. 0. 0.]\n",
      " [0. 0. 0. 0. 0. 0. 1. 0. 0. 0.]\n",
      " [1. 0. 0. 0. 0. 0. 0. 0. 0. 0.]] \n",
      "Computed values:\n",
      " [[0. 0. 0. 0. 0. 0. 0. 0. 0. 1.]\n",
      " [0. 0. 0. 0. 1. 0. 0. 0. 0. 0.]\n",
      " [0. 0. 0. 0. 0. 0. 0. 0. 1. 0.]\n",
      " [0. 0. 0. 1. 0. 0. 0. 0. 0. 0.]\n",
      " [1. 0. 0. 0. 0. 0. 0. 0. 0. 0.]\n",
      " [0. 0. 0. 0. 0. 1. 0. 0. 0. 0.]\n",
      " [0. 1. 0. 0. 0. 0. 0. 0. 0. 0.]\n",
      " [0. 0. 0. 1. 0. 0. 0. 0. 0. 0.]\n",
      " [0. 0. 0. 0. 0. 0. 1. 0. 0. 0.]\n",
      " [0. 0. 0. 0. 0. 0. 0. 0. 1. 0.]]\n",
      "First 10 Predictions:  [ True False  True  True  True  True  True  True  True False]\n",
      "Elapsed time:  33.15460729598999 secs.\n"
     ]
    }
   ],
   "source": [
    "optimizer = tf.train.MomentumOptimizer(learning_rate=0.01, momentum=0.9)\n",
    "train_step = optimizer.minimize(mean_log_loss, global_step=global_step)\n",
    "\n",
    "momentum_1_results, _ = run(5000)"
   ]
  },
  {
   "cell_type": "code",
   "execution_count": 50,
   "metadata": {},
   "outputs": [
    {
     "data": {
      "text/plain": [
       "<matplotlib.axes._subplots.AxesSubplot at 0x7f7fe4e8fb00>"
      ]
     },
     "execution_count": 50,
     "metadata": {},
     "output_type": "execute_result"
    },
    {
     "data": {
      "image/png": "[encoded data removed]",
      "text/plain": [
       "<matplotlib.figure.Figure at 0x7f7fe4eb91d0>"
      ]
     },
     "metadata": {},
     "output_type": "display_data"
    }
   ],
   "source": [
    "momentum_1_results.join(momentum_results, lsuffix=\"_001\", rsuffix=\"_01\").plot()"
   ]
  },
  {
   "cell_type": "markdown",
   "metadata": {},
   "source": [
    "It is better with 0.1"
   ]
  },
  {
   "cell_type": "markdown",
   "metadata": {},
   "source": [
    "# Final setup for optimizer"
   ]
  },
  {
   "cell_type": "code",
   "execution_count": 12,
   "metadata": {},
   "outputs": [],
   "source": [
    "global_step = tf.Variable(0, trainable=False, name=\"global_step\")\n",
    "optimizer = tf.train.MomentumOptimizer(learning_rate=0.1, momentum=0.9)\n",
    "train_step = optimizer.minimize(mean_log_loss, global_step=global_step)\n",
    "TOT_EPOCS = 5000"
   ]
  },
  {
   "cell_type": "markdown",
   "metadata": {},
   "source": [
    "We also set the epochs to 5k"
   ]
  },
  {
   "cell_type": "code",
   "execution_count": 19,
   "metadata": {
    "collapsed": true
   },
   "outputs": [
    {
     "name": "stdout",
     "output_type": "stream",
     "text": [
      "200 Train accuracy:  0.7083 Development accuracy:  0.702\n",
      "400 Train accuracy:  0.8852 Development accuracy:  0.836\n",
      "600 Train accuracy:  0.9318 Development accuracy:  0.843\n",
      "800 Train accuracy:  0.9333 Development accuracy:  0.821\n",
      "1000 Train accuracy:  0.9643 Development accuracy:  0.834\n",
      "1200 Train accuracy:  0.9714 Development accuracy:  0.832\n",
      "1400 Train accuracy:  0.9841 Development accuracy:  0.837\n"
     ]
    },
    {
     "ename": "KeyboardInterrupt",
     "evalue": "",
     "output_type": "error",
     "traceback": [
      "\u001b[0;31m---------------------------------------------------------------------------\u001b[0m",
      "\u001b[0;31mKeyboardInterrupt\u001b[0m                         Traceback (most recent call last)",
      "\u001b[0;32m<ipython-input-19-d767275c1969>\u001b[0m in \u001b[0;36m<module>\u001b[0;34m()\u001b[0m\n\u001b[0;32m----> 1\u001b[0;31m \u001b[0mmomentum_results\u001b[0m\u001b[0;34m,\u001b[0m \u001b[0m_\u001b[0m \u001b[0;34m=\u001b[0m \u001b[0mrun\u001b[0m\u001b[0;34m(\u001b[0m\u001b[0mTOT_EPOCS\u001b[0m\u001b[0;34m)\u001b[0m\u001b[0;34m\u001b[0m\u001b[0m\n\u001b[0m",
      "\u001b[0;32m<ipython-input-14-7ce0e7eef4c4>\u001b[0m in \u001b[0;36mrun\u001b[0;34m(n_epochs, initialize, save_to)\u001b[0m\n\u001b[1;32m     12\u001b[0m                 \u001b[0moffset\u001b[0m \u001b[0;34m=\u001b[0m \u001b[0;34m(\u001b[0m\u001b[0miteration\u001b[0m \u001b[0;34m*\u001b[0m \u001b[0mepoch\u001b[0m \u001b[0;34m*\u001b[0m \u001b[0mbatch_size\u001b[0m\u001b[0;34m)\u001b[0m \u001b[0;34m%\u001b[0m \u001b[0;34m(\u001b[0m\u001b[0my_train\u001b[0m\u001b[0;34m.\u001b[0m\u001b[0mshape\u001b[0m\u001b[0;34m[\u001b[0m\u001b[0;36m0\u001b[0m\u001b[0;34m]\u001b[0m \u001b[0;34m-\u001b[0m \u001b[0mbatch_size\u001b[0m\u001b[0;34m)\u001b[0m\u001b[0;34m\u001b[0m\u001b[0m\n\u001b[1;32m     13\u001b[0m                 sess.run(train_step, feed_dict={X: x_train[offset:(offset+batch_size),:],\n\u001b[0;32m---> 14\u001b[0;31m                                                 t: y_train[offset:(offset+batch_size),:]})\n\u001b[0m\u001b[1;32m     15\u001b[0m             \u001b[0maccuracy_train\u001b[0m \u001b[0;34m=\u001b[0m \u001b[0maccuracy\u001b[0m\u001b[0;34m.\u001b[0m\u001b[0meval\u001b[0m\u001b[0;34m(\u001b[0m\u001b[0mfeed_dict\u001b[0m\u001b[0;34m=\u001b[0m\u001b[0;34m{\u001b[0m\u001b[0mX\u001b[0m\u001b[0;34m:\u001b[0m \u001b[0mx_train\u001b[0m\u001b[0;34m,\u001b[0m \u001b[0mt\u001b[0m\u001b[0;34m:\u001b[0m \u001b[0my_train\u001b[0m\u001b[0;34m}\u001b[0m\u001b[0;34m)\u001b[0m\u001b[0;34m\u001b[0m\u001b[0m\n\u001b[1;32m     16\u001b[0m             \u001b[0maccuracy_dev\u001b[0m \u001b[0;34m=\u001b[0m \u001b[0maccuracy\u001b[0m\u001b[0;34m.\u001b[0m\u001b[0meval\u001b[0m\u001b[0;34m(\u001b[0m\u001b[0mfeed_dict\u001b[0m\u001b[0;34m=\u001b[0m\u001b[0;34m{\u001b[0m\u001b[0mX\u001b[0m\u001b[0;34m:\u001b[0m \u001b[0mx_dev\u001b[0m\u001b[0;34m,\u001b[0m \u001b[0mt\u001b[0m\u001b[0;34m:\u001b[0m \u001b[0my_dev\u001b[0m\u001b[0;34m}\u001b[0m\u001b[0;34m)\u001b[0m\u001b[0;34m\u001b[0m\u001b[0m\n",
      "\u001b[0;32m~/virtualenvs/shazura/lib/python3.5/site-packages/tensorflow/python/client/session.py\u001b[0m in \u001b[0;36mrun\u001b[0;34m(self, fetches, feed_dict, options, run_metadata)\u001b[0m\n\u001b[1;32m    903\u001b[0m     \u001b[0;32mtry\u001b[0m\u001b[0;34m:\u001b[0m\u001b[0;34m\u001b[0m\u001b[0m\n\u001b[1;32m    904\u001b[0m       result = self._run(None, fetches, feed_dict, options_ptr,\n\u001b[0;32m--> 905\u001b[0;31m                          run_metadata_ptr)\n\u001b[0m\u001b[1;32m    906\u001b[0m       \u001b[0;32mif\u001b[0m \u001b[0mrun_metadata\u001b[0m\u001b[0;34m:\u001b[0m\u001b[0;34m\u001b[0m\u001b[0m\n\u001b[1;32m    907\u001b[0m         \u001b[0mproto_data\u001b[0m \u001b[0;34m=\u001b[0m \u001b[0mtf_session\u001b[0m\u001b[0;34m.\u001b[0m\u001b[0mTF_GetBuffer\u001b[0m\u001b[0;34m(\u001b[0m\u001b[0mrun_metadata_ptr\u001b[0m\u001b[0;34m)\u001b[0m\u001b[0;34m\u001b[0m\u001b[0m\n",
      "\u001b[0;32m~/virtualenvs/shazura/lib/python3.5/site-packages/tensorflow/python/client/session.py\u001b[0m in \u001b[0;36m_run\u001b[0;34m(self, handle, fetches, feed_dict, options, run_metadata)\u001b[0m\n\u001b[1;32m   1138\u001b[0m     \u001b[0;32mif\u001b[0m \u001b[0mfinal_fetches\u001b[0m \u001b[0;32mor\u001b[0m \u001b[0mfinal_targets\u001b[0m \u001b[0;32mor\u001b[0m \u001b[0;34m(\u001b[0m\u001b[0mhandle\u001b[0m \u001b[0;32mand\u001b[0m \u001b[0mfeed_dict_tensor\u001b[0m\u001b[0;34m)\u001b[0m\u001b[0;34m:\u001b[0m\u001b[0;34m\u001b[0m\u001b[0m\n\u001b[1;32m   1139\u001b[0m       results = self._do_run(handle, final_targets, final_fetches,\n\u001b[0;32m-> 1140\u001b[0;31m                              feed_dict_tensor, options, run_metadata)\n\u001b[0m\u001b[1;32m   1141\u001b[0m     \u001b[0;32melse\u001b[0m\u001b[0;34m:\u001b[0m\u001b[0;34m\u001b[0m\u001b[0m\n\u001b[1;32m   1142\u001b[0m       \u001b[0mresults\u001b[0m \u001b[0;34m=\u001b[0m \u001b[0;34m[\u001b[0m\u001b[0;34m]\u001b[0m\u001b[0;34m\u001b[0m\u001b[0m\n",
      "\u001b[0;32m~/virtualenvs/shazura/lib/python3.5/site-packages/tensorflow/python/client/session.py\u001b[0m in \u001b[0;36m_do_run\u001b[0;34m(self, handle, target_list, fetch_list, feed_dict, options, run_metadata)\u001b[0m\n\u001b[1;32m   1319\u001b[0m     \u001b[0;32mif\u001b[0m \u001b[0mhandle\u001b[0m \u001b[0;32mis\u001b[0m \u001b[0;32mNone\u001b[0m\u001b[0;34m:\u001b[0m\u001b[0;34m\u001b[0m\u001b[0m\n\u001b[1;32m   1320\u001b[0m       return self._do_call(_run_fn, feeds, fetches, targets, options,\n\u001b[0;32m-> 1321\u001b[0;31m                            run_metadata)\n\u001b[0m\u001b[1;32m   1322\u001b[0m     \u001b[0;32melse\u001b[0m\u001b[0;34m:\u001b[0m\u001b[0;34m\u001b[0m\u001b[0m\n\u001b[1;32m   1323\u001b[0m       \u001b[0;32mreturn\u001b[0m \u001b[0mself\u001b[0m\u001b[0;34m.\u001b[0m\u001b[0m_do_call\u001b[0m\u001b[0;34m(\u001b[0m\u001b[0m_prun_fn\u001b[0m\u001b[0;34m,\u001b[0m \u001b[0mhandle\u001b[0m\u001b[0;34m,\u001b[0m \u001b[0mfeeds\u001b[0m\u001b[0;34m,\u001b[0m \u001b[0mfetches\u001b[0m\u001b[0;34m)\u001b[0m\u001b[0;34m\u001b[0m\u001b[0m\n",
      "\u001b[0;32m~/virtualenvs/shazura/lib/python3.5/site-packages/tensorflow/python/client/session.py\u001b[0m in \u001b[0;36m_do_call\u001b[0;34m(self, fn, *args)\u001b[0m\n\u001b[1;32m   1325\u001b[0m   \u001b[0;32mdef\u001b[0m \u001b[0m_do_call\u001b[0m\u001b[0;34m(\u001b[0m\u001b[0mself\u001b[0m\u001b[0;34m,\u001b[0m \u001b[0mfn\u001b[0m\u001b[0;34m,\u001b[0m \u001b[0;34m*\u001b[0m\u001b[0margs\u001b[0m\u001b[0;34m)\u001b[0m\u001b[0;34m:\u001b[0m\u001b[0;34m\u001b[0m\u001b[0m\n\u001b[1;32m   1326\u001b[0m     \u001b[0;32mtry\u001b[0m\u001b[0;34m:\u001b[0m\u001b[0;34m\u001b[0m\u001b[0m\n\u001b[0;32m-> 1327\u001b[0;31m       \u001b[0;32mreturn\u001b[0m \u001b[0mfn\u001b[0m\u001b[0;34m(\u001b[0m\u001b[0;34m*\u001b[0m\u001b[0margs\u001b[0m\u001b[0;34m)\u001b[0m\u001b[0;34m\u001b[0m\u001b[0m\n\u001b[0m\u001b[1;32m   1328\u001b[0m     \u001b[0;32mexcept\u001b[0m \u001b[0merrors\u001b[0m\u001b[0;34m.\u001b[0m\u001b[0mOpError\u001b[0m \u001b[0;32mas\u001b[0m \u001b[0me\u001b[0m\u001b[0;34m:\u001b[0m\u001b[0;34m\u001b[0m\u001b[0m\n\u001b[1;32m   1329\u001b[0m       \u001b[0mmessage\u001b[0m \u001b[0;34m=\u001b[0m \u001b[0mcompat\u001b[0m\u001b[0;34m.\u001b[0m\u001b[0mas_text\u001b[0m\u001b[0;34m(\u001b[0m\u001b[0me\u001b[0m\u001b[0;34m.\u001b[0m\u001b[0mmessage\u001b[0m\u001b[0;34m)\u001b[0m\u001b[0;34m\u001b[0m\u001b[0m\n",
      "\u001b[0;32m~/virtualenvs/shazura/lib/python3.5/site-packages/tensorflow/python/client/session.py\u001b[0m in \u001b[0;36m_run_fn\u001b[0;34m(feed_dict, fetch_list, target_list, options, run_metadata)\u001b[0m\n\u001b[1;32m   1310\u001b[0m       \u001b[0mself\u001b[0m\u001b[0;34m.\u001b[0m\u001b[0m_extend_graph\u001b[0m\u001b[0;34m(\u001b[0m\u001b[0;34m)\u001b[0m\u001b[0;34m\u001b[0m\u001b[0m\n\u001b[1;32m   1311\u001b[0m       return self._call_tf_sessionrun(\n\u001b[0;32m-> 1312\u001b[0;31m           options, feed_dict, fetch_list, target_list, run_metadata)\n\u001b[0m\u001b[1;32m   1313\u001b[0m \u001b[0;34m\u001b[0m\u001b[0m\n\u001b[1;32m   1314\u001b[0m     \u001b[0;32mdef\u001b[0m \u001b[0m_prun_fn\u001b[0m\u001b[0;34m(\u001b[0m\u001b[0mhandle\u001b[0m\u001b[0;34m,\u001b[0m \u001b[0mfeed_dict\u001b[0m\u001b[0;34m,\u001b[0m \u001b[0mfetch_list\u001b[0m\u001b[0;34m)\u001b[0m\u001b[0;34m:\u001b[0m\u001b[0;34m\u001b[0m\u001b[0m\n",
      "\u001b[0;32m~/virtualenvs/shazura/lib/python3.5/site-packages/tensorflow/python/client/session.py\u001b[0m in \u001b[0;36m_call_tf_sessionrun\u001b[0;34m(self, options, feed_dict, fetch_list, target_list, run_metadata)\u001b[0m\n\u001b[1;32m   1418\u001b[0m         return tf_session.TF_Run(\n\u001b[1;32m   1419\u001b[0m             \u001b[0mself\u001b[0m\u001b[0;34m.\u001b[0m\u001b[0m_session\u001b[0m\u001b[0;34m,\u001b[0m \u001b[0moptions\u001b[0m\u001b[0;34m,\u001b[0m \u001b[0mfeed_dict\u001b[0m\u001b[0;34m,\u001b[0m \u001b[0mfetch_list\u001b[0m\u001b[0;34m,\u001b[0m \u001b[0mtarget_list\u001b[0m\u001b[0;34m,\u001b[0m\u001b[0;34m\u001b[0m\u001b[0m\n\u001b[0;32m-> 1420\u001b[0;31m             status, run_metadata)\n\u001b[0m\u001b[1;32m   1421\u001b[0m \u001b[0;34m\u001b[0m\u001b[0m\n\u001b[1;32m   1422\u001b[0m   \u001b[0;32mdef\u001b[0m \u001b[0m_call_tf_sessionprun\u001b[0m\u001b[0;34m(\u001b[0m\u001b[0mself\u001b[0m\u001b[0;34m,\u001b[0m \u001b[0mhandle\u001b[0m\u001b[0;34m,\u001b[0m \u001b[0mfeed_dict\u001b[0m\u001b[0;34m,\u001b[0m \u001b[0mfetch_list\u001b[0m\u001b[0;34m)\u001b[0m\u001b[0;34m:\u001b[0m\u001b[0;34m\u001b[0m\u001b[0m\n",
      "\u001b[0;31mKeyboardInterrupt\u001b[0m: "
     ]
    }
   ],
   "source": [
    "momentum_results, _ = run(TOT_EPOCS)"
   ]
  },
  {
   "cell_type": "code",
   "execution_count": 25,
   "metadata": {},
   "outputs": [
    {
     "data": {
      "text/plain": [
       "<matplotlib.axes._subplots.AxesSubplot at 0x7fb97c3f6080>"
      ]
     },
     "execution_count": 25,
     "metadata": {},
     "output_type": "execute_result"
    },
    {
     "data": {
      "image/png": "[encoded data removed]",
      "text/plain": [
       "<matplotlib.figure.Figure at 0x7fb97c8b5c50>"
      ]
     },
     "metadata": {},
     "output_type": "display_data"
    }
   ],
   "source": [
    "momentum_results.plot()"
   ]
  },
  {
   "cell_type": "code",
   "execution_count": 26,
   "metadata": {},
   "outputs": [],
   "source": [
    "pd.to_pickle(momentum_results, \"momentum_results.pickle\")"
   ]
  },
  {
   "cell_type": "code",
   "execution_count": 13,
   "metadata": {},
   "outputs": [],
   "source": [
    "momentum_results = pd.read_pickle(\"momentum_results.pickle\")"
   ]
  },
  {
   "cell_type": "markdown",
   "metadata": {},
   "source": [
    "## Next step: weight initialization\n",
    "Weight initialization should affect mainly the training time and bias, hence we should try it now, before getting to the variance."
   ]
  },
  {
   "cell_type": "code",
   "execution_count": 15,
   "metadata": {},
   "outputs": [],
   "source": [
    "#set the reandom seed to have always the same results\n",
    "tf.set_random_seed(1234)"
   ]
  },
  {
   "cell_type": "code",
   "execution_count": 9,
   "metadata": {},
   "outputs": [
    {
     "name": "stdout",
     "output_type": "stream",
     "text": [
      "WARNING:tensorflow:From /home/giorgio/virtualenvs/shazura/lib/python3.5/site-packages/tensorflow/contrib/learn/python/learn/datasets/base.py:198: retry (from tensorflow.contrib.learn.python.learn.datasets.base) is deprecated and will be removed in a future version.\n",
      "Instructions for updating:\n",
      "Use the retry module or similar alternatives.\n"
     ]
    }
   ],
   "source": [
    "with tf.name_scope(\"dnn\"):\n",
    "    he_init = tf.contrib.layers.variance_scaling_initializer()\n",
    "    hidden1 = tf.layers.dense(X, n_hidden1, activation=tf.nn.relu, name=\"hidden1\", kernel_initializer=he_init)\n",
    "    hidden2 = tf.layers.dense(hidden1, n_hidden2, activation=tf.nn.relu, name=\"hidden2\", kernel_initializer=he_init)\n",
    "    hidden3 = tf.layers.dense(hidden2, n_hidden3, activation=tf.nn.relu, name=\"hidden3\", kernel_initializer=he_init)\n",
    "    net_out = tf.layers.dense(hidden3, n_outputs, name=\"net_out\", kernel_initializer=he_init)\n",
    "    y = tf.nn.softmax(logits=net_out, name=\"y\")\n",
    "    rounded_y = tf.round(y)"
   ]
  },
  {
   "cell_type": "code",
   "execution_count": 19,
   "metadata": {
    "collapsed": true
   },
   "outputs": [
    {
     "name": "stdout",
     "output_type": "stream",
     "text": [
      "200 Train accuracy:  0.7225 Development accuracy:  0.736\n",
      "400 Train accuracy:  0.8949 Development accuracy:  0.825\n",
      "600 Train accuracy:  0.9347 Development accuracy:  0.816\n",
      "800 Train accuracy:  0.9502 Development accuracy:  0.824\n",
      "1000 Train accuracy:  0.9693 Development accuracy:  0.821\n",
      "1200 Train accuracy:  0.9831 Development accuracy:  0.824\n",
      "1400 Train accuracy:  0.9842 Development accuracy:  0.832\n",
      "1600 Train accuracy:  0.9855 Development accuracy:  0.835\n",
      "1800 Train accuracy:  0.9895 Development accuracy:  0.832\n",
      "2000 Train accuracy:  0.9859 Development accuracy:  0.834\n",
      "2200 Train accuracy:  0.9891 Development accuracy:  0.834\n",
      "2400 Train accuracy:  0.993 Development accuracy:  0.827\n",
      "2600 Train accuracy:  0.9904 Development accuracy:  0.831\n",
      "2800 Train accuracy:  0.9931 Development accuracy:  0.837\n",
      "3000 Train accuracy:  0.9938 Development accuracy:  0.832\n",
      "3200 Train accuracy:  0.994 Development accuracy:  0.826\n",
      "3400 Train accuracy:  0.9902 Development accuracy:  0.832\n",
      "3600 Train accuracy:  0.9945 Development accuracy:  0.841\n",
      "3800 Train accuracy:  0.9953 Development accuracy:  0.84\n",
      "4000 Train accuracy:  0.9955 Development accuracy:  0.836\n",
      "4200 Train accuracy:  0.9958 Development accuracy:  0.839\n",
      "4400 Train accuracy:  0.9949 Development accuracy:  0.843\n",
      "4600 Train accuracy:  0.9954 Development accuracy:  0.841\n",
      "4800 Train accuracy:  0.9956 Development accuracy:  0.841\n",
      "5000 Train accuracy:  0.9957 Development accuracy:  0.842\n",
      "Target values:\n",
      " [[0. 0. 0. 0. 0. 0. 0. 0. 0. 1.]\n",
      " [0. 0. 0. 0. 0. 0. 0. 0. 1. 0.]\n",
      " [0. 0. 0. 0. 0. 0. 0. 0. 1. 0.]\n",
      " [0. 0. 0. 1. 0. 0. 0. 0. 0. 0.]\n",
      " [1. 0. 0. 0. 0. 0. 0. 0. 0. 0.]\n",
      " [0. 0. 0. 0. 0. 1. 0. 0. 0. 0.]\n",
      " [0. 1. 0. 0. 0. 0. 0. 0. 0. 0.]\n",
      " [0. 0. 0. 1. 0. 0. 0. 0. 0. 0.]\n",
      " [0. 0. 0. 0. 0. 0. 1. 0. 0. 0.]\n",
      " [1. 0. 0. 0. 0. 0. 0. 0. 0. 0.]] \n",
      "Computed values:\n",
      " [[0. 0. 0. 0. 0. 0. 0. 0. 0. 1.]\n",
      " [0. 0. 0. 0. 1. 0. 0. 0. 0. 0.]\n",
      " [0. 0. 0. 0. 0. 0. 0. 0. 1. 0.]\n",
      " [0. 0. 0. 1. 0. 0. 0. 0. 0. 0.]\n",
      " [1. 0. 0. 0. 0. 0. 0. 0. 0. 0.]\n",
      " [0. 0. 0. 0. 0. 1. 0. 0. 0. 0.]\n",
      " [0. 1. 0. 0. 0. 0. 0. 0. 0. 0.]\n",
      " [0. 0. 0. 1. 0. 0. 0. 0. 0. 0.]\n",
      " [0. 0. 0. 0. 0. 0. 1. 0. 0. 0.]\n",
      " [0. 0. 0. 0. 0. 0. 1. 0. 0. 0.]]\n",
      "First 10 Predictions:  [ True False  True  True  True  True  True  True  True False]\n",
      "Elapsed time:  30.435729503631592 secs.\n"
     ]
    }
   ],
   "source": [
    "he_init_results, he_init_time = run(TOT_EPOCS)"
   ]
  },
  {
   "cell_type": "markdown",
   "metadata": {},
   "source": [
    "There is no visible improvement in random weight initialization, neither for bias or variance"
   ]
  },
  {
   "cell_type": "markdown",
   "metadata": {},
   "source": [
    "## Next step: pick an activation function and stick with it\n",
    "\n",
    "It may be interesting to try with different activation functions for the hidden layers"
   ]
  },
  {
   "cell_type": "markdown",
   "metadata": {},
   "source": [
    "### elu"
   ]
  },
  {
   "cell_type": "code",
   "execution_count": 9,
   "metadata": {},
   "outputs": [],
   "source": [
    "with tf.name_scope(\"dnn\"):\n",
    "    acti_fun = tf.nn.elu\n",
    "    hidden1 = tf.layers.dense(X, n_hidden1, activation=acti_fun, name=\"hidden1\")\n",
    "    hidden2 = tf.layers.dense(hidden1, n_hidden2, activation=acti_fun, name=\"hidden2\")\n",
    "    hidden3 = tf.layers.dense(hidden2, n_hidden3, activation=acti_fun, name=\"hidden3\")\n",
    "    net_out = tf.layers.dense(hidden3, n_outputs, name=\"net_out\")\n",
    "    y = tf.nn.softmax(logits=net_out, name=\"y\")\n",
    "    rounded_y = tf.round(y)"
   ]
  },
  {
   "cell_type": "code",
   "execution_count": 20,
   "metadata": {},
   "outputs": [
    {
     "name": "stdout",
     "output_type": "stream",
     "text": [
      "200 Train accuracy:  0.7097 Development accuracy:  0.711\n",
      "400 Train accuracy:  0.8892 Development accuracy:  0.825\n",
      "600 Train accuracy:  0.9304 Development accuracy:  0.84\n",
      "800 Train accuracy:  0.9486 Development accuracy:  0.834\n",
      "1000 Train accuracy:  0.9801 Development accuracy:  0.837\n",
      "1200 Train accuracy:  0.9823 Development accuracy:  0.823\n",
      "1400 Train accuracy:  0.9889 Development accuracy:  0.834\n",
      "1600 Train accuracy:  0.9912 Development accuracy:  0.838\n",
      "1800 Train accuracy:  0.9845 Development accuracy:  0.832\n",
      "2000 Train accuracy:  0.9845 Development accuracy:  0.83\n",
      "2200 Train accuracy:  0.9856 Development accuracy:  0.82\n",
      "2400 Train accuracy:  0.9793 Development accuracy:  0.84\n",
      "2600 Train accuracy:  0.9887 Development accuracy:  0.84\n",
      "2800 Train accuracy:  0.9942 Development accuracy:  0.849\n",
      "3000 Train accuracy:  0.9937 Development accuracy:  0.843\n",
      "3200 Train accuracy:  0.986 Development accuracy:  0.839\n",
      "3400 Train accuracy:  0.9913 Development accuracy:  0.836\n",
      "3600 Train accuracy:  0.9905 Development accuracy:  0.836\n",
      "3800 Train accuracy:  0.9872 Development accuracy:  0.834\n",
      "4000 Train accuracy:  0.9825 Development accuracy:  0.819\n",
      "4200 Train accuracy:  0.9831 Development accuracy:  0.827\n",
      "4400 Train accuracy:  0.977 Development accuracy:  0.83\n",
      "4600 Train accuracy:  0.9799 Development accuracy:  0.824\n",
      "4800 Train accuracy:  0.9781 Development accuracy:  0.837\n",
      "5000 Train accuracy:  0.9853 Development accuracy:  0.838\n",
      "Target values:\n",
      " [[0. 0. 0. 0. 0. 0. 0. 0. 0. 1.]\n",
      " [0. 0. 0. 0. 0. 0. 0. 0. 1. 0.]\n",
      " [0. 0. 0. 0. 0. 0. 0. 0. 1. 0.]\n",
      " [0. 0. 0. 1. 0. 0. 0. 0. 0. 0.]\n",
      " [1. 0. 0. 0. 0. 0. 0. 0. 0. 0.]\n",
      " [0. 0. 0. 0. 0. 1. 0. 0. 0. 0.]\n",
      " [0. 1. 0. 0. 0. 0. 0. 0. 0. 0.]\n",
      " [0. 0. 0. 1. 0. 0. 0. 0. 0. 0.]\n",
      " [0. 0. 0. 0. 0. 0. 1. 0. 0. 0.]\n",
      " [1. 0. 0. 0. 0. 0. 0. 0. 0. 0.]] \n",
      "Computed values:\n",
      " [[0. 0. 0. 0. 0. 0. 0. 0. 0. 1.]\n",
      " [0. 0. 0. 0. 1. 0. 0. 0. 0. 0.]\n",
      " [0. 0. 0. 0. 0. 0. 0. 0. 1. 0.]\n",
      " [0. 0. 0. 1. 0. 0. 0. 0. 0. 0.]\n",
      " [1. 0. 0. 0. 0. 0. 0. 0. 0. 0.]\n",
      " [0. 0. 0. 0. 0. 1. 0. 0. 0. 0.]\n",
      " [0. 1. 0. 0. 0. 0. 0. 0. 0. 0.]\n",
      " [0. 0. 0. 1. 0. 0. 0. 0. 0. 0.]\n",
      " [0. 0. 0. 0. 0. 0. 1. 0. 0. 0.]\n",
      " [0. 0. 0. 0. 0. 0. 0. 0. 1. 0.]]\n",
      "First 10 Predictions:  [ True False  True  True  True  True  True  True  True False]\n",
      "Elapsed time:  32.98648452758789 secs.\n"
     ]
    }
   ],
   "source": [
    "elu_results, _ = run(TOT_EPOCS,  save_to = \"elu_results.pickle\")"
   ]
  },
  {
   "cell_type": "code",
   "execution_count": 22,
   "metadata": {},
   "outputs": [],
   "source": [
    "elu_results.to_pickle(\"elu_results.pickle\")"
   ]
  },
  {
   "cell_type": "code",
   "execution_count": 23,
   "metadata": {},
   "outputs": [],
   "source": [
    "elu_results = pd.read_pickle(\"elu_results.pickle\")"
   ]
  },
  {
   "cell_type": "code",
   "execution_count": 19,
   "metadata": {},
   "outputs": [
    {
     "data": {
      "text/plain": [
       "<matplotlib.axes._subplots.AxesSubplot at 0x7ff4e388d390>"
      ]
     },
     "execution_count": 19,
     "metadata": {},
     "output_type": "execute_result"
    },
    {
     "data": {
      "image/png": "[encoded data removed]",
      "text/plain": [
       "<matplotlib.figure.Figure at 0x7ff4e38c50b8>"
      ]
     },
     "metadata": {},
     "output_type": "display_data"
    }
   ],
   "source": [
    "elu_results.join(momentum_results, lsuffix=\"_elu\", rsuffix=\"_relu\").plot()"
   ]
  },
  {
   "cell_type": "markdown",
   "metadata": {},
   "source": [
    "elu curve is a little bit smoother"
   ]
  },
  {
   "cell_type": "markdown",
   "metadata": {},
   "source": [
    "### Leaky relu"
   ]
  },
  {
   "cell_type": "code",
   "execution_count": 8,
   "metadata": {},
   "outputs": [],
   "source": [
    "with tf.name_scope(\"dnn\"):\n",
    "    acti_fun = tf.nn.leaky_relu\n",
    "    hidden1 = tf.layers.dense(X, n_hidden1, activation=acti_fun, name=\"hidden1\")\n",
    "    hidden2 = tf.layers.dense(hidden1, n_hidden2, activation=acti_fun, name=\"hidden2\")\n",
    "    hidden3 = tf.layers.dense(hidden2, n_hidden3, activation=acti_fun, name=\"hidden3\")\n",
    "    net_out = tf.layers.dense(hidden3, n_outputs, name=\"net_out\")\n",
    "    y = tf.nn.softmax(logits=net_out, name=\"y\")\n",
    "    rounded_y = tf.round(y)"
   ]
  },
  {
   "cell_type": "code",
   "execution_count": 15,
   "metadata": {},
   "outputs": [
    {
     "name": "stdout",
     "output_type": "stream",
     "text": [
      "200 Train accuracy:  0.7131 Development accuracy:  0.709\n",
      "400 Train accuracy:  0.8876 Development accuracy:  0.826\n",
      "600 Train accuracy:  0.9369 Development accuracy:  0.838\n",
      "800 Train accuracy:  0.9448 Development accuracy:  0.816\n",
      "1000 Train accuracy:  0.9685 Development accuracy:  0.826\n",
      "1200 Train accuracy:  0.9762 Development accuracy:  0.829\n",
      "1400 Train accuracy:  0.9859 Development accuracy:  0.823\n",
      "1600 Train accuracy:  0.9874 Development accuracy:  0.832\n",
      "1800 Train accuracy:  0.9883 Development accuracy:  0.834\n",
      "2000 Train accuracy:  0.981 Development accuracy:  0.827\n",
      "2200 Train accuracy:  0.9847 Development accuracy:  0.825\n",
      "2400 Train accuracy:  0.9831 Development accuracy:  0.828\n",
      "2600 Train accuracy:  0.9926 Development accuracy:  0.827\n",
      "2800 Train accuracy:  0.9948 Development accuracy:  0.843\n",
      "3000 Train accuracy:  0.9952 Development accuracy:  0.847\n",
      "3200 Train accuracy:  0.9953 Development accuracy:  0.845\n",
      "3400 Train accuracy:  0.9951 Development accuracy:  0.845\n",
      "3600 Train accuracy:  0.9953 Development accuracy:  0.85\n",
      "3800 Train accuracy:  0.9955 Development accuracy:  0.846\n",
      "4000 Train accuracy:  0.9955 Development accuracy:  0.846\n",
      "4200 Train accuracy:  0.9954 Development accuracy:  0.842\n",
      "4400 Train accuracy:  0.9952 Development accuracy:  0.844\n",
      "4600 Train accuracy:  0.9957 Development accuracy:  0.845\n",
      "4800 Train accuracy:  0.9959 Development accuracy:  0.847\n",
      "5000 Train accuracy:  0.9956 Development accuracy:  0.845\n",
      "5200 Train accuracy:  0.9956 Development accuracy:  0.845\n",
      "5400 Train accuracy:  0.9956 Development accuracy:  0.846\n",
      "5600 Train accuracy:  0.9957 Development accuracy:  0.844\n",
      "5800 Train accuracy:  0.9954 Development accuracy:  0.848\n",
      "6000 Train accuracy:  0.9925 Development accuracy:  0.834\n",
      "6200 Train accuracy:  0.9931 Development accuracy:  0.841\n",
      "6400 Train accuracy:  0.9813 Development accuracy:  0.83\n",
      "6600 Train accuracy:  0.9869 Development accuracy:  0.83\n",
      "6800 Train accuracy:  0.9902 Development accuracy:  0.825\n",
      "7000 Train accuracy:  0.9948 Development accuracy:  0.839\n",
      "7200 Train accuracy:  0.9947 Development accuracy:  0.848\n",
      "7400 Train accuracy:  0.9944 Development accuracy:  0.847\n",
      "7600 Train accuracy:  0.9955 Development accuracy:  0.851\n",
      "7800 Train accuracy:  0.9958 Development accuracy:  0.849\n",
      "8000 Train accuracy:  0.9957 Development accuracy:  0.847\n",
      "8200 Train accuracy:  0.9958 Development accuracy:  0.848\n",
      "8400 Train accuracy:  0.9959 Development accuracy:  0.852\n",
      "8600 Train accuracy:  0.9951 Development accuracy:  0.851\n",
      "8800 Train accuracy:  0.9956 Development accuracy:  0.852\n",
      "9000 Train accuracy:  0.9959 Development accuracy:  0.847\n",
      "9200 Train accuracy:  0.9958 Development accuracy:  0.846\n",
      "9400 Train accuracy:  0.9957 Development accuracy:  0.849\n",
      "9600 Train accuracy:  0.9957 Development accuracy:  0.85\n",
      "9800 Train accuracy:  0.996 Development accuracy:  0.848\n",
      "10000 Train accuracy:  0.9953 Development accuracy:  0.85\n",
      "Target values:\n",
      " [[0. 0. 0. 0. 0. 0. 0. 0. 0. 1.]\n",
      " [0. 0. 0. 0. 0. 0. 0. 0. 1. 0.]\n",
      " [0. 0. 0. 0. 0. 0. 0. 0. 1. 0.]\n",
      " [0. 0. 0. 1. 0. 0. 0. 0. 0. 0.]\n",
      " [1. 0. 0. 0. 0. 0. 0. 0. 0. 0.]\n",
      " [0. 0. 0. 0. 0. 1. 0. 0. 0. 0.]\n",
      " [0. 1. 0. 0. 0. 0. 0. 0. 0. 0.]\n",
      " [0. 0. 0. 1. 0. 0. 0. 0. 0. 0.]\n",
      " [0. 0. 0. 0. 0. 0. 1. 0. 0. 0.]\n",
      " [1. 0. 0. 0. 0. 0. 0. 0. 0. 0.]] \n",
      "Computed values:\n",
      " [[0. 0. 0. 0. 0. 0. 0. 0. 0. 1.]\n",
      " [0. 0. 0. 0. 1. 0. 0. 0. 0. 0.]\n",
      " [0. 0. 0. 0. 0. 0. 0. 0. 1. 0.]\n",
      " [0. 0. 0. 1. 0. 0. 0. 0. 0. 0.]\n",
      " [1. 0. 0. 0. 0. 0. 0. 0. 0. 0.]\n",
      " [0. 0. 0. 0. 0. 1. 0. 0. 0. 0.]\n",
      " [0. 1. 0. 0. 0. 0. 0. 0. 0. 0.]\n",
      " [0. 0. 0. 1. 0. 0. 0. 0. 0. 0.]\n",
      " [0. 0. 0. 0. 0. 0. 1. 0. 0. 0.]\n",
      " [0. 0. 0. 0. 0. 0. 0. 0. 1. 0.]]\n",
      "First 10 Predictions:  [ True False  True  True  True  True  True  True  True False]\n",
      "Elapsed time:  76.0537428855896 secs.\n"
     ]
    }
   ],
   "source": [
    "leaky_relu_results, _ = run(TOT_EPOCS)"
   ]
  },
  {
   "cell_type": "code",
   "execution_count": 18,
   "metadata": {},
   "outputs": [],
   "source": [
    "pd.to_pickle(leaky_relu_results, \"leaky_relu_results.pickle\")"
   ]
  },
  {
   "cell_type": "code",
   "execution_count": null,
   "metadata": {},
   "outputs": [],
   "source": [
    "leaky_relu_results = pd.read_pickle(\"leaky_relu_results.pickle\")"
   ]
  },
  {
   "cell_type": "code",
   "execution_count": 23,
   "metadata": {},
   "outputs": [
    {
     "data": {
      "text/plain": [
       "<matplotlib.axes._subplots.AxesSubplot at 0x7f0e2885b358>"
      ]
     },
     "execution_count": 23,
     "metadata": {},
     "output_type": "execute_result"
    },
    {
     "data": {
      "image/png": "[encoded data removed]",
      "text/plain": [
       "<matplotlib.figure.Figure at 0x7f0e2885b4e0>"
      ]
     },
     "metadata": {},
     "output_type": "display_data"
    }
   ],
   "source": [
    "leaky_relu_results.iloc[:25].join(momentum_results, lsuffix=\"_leaky\", rsuffix=\"_relu\").plot()"
   ]
  },
  {
   "cell_type": "markdown",
   "metadata": {},
   "source": [
    "### Activation function result\n",
    "we prefer to use elu as the curves appears to be smoother."
   ]
  },
  {
   "cell_type": "code",
   "execution_count": 8,
   "metadata": {},
   "outputs": [],
   "source": [
    "with tf.name_scope(\"dnn\"):\n",
    "    acti_fun = tf.nn.elu\n",
    "    hidden1 = tf.layers.dense(X, n_hidden1, activation=acti_fun, name=\"hidden1\")\n",
    "    hidden2 = tf.layers.dense(hidden1, n_hidden2, activation=acti_fun, name=\"hidden2\")\n",
    "    hidden3 = tf.layers.dense(hidden2, n_hidden3, activation=acti_fun, name=\"hidden3\")\n",
    "    net_out = tf.layers.dense(hidden3, n_outputs, name=\"net_out\")\n",
    "    y = tf.nn.softmax(logits=net_out, name=\"y\")\n",
    "    rounded_y = tf.round(y)"
   ]
  },
  {
   "cell_type": "code",
   "execution_count": 26,
   "metadata": {},
   "outputs": [
    {
     "data": {
      "text/plain": [
       "accuracy_dev      0.8380\n",
       "accuracy_train    0.9853\n",
       "Name: 5000, dtype: float64"
      ]
     },
     "execution_count": 26,
     "metadata": {},
     "output_type": "execute_result"
    }
   ],
   "source": [
    "elu_results.iloc[-1]"
   ]
  },
  {
   "cell_type": "markdown",
   "metadata": {},
   "source": [
    "## Next step: batch normalization seems really cool"
   ]
  },
  {
   "cell_type": "markdown",
   "metadata": {},
   "source": [
    "Batch normalization is used to speed the training, hence impacts the bias. We are satisfied with the current result and we think that the training right now is fast enough. We will use batch normalization in case further modifications will require speeding more the training process."
   ]
  },
  {
   "cell_type": "markdown",
   "metadata": {},
   "source": [
    "# Bias reduction results\n",
    "We tackled the bias reduction problem with the goal of also reducing the training time, (reducing the epocs needed to obtain a stable result). We went from 97.1% train accuracy to 99.8%, thus reducing the bias to 0.5%, while keeping the dev accuracy to 83.8%. We also reduced the number of epochs needed to train fro 10lk to 5k, effectively cutting by a half the training time.\n",
    "The final setup is to use the momentum optimizer, with 0.1 learning rate and momentum coefficient to 0.9, and elu activation functions in all the hidden layers. Random weights initialization has shown no sensible improvement, and we also decided to discard batch normalization.\n",
    "\n",
    "We are now in the following overfitting situation of low bias and high variance: 0.5% bias, 17% variance."
   ]
  },
  {
   "cell_type": "markdown",
   "metadata": {},
   "source": [
    "# Variance Reduction\n",
    "\n",
    "The idea is to start with L2 regularition as it appears to be the simpler method, both teorethically then from an implementation poin of view (it does not requires to change the session setup."
   ]
  },
  {
   "cell_type": "markdown",
   "metadata": {},
   "source": [
    "## L2 Regularization"
   ]
  },
  {
   "cell_type": "code",
   "execution_count": 8,
   "metadata": {},
   "outputs": [
    {
     "name": "stdout",
     "output_type": "stream",
     "text": [
      "WARNING:tensorflow:From /home/giorgio/virtualenvs/shazura/lib/python3.5/site-packages/tensorflow/contrib/learn/python/learn/datasets/base.py:198: retry (from tensorflow.contrib.learn.python.learn.datasets.base) is deprecated and will be removed in a future version.\n",
      "Instructions for updating:\n",
      "Use the retry module or similar alternatives.\n",
      "WARNING:tensorflow:From <ipython-input-8-f00f6b844582>:20: softmax_cross_entropy_with_logits (from tensorflow.python.ops.nn_ops) is deprecated and will be removed in a future version.\n",
      "Instructions for updating:\n",
      "\n",
      "Future major versions of TensorFlow will allow gradients to flow\n",
      "into the labels input on backprop by default.\n",
      "\n",
      "See tf.nn.softmax_cross_entropy_with_logits_v2.\n",
      "\n"
     ]
    }
   ],
   "source": [
    "tf.set_random_seed(1234)\n",
    "\n",
    "with tf.name_scope(\"io\"):\n",
    "    X = tf.placeholder(dtype=tf.float32, shape=(None,n_inputs), name=\"X\")\n",
    "    t = tf.placeholder(dtype=tf.float32, shape=(None,n_outputs), name=\"t\")\n",
    "\n",
    "regularizer = tf.contrib.layers.l2_regularizer(scale=0.0001)\n",
    "\n",
    "\n",
    "with tf.name_scope(\"dnn\"):\n",
    "    acti_fun = tf.nn.relu\n",
    "    hidden1 = tf.layers.dense(X, n_hidden1, activation=acti_fun, name=\"hidden1\", kernel_regularizer=regularizer)\n",
    "    hidden2 = tf.layers.dense(hidden1, n_hidden2, activation=acti_fun, name=\"hidden2\", kernel_regularizer=regularizer)\n",
    "    hidden3 = tf.layers.dense(hidden2, n_hidden3, activation=acti_fun, name=\"hidden3\", kernel_regularizer=regularizer)\n",
    "    net_out = tf.layers.dense(hidden3, n_outputs, name=\"net_out\", kernel_regularizer=regularizer)\n",
    "    y = tf.nn.softmax(logits=net_out, name=\"y\")\n",
    "    rounded_y = tf.round(y)\n",
    "\n",
    "with tf.name_scope(\"loss\"):\n",
    "    cross_entropy = tf.nn.softmax_cross_entropy_with_logits(labels=t, logits=net_out)\n",
    "    mean_log_loss_1 = tf.reduce_mean(cross_entropy, name=\"mean_loss_1\")\n",
    "    reg_losses = tf.get_collection(tf.GraphKeys.REGULARIZATION_LOSSES)\n",
    "    mean_log_loss = tf.add_n([mean_log_loss_1] + reg_losses, name=\"loss\")\n",
    "\n",
    "#accuracy\n",
    "correct_predictions = tf.equal(tf.argmax(y, 1), tf.argmax(t, 1))\n",
    "accuracy = tf.reduce_mean(tf.cast(correct_predictions,tf.float32))\n",
    "\n",
    "#optimizer\n",
    "global_step = tf.Variable(0, trainable=False, name=\"global_step\")\n",
    "optimizer = tf.train.MomentumOptimizer(learning_rate=0.1, momentum=0.9)\n",
    "train_step = optimizer.minimize(mean_log_loss, global_step=global_step)\n",
    "TOT_EPOCS = 5000\n",
    "\n"
   ]
  },
  {
   "cell_type": "code",
   "execution_count": 11,
   "metadata": {},
   "outputs": [
    {
     "name": "stdout",
     "output_type": "stream",
     "text": [
      "200 Train accuracy:  0.7055 Development accuracy:  0.705\n",
      "400 Train accuracy:  0.8955 Development accuracy:  0.824\n",
      "600 Train accuracy:  0.9349 Development accuracy:  0.834\n",
      "800 Train accuracy:  0.9495 Development accuracy:  0.828\n",
      "1000 Train accuracy:  0.9785 Development accuracy:  0.841\n",
      "1200 Train accuracy:  0.9797 Development accuracy:  0.835\n",
      "1400 Train accuracy:  0.9841 Development accuracy:  0.833\n",
      "1600 Train accuracy:  0.9877 Development accuracy:  0.85\n",
      "1800 Train accuracy:  0.9894 Development accuracy:  0.849\n",
      "2000 Train accuracy:  0.9921 Development accuracy:  0.846\n",
      "2200 Train accuracy:  0.9948 Development accuracy:  0.855\n",
      "2400 Train accuracy:  0.9949 Development accuracy:  0.856\n",
      "2600 Train accuracy:  0.9944 Development accuracy:  0.863\n",
      "2800 Train accuracy:  0.9947 Development accuracy:  0.851\n",
      "3000 Train accuracy:  0.9949 Development accuracy:  0.854\n",
      "3200 Train accuracy:  0.9943 Development accuracy:  0.847\n",
      "3400 Train accuracy:  0.995 Development accuracy:  0.85\n",
      "3600 Train accuracy:  0.9955 Development accuracy:  0.853\n",
      "3800 Train accuracy:  0.9945 Development accuracy:  0.855\n",
      "4000 Train accuracy:  0.9956 Development accuracy:  0.852\n",
      "4200 Train accuracy:  0.9954 Development accuracy:  0.85\n",
      "4400 Train accuracy:  0.995 Development accuracy:  0.849\n",
      "4600 Train accuracy:  0.9954 Development accuracy:  0.847\n",
      "4800 Train accuracy:  0.9955 Development accuracy:  0.85\n",
      "5000 Train accuracy:  0.9955 Development accuracy:  0.855\n",
      "Test accuracy:  0.933\n",
      "Target values:\n",
      " [[0. 0. 0. 0. 0. 0. 0. 0. 0. 1.]\n",
      " [0. 0. 0. 0. 0. 0. 0. 0. 1. 0.]\n",
      " [0. 0. 0. 0. 0. 0. 0. 0. 1. 0.]\n",
      " [0. 0. 0. 1. 0. 0. 0. 0. 0. 0.]\n",
      " [1. 0. 0. 0. 0. 0. 0. 0. 0. 0.]\n",
      " [0. 0. 0. 0. 0. 1. 0. 0. 0. 0.]\n",
      " [0. 1. 0. 0. 0. 0. 0. 0. 0. 0.]\n",
      " [0. 0. 0. 1. 0. 0. 0. 0. 0. 0.]\n",
      " [0. 0. 0. 0. 0. 0. 1. 0. 0. 0.]\n",
      " [1. 0. 0. 0. 0. 0. 0. 0. 0. 0.]] \n",
      "Computed values:\n",
      " [[0. 0. 0. 0. 0. 1. 0. 0. 0. 0.]\n",
      " [0. 0. 0. 0. 0. 0. 0. 0. 1. 0.]\n",
      " [0. 0. 0. 0. 0. 0. 0. 0. 1. 0.]\n",
      " [0. 0. 0. 1. 0. 0. 0. 0. 0. 0.]\n",
      " [1. 0. 0. 0. 0. 0. 0. 0. 0. 0.]\n",
      " [0. 0. 0. 0. 0. 1. 0. 0. 0. 0.]\n",
      " [0. 1. 0. 0. 0. 0. 0. 0. 0. 0.]\n",
      " [0. 0. 0. 1. 0. 0. 0. 0. 0. 0.]\n",
      " [0. 0. 0. 0. 0. 0. 1. 0. 0. 0.]\n",
      " [0. 0. 0. 0. 0. 0. 0. 0. 1. 0.]]\n",
      "First 10 Predictions:  [False  True  True  True  True  True  True  True  True False]\n",
      "Elapsed time:  36.95333743095398 secs.\n",
      "save_to 20180407_220024.pickle\n"
     ]
    }
   ],
   "source": [
    "l2_results, _ = run(5000)"
   ]
  },
  {
   "cell_type": "code",
   "execution_count": 10,
   "metadata": {},
   "outputs": [
    {
     "data": {
      "text/plain": [
       "<matplotlib.axes._subplots.AxesSubplot at 0x7f3eedceac50>"
      ]
     },
     "execution_count": 10,
     "metadata": {},
     "output_type": "execute_result"
    },
    {
     "data": {
      "image/png": "[encoded data removed]",
      "text/plain": [
       "<matplotlib.figure.Figure at 0x7f3eedceab70>"
      ]
     },
     "metadata": {},
     "output_type": "display_data"
    }
   ],
   "source": [
    "l2_results.iloc[:25].plot()"
   ]
  },
  {
   "cell_type": "markdown",
   "metadata": {},
   "source": [
    "### L2 results\n",
    "basically it is uneffective. Are we too overfitted? I think we need something more aggressive."
   ]
  },
  {
   "cell_type": "markdown",
   "metadata": {},
   "source": [
    "## Changing the net arch"
   ]
  },
  {
   "cell_type": "code",
   "execution_count": 8,
   "metadata": {},
   "outputs": [
    {
     "name": "stdout",
     "output_type": "stream",
     "text": [
      "WARNING:tensorflow:From /home/giorgio/virtualenvs/shazura/lib/python3.5/site-packages/tensorflow/contrib/learn/python/learn/datasets/base.py:198: retry (from tensorflow.contrib.learn.python.learn.datasets.base) is deprecated and will be removed in a future version.\n",
      "Instructions for updating:\n",
      "Use the retry module or similar alternatives.\n",
      "WARNING:tensorflow:From <ipython-input-8-b00b515a1636>:24: softmax_cross_entropy_with_logits (from tensorflow.python.ops.nn_ops) is deprecated and will be removed in a future version.\n",
      "Instructions for updating:\n",
      "\n",
      "Future major versions of TensorFlow will allow gradients to flow\n",
      "into the labels input on backprop by default.\n",
      "\n",
      "See tf.nn.softmax_cross_entropy_with_logits_v2.\n",
      "\n"
     ]
    }
   ],
   "source": [
    "n_hidden0 = 600\n",
    "n_hidden1 = 300\n",
    "n_hidden2 = 200\n",
    "n_hidden3 = 100\n",
    "\n",
    "with tf.name_scope(\"io\"):\n",
    "    X = tf.placeholder(dtype=tf.float32, shape=(None,n_inputs), name=\"X\")\n",
    "    t = tf.placeholder(dtype=tf.float32, shape=(None,n_outputs), name=\"t\")\n",
    "\n",
    "regularizer = tf.contrib.layers.l2_regularizer(scale=0.0001)\n",
    "\n",
    "\n",
    "with tf.name_scope(\"dnn\"):\n",
    "    acti_fun = tf.nn.elu\n",
    "    hidden0 = tf.layers.dense(X, n_hidden0, activation=acti_fun, name=\"hidden0\")\n",
    "    hidden1 = tf.layers.dense(hidden0, n_hidden1, activation=acti_fun, name=\"hidden1\")\n",
    "    hidden2 = tf.layers.dense(hidden1, n_hidden2, activation=acti_fun, name=\"hidden2\")\n",
    "    hidden3 = tf.layers.dense(hidden2, n_hidden3, activation=acti_fun, name=\"hidden3\")\n",
    "    net_out = tf.layers.dense(hidden3, n_outputs, name=\"net_out\")\n",
    "    y = tf.nn.softmax(logits=net_out, name=\"y\")\n",
    "    rounded_y = tf.round(y)\n",
    "\n",
    "with tf.name_scope(\"loss\"):\n",
    "    cross_entropy = tf.nn.softmax_cross_entropy_with_logits(labels=t, logits=net_out)\n",
    "    mean_log_loss = tf.reduce_mean(cross_entropy, name=\"mean_loss\")\n",
    "\n",
    "#accuracy\n",
    "correct_predictions = tf.equal(tf.argmax(y, 1), tf.argmax(t, 1))\n",
    "accuracy = tf.reduce_mean(tf.cast(correct_predictions,tf.float32))\n",
    "\n",
    "#optimizer\n",
    "global_step = tf.Variable(0, trainable=False, name=\"global_step\")\n",
    "optimizer = tf.train.MomentumOptimizer(learning_rate=0.1, momentum=0.9)\n",
    "train_step = optimizer.minimize(mean_log_loss, global_step=global_step)\n",
    "TOT_EPOCS = 5000\n"
   ]
  },
  {
   "cell_type": "code",
   "execution_count": 9,
   "metadata": {},
   "outputs": [
    {
     "name": "stdout",
     "output_type": "stream",
     "text": [
      "200 Train accuracy:  0.7082 Development accuracy:  0.705\n",
      "400 Train accuracy:  0.8759 Development accuracy:  0.821\n",
      "600 Train accuracy:  0.9219 Development accuracy:  0.818\n",
      "800 Train accuracy:  0.9203 Development accuracy:  0.794\n",
      "1000 Train accuracy:  0.9626 Development accuracy:  0.827\n",
      "1200 Train accuracy:  0.9626 Development accuracy:  0.827\n",
      "1400 Train accuracy:  0.9535 Development accuracy:  0.813\n",
      "1600 Train accuracy:  0.9685 Development accuracy:  0.824\n",
      "1800 Train accuracy:  0.9689 Development accuracy:  0.818\n",
      "2000 Train accuracy:  0.9726 Development accuracy:  0.832\n",
      "2200 Train accuracy:  0.97 Development accuracy:  0.826\n",
      "2400 Train accuracy:  0.9661 Development accuracy:  0.815\n",
      "2600 Train accuracy:  0.9647 Development accuracy:  0.827\n",
      "2800 Train accuracy:  0.9673 Development accuracy:  0.82\n",
      "3000 Train accuracy:  0.9652 Development accuracy:  0.831\n",
      "3200 Train accuracy:  0.9735 Development accuracy:  0.831\n",
      "3400 Train accuracy:  0.9759 Development accuracy:  0.832\n",
      "3600 Train accuracy:  0.9827 Development accuracy:  0.824\n",
      "3800 Train accuracy:  0.9688 Development accuracy:  0.832\n",
      "4000 Train accuracy:  0.9727 Development accuracy:  0.837\n",
      "4200 Train accuracy:  0.9643 Development accuracy:  0.83\n",
      "4400 Train accuracy:  0.9694 Development accuracy:  0.826\n",
      "4600 Train accuracy:  0.9737 Development accuracy:  0.823\n",
      "4800 Train accuracy:  0.9588 Development accuracy:  0.832\n",
      "5000 Train accuracy:  0.9658 Development accuracy:  0.831\n",
      "Test accuracy:  0.895\n",
      "Target values:\n",
      " [[0. 0. 0. 0. 0. 0. 0. 0. 0. 1.]\n",
      " [0. 0. 0. 0. 0. 0. 0. 0. 1. 0.]\n",
      " [0. 0. 0. 0. 0. 0. 0. 0. 1. 0.]\n",
      " [0. 0. 0. 1. 0. 0. 0. 0. 0. 0.]\n",
      " [1. 0. 0. 0. 0. 0. 0. 0. 0. 0.]\n",
      " [0. 0. 0. 0. 0. 1. 0. 0. 0. 0.]\n",
      " [0. 1. 0. 0. 0. 0. 0. 0. 0. 0.]\n",
      " [0. 0. 0. 1. 0. 0. 0. 0. 0. 0.]\n",
      " [0. 0. 0. 0. 0. 0. 1. 0. 0. 0.]\n",
      " [1. 0. 0. 0. 0. 0. 0. 0. 0. 0.]] \n",
      "Computed values:\n",
      " [[0. 0. 0. 0. 0. 1. 0. 0. 0. 0.]\n",
      " [0. 0. 0. 0. 1. 0. 0. 0. 0. 0.]\n",
      " [0. 0. 0. 0. 0. 0. 0. 0. 1. 0.]\n",
      " [0. 0. 0. 1. 0. 0. 0. 0. 0. 0.]\n",
      " [1. 0. 0. 0. 0. 0. 0. 0. 0. 0.]\n",
      " [0. 0. 0. 0. 0. 1. 0. 0. 0. 0.]\n",
      " [0. 1. 0. 0. 0. 0. 0. 0. 0. 0.]\n",
      " [0. 0. 0. 1. 0. 0. 0. 0. 0. 0.]\n",
      " [0. 0. 0. 0. 0. 0. 1. 0. 0. 0.]\n",
      " [0. 0. 0. 0. 0. 0. 0. 0. 1. 0.]]\n",
      "First 10 Predictions:  [False False  True  True  True  True  True  True  True False]\n",
      "Elapsed time:  72.53308820724487 secs.\n",
      "save_to arch_600_300_200_100_results.pickle\n"
     ]
    }
   ],
   "source": [
    "arch_150_100_50_results, _ = run(TOT_EPOCS, \"arch_600_300_200_100_results.pickle\")"
   ]
  },
  {
   "cell_type": "code",
   "execution_count": 10,
   "metadata": {},
   "outputs": [
    {
     "data": {
      "text/plain": [
       "<matplotlib.axes._subplots.AxesSubplot at 0x7fec8a8b7e48>"
      ]
     },
     "execution_count": 10,
     "metadata": {},
     "output_type": "execute_result"
    },
    {
     "data": {
      "image/png": "[encoded data removed]",
      "text/plain": [
       "<matplotlib.figure.Figure at 0x7fec8a5649b0>"
      ]
     },
     "metadata": {},
     "output_type": "display_data"
    }
   ],
   "source": [
    "arch_150_100_50_results.plot()"
   ]
  },
  {
   "cell_type": "markdown",
   "metadata": {},
   "source": [
    "## Dropout"
   ]
  },
  {
   "cell_type": "code",
   "execution_count": 7,
   "metadata": {},
   "outputs": [
    {
     "name": "stdout",
     "output_type": "stream",
     "text": [
      "WARNING:tensorflow:From <ipython-input-7-6158725092ff>:29: softmax_cross_entropy_with_logits (from tensorflow.python.ops.nn_ops) is deprecated and will be removed in a future version.\n",
      "Instructions for updating:\n",
      "\n",
      "Future major versions of TensorFlow will allow gradients to flow\n",
      "into the labels input on backprop by default.\n",
      "\n",
      "See tf.nn.softmax_cross_entropy_with_logits_v2.\n",
      "\n"
     ]
    }
   ],
   "source": [
    "#batch_size = 400\n",
    "\n",
    "with tf.name_scope(\"io\"):\n",
    "    X = tf.placeholder(dtype=tf.float32, shape=(None,n_inputs), name=\"X\")\n",
    "    t = tf.placeholder(dtype=tf.float32, shape=(None,n_outputs), name=\"t\")\n",
    "\n",
    "\n",
    "training= tf.placeholder_with_default(False, shape=(), name='training')\n",
    "dropout_rate = 0.5\n",
    "X_drop = tf.layers.dropout(X, dropout_rate, training=training)\n",
    "\n",
    "\n",
    "\n",
    "with tf.name_scope(\"dnn\"):\n",
    "    acti_fun = tf.nn.relu\n",
    "    hidden1 = tf.layers.dense(X_drop, n_hidden1, activation=acti_fun, name=\"hidden1\")\n",
    "    hidden1_drop = tf.layers.dropout(hidden1, dropout_rate, training=training)\n",
    "    \n",
    "    hidden2 = tf.layers.dense(hidden1_drop, n_hidden2, activation=acti_fun, name=\"hidden2\")\n",
    "    hidden2_drop = tf.layers.dropout(hidden2, dropout_rate, training=training)\n",
    "    \n",
    "    hidden3 = tf.layers.dense(hidden2_drop, n_hidden3, activation=acti_fun, name=\"hidden3\")\n",
    "    hidden3_drop = tf.layers.dropout(hidden3, dropout_rate, training=training)                                  \n",
    "    net_out = tf.layers.dense(hidden3_drop, n_outputs, name=\"net_out\")\n",
    "    y = tf.nn.softmax(logits=net_out, name=\"y\")\n",
    "    rounded_y = tf.round(y)\n",
    "\n",
    "with tf.name_scope(\"loss\"):\n",
    "    cross_entropy = tf.nn.softmax_cross_entropy_with_logits(labels=t, logits=net_out)\n",
    "    mean_log_loss = tf.reduce_mean(cross_entropy, name=\"mean_loss\")\n",
    "\n",
    "#accuracy\n",
    "correct_predictions = tf.equal(tf.argmax(y, 1), tf.argmax(t, 1))\n",
    "accuracy = tf.reduce_mean(tf.cast(correct_predictions,tf.float32))\n",
    "\n",
    "#optimizer\n",
    "global_step = tf.Variable(0, trainable=False, name=\"global_step\")\n",
    "optimizer = tf.train.MomentumOptimizer(learning_rate=0.1, momentum=0.9)\n",
    "train_step = optimizer.minimize(mean_log_loss, global_step=global_step)\n",
    "                                      \n",
    "def run(n_epochs, save_to=None, initialize = True ):\n",
    "    if save_to is not None:\n",
    "        save_to = datetime.datetime.now().strftime(\"%Y%m%d_%H%M%S\")+\".pickle\"\n",
    "    if initialize : \n",
    "        init = tf.global_variables_initializer()\n",
    "    with tf.Session() as sess:\n",
    "        start_time = time()\n",
    "        various_metrics = []\n",
    "        sess.run(init)\n",
    "        for epoch in range (int(n_epochs / epochs_to_display)):\n",
    "            for iteration in range (epochs_to_display):\n",
    "                offset = (iteration * epoch * batch_size) % (y_train.shape[0] - batch_size)\n",
    "                sess.run(train_step, feed_dict={training: True, X: x_train[offset:(offset+batch_size),:],\n",
    "                                                t: y_train[offset:(offset+batch_size),:]})\n",
    "            accuracy_train = accuracy.eval(feed_dict={training: False, X: x_train, t: y_train})\n",
    "            accuracy_dev = accuracy.eval(feed_dict={training: False, X: x_dev, t: y_dev})\n",
    "            print((epoch+1)*epochs_to_display, \"Train accuracy: \", accuracy_train, \n",
    "                  \"Development accuracy: \", accuracy_dev)\n",
    "            various_metrics.append({\"epoch\":(epoch+1)*epochs_to_display, \"accuracy_train\": accuracy_train, \"accuracy_dev\" :accuracy_dev})\n",
    "\n",
    "        accuracy_test = accuracy.eval(feed_dict={X: x_test, t: y_test})\n",
    "        print (\"Test accuracy: \", accuracy_test)\n",
    "        print (\"Target values:\\n\", y_test[0:10], \"\\nComputed values:\\n\", \n",
    "               rounded_y.eval(feed_dict={X: x_test[0:10]})) #rounded_y.eval(feed_dict={X: x_test[0:10]}))\n",
    "        print (\"First 10 Predictions: \", \n",
    "               correct_predictions.eval(feed_dict={X: x_test[0:10], t: y_test[0:10]}))\n",
    "        print (\"Elapsed time: \", time()-start_time, \"secs.\")\n",
    "        to_ret = pd.DataFrame(various_metrics).set_index(\"epoch\")\n",
    "        print(\"save_to {}\".format(save_to))\n",
    "        to_ret.to_pickle(save_to)\n",
    "        return  to_ret, time()-start_time"
   ]
  },
  {
   "cell_type": "code",
   "execution_count": 8,
   "metadata": {},
   "outputs": [
    {
     "name": "stdout",
     "output_type": "stream",
     "text": [
      "200 Train accuracy:  0.7916 Development accuracy:  0.775\n",
      "400 Train accuracy:  0.8487 Development accuracy:  0.825\n",
      "600 Train accuracy:  0.8658 Development accuracy:  0.836\n",
      "800 Train accuracy:  0.8737 Development accuracy:  0.832\n",
      "1000 Train accuracy:  0.8761 Development accuracy:  0.83\n",
      "1200 Train accuracy:  0.8842 Development accuracy:  0.841\n",
      "1400 Train accuracy:  0.8861 Development accuracy:  0.843\n",
      "1600 Train accuracy:  0.8935 Development accuracy:  0.842\n",
      "1800 Train accuracy:  0.8892 Development accuracy:  0.837\n",
      "2000 Train accuracy:  0.8963 Development accuracy:  0.842\n",
      "2200 Train accuracy:  0.9046 Development accuracy:  0.846\n",
      "2400 Train accuracy:  0.907 Development accuracy:  0.847\n",
      "2600 Train accuracy:  0.898 Development accuracy:  0.849\n",
      "2800 Train accuracy:  0.9115 Development accuracy:  0.844\n",
      "3000 Train accuracy:  0.9161 Development accuracy:  0.851\n",
      "3200 Train accuracy:  0.912 Development accuracy:  0.847\n",
      "3400 Train accuracy:  0.9069 Development accuracy:  0.842\n",
      "3600 Train accuracy:  0.9201 Development accuracy:  0.851\n",
      "3800 Train accuracy:  0.9146 Development accuracy:  0.85\n",
      "4000 Train accuracy:  0.9251 Development accuracy:  0.848\n",
      "4200 Train accuracy:  0.9214 Development accuracy:  0.841\n",
      "4400 Train accuracy:  0.9217 Development accuracy:  0.85\n",
      "4600 Train accuracy:  0.9246 Development accuracy:  0.851\n",
      "4800 Train accuracy:  0.9316 Development accuracy:  0.852\n",
      "5000 Train accuracy:  0.9161 Development accuracy:  0.845\n",
      "5200 Train accuracy:  0.9296 Development accuracy:  0.844\n",
      "5400 Train accuracy:  0.934 Development accuracy:  0.847\n",
      "5600 Train accuracy:  0.9309 Development accuracy:  0.852\n",
      "5800 Train accuracy:  0.9291 Development accuracy:  0.849\n",
      "6000 Train accuracy:  0.9363 Development accuracy:  0.852\n",
      "6200 Train accuracy:  0.9275 Development accuracy:  0.855\n",
      "6400 Train accuracy:  0.936 Development accuracy:  0.852\n",
      "6600 Train accuracy:  0.9287 Development accuracy:  0.85\n",
      "6800 Train accuracy:  0.9333 Development accuracy:  0.864\n",
      "7000 Train accuracy:  0.935 Development accuracy:  0.856\n",
      "7200 Train accuracy:  0.9393 Development accuracy:  0.857\n",
      "7400 Train accuracy:  0.9306 Development accuracy:  0.859\n",
      "7600 Train accuracy:  0.9406 Development accuracy:  0.853\n",
      "7800 Train accuracy:  0.9419 Development accuracy:  0.854\n",
      "8000 Train accuracy:  0.9393 Development accuracy:  0.852\n",
      "8200 Train accuracy:  0.934 Development accuracy:  0.85\n",
      "8400 Train accuracy:  0.9419 Development accuracy:  0.859\n",
      "8600 Train accuracy:  0.9377 Development accuracy:  0.85\n",
      "8800 Train accuracy:  0.9416 Development accuracy:  0.861\n",
      "9000 Train accuracy:  0.9398 Development accuracy:  0.855\n",
      "9200 Train accuracy:  0.9402 Development accuracy:  0.85\n",
      "9400 Train accuracy:  0.9423 Development accuracy:  0.848\n",
      "9600 Train accuracy:  0.9456 Development accuracy:  0.851\n",
      "9800 Train accuracy:  0.9383 Development accuracy:  0.857\n",
      "10000 Train accuracy:  0.9456 Development accuracy:  0.853\n",
      "10200 Train accuracy:  0.9454 Development accuracy:  0.86\n",
      "10400 Train accuracy:  0.9439 Development accuracy:  0.85\n",
      "10600 Train accuracy:  0.9455 Development accuracy:  0.848\n",
      "10800 Train accuracy:  0.9476 Development accuracy:  0.855\n",
      "11000 Train accuracy:  0.9422 Development accuracy:  0.852\n",
      "11200 Train accuracy:  0.9482 Development accuracy:  0.863\n",
      "11400 Train accuracy:  0.9454 Development accuracy:  0.852\n",
      "11600 Train accuracy:  0.9453 Development accuracy:  0.854\n",
      "11800 Train accuracy:  0.9495 Development accuracy:  0.854\n",
      "12000 Train accuracy:  0.9492 Development accuracy:  0.857\n",
      "12200 Train accuracy:  0.9433 Development accuracy:  0.858\n",
      "12400 Train accuracy:  0.9497 Development accuracy:  0.859\n",
      "12600 Train accuracy:  0.9495 Development accuracy:  0.857\n",
      "12800 Train accuracy:  0.9494 Development accuracy:  0.853\n",
      "13000 Train accuracy:  0.9488 Development accuracy:  0.849\n",
      "13200 Train accuracy:  0.9503 Development accuracy:  0.856\n",
      "13400 Train accuracy:  0.9456 Development accuracy:  0.854\n",
      "13600 Train accuracy:  0.9515 Development accuracy:  0.856\n",
      "13800 Train accuracy:  0.9482 Development accuracy:  0.845\n",
      "14000 Train accuracy:  0.9496 Development accuracy:  0.852\n",
      "14200 Train accuracy:  0.9497 Development accuracy:  0.86\n",
      "14400 Train accuracy:  0.9534 Development accuracy:  0.861\n",
      "14600 Train accuracy:  0.9471 Development accuracy:  0.859\n",
      "14800 Train accuracy:  0.9528 Development accuracy:  0.862\n",
      "15000 Train accuracy:  0.952 Development accuracy:  0.856\n",
      "Test accuracy:  0.921\n",
      "Target values:\n",
      " [[0. 0. 0. 0. 0. 0. 0. 0. 0. 1.]\n",
      " [0. 0. 0. 0. 0. 0. 0. 0. 1. 0.]\n",
      " [0. 0. 0. 0. 0. 0. 0. 0. 1. 0.]\n",
      " [0. 0. 0. 1. 0. 0. 0. 0. 0. 0.]\n",
      " [1. 0. 0. 0. 0. 0. 0. 0. 0. 0.]\n",
      " [0. 0. 0. 0. 0. 1. 0. 0. 0. 0.]\n",
      " [0. 1. 0. 0. 0. 0. 0. 0. 0. 0.]\n",
      " [0. 0. 0. 1. 0. 0. 0. 0. 0. 0.]\n",
      " [0. 0. 0. 0. 0. 0. 1. 0. 0. 0.]\n",
      " [1. 0. 0. 0. 0. 0. 0. 0. 0. 0.]] \n",
      "Computed values:\n",
      " [[0. 0. 0. 0. 0. 0. 0. 0. 0. 0.]\n",
      " [0. 0. 0. 0. 0. 0. 0. 0. 1. 0.]\n",
      " [0. 0. 0. 0. 0. 0. 0. 0. 1. 0.]\n",
      " [0. 0. 0. 1. 0. 0. 0. 0. 0. 0.]\n",
      " [1. 0. 0. 0. 0. 0. 0. 0. 0. 0.]\n",
      " [0. 0. 0. 0. 0. 1. 0. 0. 0. 0.]\n",
      " [0. 1. 0. 0. 0. 0. 0. 0. 0. 0.]\n",
      " [0. 0. 0. 1. 0. 0. 0. 0. 0. 0.]\n",
      " [0. 0. 0. 0. 0. 0. 1. 0. 0. 0.]\n",
      " [0. 0. 0. 0. 0. 0. 0. 0. 0. 0.]]\n",
      "First 10 Predictions:  [False  True  True  True  True  True  True  True  True False]\n",
      "Elapsed time:  220.26893496513367 secs.\n",
      "save_to 20180407_194202.pickle\n"
     ]
    }
   ],
   "source": [
    "dropout_05_results, _ = run(15000,save_to=\"dropout_05_minibatch40_results.pickle\")"
   ]
  },
  {
   "cell_type": "code",
   "execution_count": 14,
   "metadata": {},
   "outputs": [
    {
     "data": {
      "text/plain": [
       "<matplotlib.axes._subplots.AxesSubplot at 0x7fa650071da0>"
      ]
     },
     "execution_count": 14,
     "metadata": {},
     "output_type": "execute_result"
    },
    {
     "data": {
      "image/png": "[encoded data removed]",
      "text/plain": [
       "<matplotlib.figure.Figure at 0x7fa65005c438>"
      ]
     },
     "metadata": {},
     "output_type": "display_data"
    }
   ],
   "source": [
    "dropout_05_results.iloc[:].plot()"
   ]
  },
  {
   "cell_type": "markdown",
   "metadata": {},
   "source": [
    "# MiniBatch"
   ]
  },
  {
   "cell_type": "code",
   "execution_count": 7,
   "metadata": {},
   "outputs": [
    {
     "name": "stdout",
     "output_type": "stream",
     "text": [
      "WARNING:tensorflow:From <ipython-input-7-ae553f2a97f2>:17: softmax_cross_entropy_with_logits (from tensorflow.python.ops.nn_ops) is deprecated and will be removed in a future version.\n",
      "Instructions for updating:\n",
      "\n",
      "Future major versions of TensorFlow will allow gradients to flow\n",
      "into the labels input on backprop by default.\n",
      "\n",
      "See tf.nn.softmax_cross_entropy_with_logits_v2.\n",
      "\n"
     ]
    }
   ],
   "source": [
    "batch_size = 400\n",
    "with tf.name_scope(\"io\"):\n",
    "    X = tf.placeholder(dtype=tf.float32, shape=(None,n_inputs), name=\"X\")\n",
    "    t = tf.placeholder(dtype=tf.float32, shape=(None,n_outputs), name=\"t\")\n",
    "\n",
    "\n",
    "with tf.name_scope(\"dnn\"):\n",
    "    acti_fun = tf.nn.relu\n",
    "    hidden1 = tf.layers.dense(X, n_hidden1, activation=acti_fun, name=\"hidden1\")\n",
    "    hidden2 = tf.layers.dense(hidden1, n_hidden2, activation=acti_fun, name=\"hidden2\")\n",
    "    hidden3 = tf.layers.dense(hidden2, n_hidden3, activation=acti_fun, name=\"hidden3\")\n",
    "    net_out = tf.layers.dense(hidden3, n_outputs, name=\"net_out\")\n",
    "    y = tf.nn.softmax(logits=net_out, name=\"y\")\n",
    "    rounded_y = tf.round(y)\n",
    "\n",
    "with tf.name_scope(\"loss\"):\n",
    "    cross_entropy = tf.nn.softmax_cross_entropy_with_logits(labels=t, logits=net_out)\n",
    "    mean_log_loss = tf.reduce_mean(cross_entropy, name=\"mean_loss\")\n",
    "\n",
    "#accuracy\n",
    "correct_predictions = tf.equal(tf.argmax(y, 1), tf.argmax(t, 1))\n",
    "accuracy = tf.reduce_mean(tf.cast(correct_predictions,tf.float32))\n",
    "\n",
    "#optimizer\n",
    "global_step = tf.Variable(0, trainable=False, name=\"global_step\")\n",
    "optimizer = tf.train.MomentumOptimizer(learning_rate=0.1, momentum=0.9)\n",
    "train_step = optimizer.minimize(mean_log_loss, global_step=global_step)\n",
    "TOT_EPOCS = 5000"
   ]
  },
  {
   "cell_type": "code",
   "execution_count": 10,
   "metadata": {},
   "outputs": [
    {
     "name": "stdout",
     "output_type": "stream",
     "text": [
      "200 Train accuracy:  0.776 Development accuracy:  0.763\n",
      "400 Train accuracy:  0.9181 Development accuracy:  0.834\n",
      "600 Train accuracy:  0.9316 Development accuracy:  0.824\n",
      "800 Train accuracy:  0.9394 Development accuracy:  0.829\n",
      "1000 Train accuracy:  0.9434 Development accuracy:  0.832\n",
      "1200 Train accuracy:  0.9783 Development accuracy:  0.828\n",
      "1400 Train accuracy:  0.9822 Development accuracy:  0.84\n",
      "1600 Train accuracy:  0.9917 Development accuracy:  0.837\n",
      "1800 Train accuracy:  0.9908 Development accuracy:  0.831\n",
      "2000 Train accuracy:  0.9909 Development accuracy:  0.838\n",
      "2200 Train accuracy:  0.9918 Development accuracy:  0.843\n",
      "2400 Train accuracy:  0.9921 Development accuracy:  0.837\n",
      "2600 Train accuracy:  0.9905 Development accuracy:  0.836\n",
      "2800 Train accuracy:  0.9919 Development accuracy:  0.832\n",
      "3000 Train accuracy:  0.9926 Development accuracy:  0.833\n",
      "3200 Train accuracy:  0.992 Development accuracy:  0.832\n",
      "3400 Train accuracy:  0.9919 Development accuracy:  0.834\n",
      "3600 Train accuracy:  0.9927 Development accuracy:  0.832\n",
      "3800 Train accuracy:  0.9919 Development accuracy:  0.832\n",
      "4000 Train accuracy:  0.9928 Development accuracy:  0.833\n",
      "4200 Train accuracy:  0.9924 Development accuracy:  0.828\n",
      "4400 Train accuracy:  0.9925 Development accuracy:  0.829\n",
      "4600 Train accuracy:  0.993 Development accuracy:  0.835\n",
      "4800 Train accuracy:  0.993 Development accuracy:  0.835\n",
      "5000 Train accuracy:  0.9917 Development accuracy:  0.836\n",
      "Target values:\n",
      " [[0. 0. 0. 0. 0. 0. 0. 0. 0. 1.]\n",
      " [0. 0. 0. 0. 0. 0. 0. 0. 1. 0.]\n",
      " [0. 0. 0. 0. 0. 0. 0. 0. 1. 0.]\n",
      " [0. 0. 0. 1. 0. 0. 0. 0. 0. 0.]\n",
      " [1. 0. 0. 0. 0. 0. 0. 0. 0. 0.]\n",
      " [0. 0. 0. 0. 0. 1. 0. 0. 0. 0.]\n",
      " [0. 1. 0. 0. 0. 0. 0. 0. 0. 0.]\n",
      " [0. 0. 0. 1. 0. 0. 0. 0. 0. 0.]\n",
      " [0. 0. 0. 0. 0. 0. 1. 0. 0. 0.]\n",
      " [1. 0. 0. 0. 0. 0. 0. 0. 0. 0.]] \n",
      "Computed values:\n",
      " [[0. 0. 0. 0. 0. 0. 0. 0. 0. 1.]\n",
      " [0. 0. 0. 0. 1. 0. 0. 0. 0. 0.]\n",
      " [0. 0. 0. 0. 0. 0. 0. 0. 1. 0.]\n",
      " [0. 0. 0. 1. 0. 0. 0. 0. 0. 0.]\n",
      " [1. 0. 0. 0. 0. 0. 0. 0. 0. 0.]\n",
      " [0. 0. 0. 0. 0. 1. 0. 0. 0. 0.]\n",
      " [0. 1. 0. 0. 0. 0. 0. 0. 0. 0.]\n",
      " [0. 0. 0. 1. 0. 0. 0. 0. 0. 0.]\n",
      " [0. 0. 0. 0. 0. 0. 1. 0. 0. 0.]\n",
      " [0. 0. 0. 0. 0. 0. 0. 0. 1. 0.]]\n",
      "First 10 Predictions:  [ True False  True  True  True  True  True  True  True False]\n",
      "Elapsed time:  58.26463007926941 secs.\n",
      "save_to minibatch_400.pickle\n"
     ]
    }
   ],
   "source": [
    "minibatch_400_results, _ = run(TOT_EPOCS, save_to=\"minibatch_400.pickle\" )"
   ]
  },
  {
   "cell_type": "markdown",
   "metadata": {},
   "source": [
    "# Executing the model"
   ]
  },
  {
   "cell_type": "code",
   "execution_count": 24,
   "metadata": {},
   "outputs": [],
   "source": [
    "init = tf.global_variables_initializer()"
   ]
  },
  {
   "cell_type": "code",
   "execution_count": 7,
   "metadata": {},
   "outputs": [],
   "source": [
    "def run(n_epochs, save_to=None, initialize = True ):\n",
    "    if save_to is None:\n",
    "        save_to = datetime.datetime.now().strftime(\"%Y%m%d_%H%M%S\")+\".pickle\"\n",
    "    if initialize : \n",
    "        init = tf.global_variables_initializer()\n",
    "    with tf.Session() as sess:\n",
    "        start_time = time()\n",
    "        various_metrics = []\n",
    "        sess.run(init)\n",
    "        for epoch in range (int(n_epochs / epochs_to_display)):\n",
    "            for iteration in range (epochs_to_display):\n",
    "                offset = (iteration * epoch * batch_size) % (y_train.shape[0] - batch_size)\n",
    "                sess.run(train_step, feed_dict={X: x_train[offset:(offset+batch_size),:],\n",
    "                                                t: y_train[offset:(offset+batch_size),:]})\n",
    "            accuracy_train = accuracy.eval(feed_dict={X: x_train, t: y_train})\n",
    "            accuracy_dev = accuracy.eval(feed_dict={X: x_dev, t: y_dev})\n",
    "            print((epoch+1)*epochs_to_display, \"Train accuracy: \", accuracy_train, \n",
    "                  \"Development accuracy: \", accuracy_dev)\n",
    "            various_metrics.append({\"epoch\":(epoch+1)*epochs_to_display, \"accuracy_train\": accuracy_train, \"accuracy_dev\" :accuracy_dev})\n",
    "\n",
    "        accuracy_test = accuracy.eval(feed_dict={X: x_test, t: y_test})\n",
    "        print (\"Test accuracy: \", accuracy_test)\n",
    "        print (\"Target values:\\n\", y_test[0:10], \"\\nComputed values:\\n\", \n",
    "               rounded_y.eval(feed_dict={X: x_test[0:10]}))\n",
    "        print (\"First 10 Predictions: \", \n",
    "               correct_predictions.eval(feed_dict={X: x_test[0:10], t: y_test[0:10]}))\n",
    "        print (\"Elapsed time: \", time()-start_time, \"secs.\")\n",
    "        to_ret = pd.DataFrame(various_metrics).set_index(\"epoch\")\n",
    "        print(\"save_to {}\".format(save_to))\n",
    "        to_ret.to_pickle(save_to)\n",
    "        return  to_ret, time()-start_time"
   ]
  },
  {
   "cell_type": "code",
   "execution_count": 14,
   "metadata": {},
   "outputs": [
    {
     "name": "stdout",
     "output_type": "stream",
     "text": [
      "200 Train accuracy:  0.6368 Development accuracy:  0.628\n",
      "400 Train accuracy:  0.7947 Development accuracy:  0.781\n",
      "600 Train accuracy:  0.8157 Development accuracy:  0.799\n",
      "800 Train accuracy:  0.8284 Development accuracy:  0.807\n",
      "1000 Train accuracy:  0.8349 Development accuracy:  0.818\n",
      "1200 Train accuracy:  0.8407 Development accuracy:  0.82\n",
      "1400 Train accuracy:  0.8466 Development accuracy:  0.824\n",
      "1600 Train accuracy:  0.8488 Development accuracy:  0.82\n",
      "1800 Train accuracy:  0.8569 Development accuracy:  0.835\n",
      "2000 Train accuracy:  0.8644 Development accuracy:  0.835\n",
      "2200 Train accuracy:  0.8679 Development accuracy:  0.832\n",
      "2400 Train accuracy:  0.872 Development accuracy:  0.834\n",
      "2600 Train accuracy:  0.8769 Development accuracy:  0.835\n",
      "2800 Train accuracy:  0.8816 Development accuracy:  0.835\n",
      "3000 Train accuracy:  0.881 Development accuracy:  0.825\n",
      "3200 Train accuracy:  0.8901 Development accuracy:  0.831\n",
      "3400 Train accuracy:  0.8944 Development accuracy:  0.834\n",
      "3600 Train accuracy:  0.8982 Development accuracy:  0.837\n",
      "3800 Train accuracy:  0.9026 Development accuracy:  0.838\n",
      "4000 Train accuracy:  0.9048 Development accuracy:  0.841\n",
      "4200 Train accuracy:  0.9101 Development accuracy:  0.84\n",
      "4400 Train accuracy:  0.9058 Development accuracy:  0.829\n",
      "4600 Train accuracy:  0.913 Development accuracy:  0.836\n",
      "4800 Train accuracy:  0.9187 Development accuracy:  0.838\n",
      "5000 Train accuracy:  0.9218 Development accuracy:  0.838\n",
      "5200 Train accuracy:  0.926 Development accuracy:  0.837\n",
      "5400 Train accuracy:  0.9295 Development accuracy:  0.84\n",
      "5600 Train accuracy:  0.9346 Development accuracy:  0.84\n",
      "5800 Train accuracy:  0.9241 Development accuracy:  0.832\n",
      "6000 Train accuracy:  0.9368 Development accuracy:  0.841\n",
      "6200 Train accuracy:  0.9412 Development accuracy:  0.841\n",
      "6400 Train accuracy:  0.9457 Development accuracy:  0.841\n",
      "6600 Train accuracy:  0.9483 Development accuracy:  0.841\n",
      "6800 Train accuracy:  0.9518 Development accuracy:  0.842\n",
      "7000 Train accuracy:  0.9555 Development accuracy:  0.837\n",
      "7200 Train accuracy:  0.9475 Development accuracy:  0.84\n",
      "7400 Train accuracy:  0.9588 Development accuracy:  0.844\n",
      "7600 Train accuracy:  0.9617 Development accuracy:  0.839\n",
      "7800 Train accuracy:  0.9658 Development accuracy:  0.839\n",
      "8000 Train accuracy:  0.968 Development accuracy:  0.844\n",
      "8200 Train accuracy:  0.9707 Development accuracy:  0.839\n",
      "8400 Train accuracy:  0.9724 Development accuracy:  0.836\n",
      "8600 Train accuracy:  0.9635 Development accuracy:  0.838\n",
      "8800 Train accuracy:  0.9744 Development accuracy:  0.841\n",
      "9000 Train accuracy:  0.9771 Development accuracy:  0.837\n",
      "9200 Train accuracy:  0.9786 Development accuracy:  0.834\n",
      "9400 Train accuracy:  0.9809 Development accuracy:  0.84\n",
      "9600 Train accuracy:  0.9825 Development accuracy:  0.836\n",
      "9800 Train accuracy:  0.9844 Development accuracy:  0.838\n",
      "10000 Train accuracy:  0.9711 Development accuracy:  0.83\n",
      "Target values:\n",
      " [[0. 0. 0. 0. 0. 0. 0. 0. 0. 1.]\n",
      " [0. 0. 0. 0. 0. 0. 0. 0. 1. 0.]\n",
      " [0. 0. 0. 0. 0. 0. 0. 0. 1. 0.]\n",
      " [0. 0. 0. 1. 0. 0. 0. 0. 0. 0.]\n",
      " [1. 0. 0. 0. 0. 0. 0. 0. 0. 0.]\n",
      " [0. 0. 0. 0. 0. 1. 0. 0. 0. 0.]\n",
      " [0. 1. 0. 0. 0. 0. 0. 0. 0. 0.]\n",
      " [0. 0. 0. 1. 0. 0. 0. 0. 0. 0.]\n",
      " [0. 0. 0. 0. 0. 0. 1. 0. 0. 0.]\n",
      " [1. 0. 0. 0. 0. 0. 0. 0. 0. 0.]] \n",
      "Computed values:\n",
      " [[0. 0. 0. 0. 0. 1. 0. 0. 0. 0.]\n",
      " [0. 0. 0. 0. 0. 0. 0. 0. 0. 0.]\n",
      " [0. 0. 0. 0. 0. 0. 0. 0. 1. 0.]\n",
      " [0. 0. 0. 1. 0. 0. 0. 0. 0. 0.]\n",
      " [1. 0. 0. 0. 0. 0. 0. 0. 0. 0.]\n",
      " [0. 0. 0. 0. 0. 1. 0. 0. 0. 0.]\n",
      " [0. 1. 0. 0. 0. 0. 0. 0. 0. 0.]\n",
      " [0. 0. 0. 1. 0. 0. 0. 0. 0. 0.]\n",
      " [0. 0. 0. 0. 0. 0. 1. 0. 0. 0.]\n",
      " [0. 0. 0. 0. 0. 0. 0. 0. 0. 0.]]\n",
      "First 10 Predictions:  [False False  True  True  True  True  True  True  True False]\n",
      "Elapsed time:  64.17427062988281 secs.\n"
     ]
    }
   ],
   "source": [
    "baseline_results, baseline_time = run(10000)"
   ]
  },
  {
   "cell_type": "code",
   "execution_count": 17,
   "metadata": {},
   "outputs": [],
   "source": [
    "pd.to_pickle(baseline_results, \"baseline_results.pickle\")"
   ]
  },
  {
   "cell_type": "code",
   "execution_count": 13,
   "metadata": {},
   "outputs": [],
   "source": [
    "baseline_results = pd.read_pickle(\"baseline_results.pickle\")"
   ]
  },
  {
   "cell_type": "markdown",
   "metadata": {},
   "source": [
    "baseline reuslts are 97% for train accuracy and 82% for development accuracy\n",
    "\n",
    "time: 65seconds"
   ]
  },
  {
   "cell_type": "markdown",
   "metadata": {},
   "source": [
    "__Results with respect to one-hidden layer model:__ "
   ]
  },
  {
   "cell_type": "markdown",
   "metadata": {},
   "source": [
    "Train: $85\\% \\rightarrow 97\\%$; Development: $81\\% \\rightarrow 84\\%$; Final test: $87\\% \\rightarrow 90\\%$"
   ]
  },
  {
   "cell_type": "markdown",
   "metadata": {},
   "source": [
    "This deep model involves a total of __600 neurons__ distributed across three hidden layers, __instead of 1,000__ neurons in the just one-hidden layer model."
   ]
  }
 ],
 "metadata": {
  "kernelspec": {
   "display_name": "Python 3",
   "language": "python",
   "name": "python3"
  },
  "language_info": {
   "codemirror_mode": {
    "name": "ipython",
    "version": 3
   },
   "file_extension": ".py",
   "mimetype": "text/x-python",
   "name": "python",
   "nbconvert_exporter": "python",
   "pygments_lexer": "ipython3",
   "version": "3.5.2"
  }
 },
 "nbformat": 4,
 "nbformat_minor": 2
}
